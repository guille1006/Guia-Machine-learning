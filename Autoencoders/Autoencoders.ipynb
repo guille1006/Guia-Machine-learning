{
 "cells": [
  {
   "cell_type": "markdown",
   "id": "1584a450",
   "metadata": {},
   "source": [
    "# Autoencoders\n",
    "\n",
    "## Datos iniciales\n",
    "* $\\mathbf{x}$ = Entradas\n",
    "* $\\mathbf{r}$ = Reconstrucción de las entradas.\n",
    "* $\\mathbf{h}$ = Hidden layers\n",
    "\n",
    "Un **Autoencoder** es una red neuronal que ha sido entrenada para copiar sus entradas a sus salidas. Internamente, tiene una capa oculta ($\\mathbf{h}$) que describe un <u>código usado para representar su entrada</u>\n",
    "\n",
    "Tiene dos partes:\n",
    "* *Función de codificación*($f$): $\\mathbf{h}=f(x)$\n",
    "* *Función de decodificación*($g$): $\\mathbf{r}=g(\\mathbf{h})$\n",
    "\n",
    "Si nuestro autoencoder simplemente aprende a hacer esto: $g(f(\\mathbf{x}))=\\mathbf{x}$, entonces no sería útil."
   ]
  }
 ],
 "metadata": {
  "language_info": {
   "name": "python"
  }
 },
 "nbformat": 4,
 "nbformat_minor": 5
}
