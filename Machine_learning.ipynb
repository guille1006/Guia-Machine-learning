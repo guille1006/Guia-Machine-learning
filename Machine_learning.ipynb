{
 "cells": [
  {
   "cell_type": "markdown",
   "id": "e7c86e0d",
   "metadata": {},
   "source": [
    "<h1 style=\"text-align: center;\">Machine Learning</h1>\n",
    "<h1 style=\"text-align: right; font-size: 24px; margin-right: 10px;\">Guillermo Díaz Aguado</h1>"
   ]
  },
  {
   "cell_type": "markdown",
   "id": "0652f512",
   "metadata": {},
   "source": [
    "El **Machine Learning** o **Aprendizaje Automatico** es un campo de la inteligencia artificial que se centra en el **desarrollo de algoritmos y modelos** estadísticos que permiten a las máquinas aprender y mejorar su rendimiento en una tarea específica <span style=\"color: salmon;\">sin ser programadas explicitamente para ello</span>. Se basa en patrones e inferencias y no en programación directa\n",
    "* ¿Que significa que la **máquina aprenda**?: significa que su desempeño mejora con la experiencia y mediante el uso de datos, pese a que esta habilidad no estaba en su caracterización original.\n",
    "* ¿Que se consigue con las técnicas de Machine Learning?: Dotar a las máquinas de la capacidad de identificar patrones en datos masivos y elaborar predicciones.\n",
    "\n"
   ]
  }
 ],
 "metadata": {
  "language_info": {
   "name": "python"
  }
 },
 "nbformat": 4,
 "nbformat_minor": 5
}
