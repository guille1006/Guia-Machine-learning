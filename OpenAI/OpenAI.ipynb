{
 "cells": [
  {
   "cell_type": "markdown",
   "id": "ee3c5f76",
   "metadata": {},
   "source": [
    "<h1 style=\"text-align: center;\">OpenAI</h1>\n",
    "<h1 style=\"text-align: right; font-size: 24px; margin-right: 10px;\">Guillermo Díaz Aguado</h1>"
   ]
  },
  {
   "cell_type": "markdown",
   "id": "4ef1de4b",
   "metadata": {},
   "source": [
    "## Familias de modelos de OpenAI\n",
    "OpenAI ofrece una amplia variedad de modelos de Inteligencia Artificial, organizadas en distintas familias según sus capacidades principales. Esta clasificación permite elegir el modelo más adecuado para cada tipo de tarea, optimizando rendimiento, coste y precisión\n",
    "\n",
    "Recordatorio: `mini` nos indica que el número de parametros es menor.\n",
    "\n",
    "### Reasoning Models.\n",
    "Modelos especializados en tareas complejas y de multiples pasos. **Ideales para el razonamiento avanzado**\n"
   ]
  },
  {
   "cell_type": "markdown",
   "id": "dbecf121",
   "metadata": {},
   "source": [
    "# ChatCompletion Endpoint Basics\n",
    "## Introducción \n",
    "En este notebook lo que más me centraré es en el **ENDPOINT** de <u>ChatCompletion</u>\n",
    "\n",
    "## Configuración de la autenticación y Buenas prácticas\n",
    "Para poder usar la API de OpenAI debes autentificarte usando una clave API personal. Esta clave identifica y autoriza tus solicitudes hacia la plataforma de OpenAI. \n",
    "**Es fundamental saber usar esto porque tiene completo acceso a tu cuenta y a tu cuota de uso.**\n"
   ]
  },
  {
   "cell_type": "code",
   "execution_count": null,
   "id": "f108d780",
   "metadata": {},
   "outputs": [],
   "source": [
    "import openai\n",
    "print(openai.__version__)\n",
    "\n",
    "from openai import OpenAI"
   ]
  },
  {
   "cell_type": "markdown",
   "id": "d0fcb591",
   "metadata": {},
   "source": [
    "### Autentificación\n",
    "#### Autentificación directa (no recomendada)\n",
    "Podemos hacerlo mediante una cadena de texto normal, pero tendremos nuestro nombre de usuario y clave al descubierto en un texto plano. \n",
    "\n",
    "`client = OpenAI(api_key=\"sdfosifjsoeifjsioef\")`\n",
    "\n",
    "#### Uso de variables de entorno\n",
    "La forma más segura y profesional es guardar la clave como una variable de entorno en tu sistema o entorno de ejecución y luego leerla desde el código.\n",
    "* Paso 1. Definir la variable en tu sistema:\n",
    "`export OPENAI_API_KEY = \"fjoaiejfosfjsenfo\"`\n",
    "* Paso 2. Leerlo desde el código:\n",
    "`import os`\n",
    "`client = OpenAI(api_key=)`\n",
    "* Paso 3. Uso de `dotenv`\n"
   ]
  },
  {
   "cell_type": "code",
   "execution_count": null,
   "id": "313e6e70",
   "metadata": {},
   "outputs": [],
   "source": [
    "from dotenv import load_dotenv\n",
    "\n",
    "load_dotenv() # Coge las variables de entorno desde el .env"
   ]
  },
  {
   "cell_type": "markdown",
   "id": "3eeccd91",
   "metadata": {},
   "source": [
    "## Chatcompletion EndPoint\n",
    "El *Endpoint* de ChatCompletion permite establecer conversaciones ida y vuelta con los modelos preentrenados de OpenAI. Funciona tomando una serie de mensajes de entrada y un *prompt* del sistema, retornando un mensaje a la salida. Los pasos para llamarlo son: \n",
    "1. Configuración: Importa el packete de OpenAI e inicia el cliente\n",
    "2. Creación de una conversación: Utilizaremos el metodo `chat.completions.create` especificando el modelo y una lista de mensajes con la siguiente estructura (JSON):\n",
    "\n",
    "messages = [\n",
    "    {\"role\":\"system\", \"content\":\"Eres un asistente de posicionamiento web\"},\n",
    "    {\"role\":\"user\", \"content\":\"Como debería empezar a optimizar mi web para mejorar el ranking\"}\n",
    "]\n",
    "\n",
    "3. Estructura de la conversación: Cada mensaje es un diccionario que tiene dos partes -> Un rol y un contenido. Los roles pueden ser: \n",
    "    * \"system\" -> Mensaje del sistema. Este es opcional pero muy importante puesto que de él va a depender el comportamiento global de la conversación. \n",
    "        * Establece el tono inicial de para el asistente.\n",
    "        * Este diccionario se envía en cada prompt, por lo que es recomendable no hacerlo muy extenso.\n",
    "    * \"user\" -> Mensaje del usuario. Aquí es donde tu, como usuario puede preguntar e interactuar.\n",
    "    * \"assistant\" -> Mensaje del asistente. Esta es la respuesta de la IA\n",
    "4. Historial de la conversación. Es importante incluirlo, ya que las APIs en principio no tienen memoria, somos nosotros que se lo tenemos que estar mandando constantemente\n",
    "\n",
    "### Ejemplo de uso\n"
   ]
  },
  {
   "cell_type": "code",
   "execution_count": null,
   "id": "3182b7a7",
   "metadata": {},
   "outputs": [],
   "source": [
    "model = \"gpt-4.mini\"\n",
    "\n",
    "response = client.chat.completions.create(\n",
    "    model=model,\n",
    "    messages=[\n",
    "        {\"role\":\"system\", \"content\":\"eres un dinosaurio\"},\n",
    "        {\"role\":\"user\", \"content\":\"que tal estas\"}\n",
    "    ]\n",
    ")\n",
    "\n",
    "import pprint\n",
    "pprint.pp(response.choices[0].message.content)"
   ]
  },
  {
   "cell_type": "markdown",
   "metadata": {},
   "source": []
  }
 ],
 "metadata": {
  "language_info": {
   "name": "python"
  }
 },
 "nbformat": 4,
 "nbformat_minor": 5
}
