{
 "cells": [
  {
   "cell_type": "markdown",
   "id": "af2d9b26",
   "metadata": {},
   "source": [
    "NLP es un subcampo de la lingüística, informática e inteligencia artificial que se ocupa de las **interacciones entre las computadoras y los lenguajes humanos(naturales)**. \n",
    "\n",
    "### Aplicaciones populares.\n",
    "* **Análisis de Sentimientos**: clasifica publicaciones como positivas o negativas. \n",
    "* **Extracción de información**: Creación de datos estructurados a partir de documentos no extructurados, realciones en textos largos (noticicas).\n",
    "* **Traducción de textos**:  Textos es un idioma que son traducidos a otro idioma.\n",
    "* **Respuesta a preguntas**: Ademas de reconocer el texto, también buscan y dan respuestas. \n",
    "* **Resumen de texto**: Pueden resumir textos largos "
   ]
  }
 ],
 "metadata": {
  "language_info": {
   "name": "python"
  }
 },
 "nbformat": 4,
 "nbformat_minor": 5
}
