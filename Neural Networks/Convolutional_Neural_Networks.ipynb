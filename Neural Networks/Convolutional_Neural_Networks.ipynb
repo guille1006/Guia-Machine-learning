{
 "cells": [
  {
   "cell_type": "markdown",
   "id": "c3146b6c",
   "metadata": {},
   "source": [
    "<h1 style=\"text-align: center;\">Convolutional Neural Networks</h1>\n",
    "<h1 style=\"text-align: right; font-size: 24px; margin-right: 10px;\">Guillermo Díaz Aguado</h1>"
   ]
  },
  {
   "cell_type": "markdown",
   "id": "1e2e718b",
   "metadata": {},
   "source": [
    "# Introducción \n",
    "Las **redes neuronales convolucionales** son muy  similares a las *redes neuronales* solo que tiene multiples capas ocultas y un filtro llamado **convolution layer**. Las CNN son buenas para identificar caras, objetos, y elementos en imagenes."
   ]
  },
  {
   "cell_type": "markdown",
   "id": "8818437f",
   "metadata": {},
   "source": [
    "# Data\n",
    "Como los algoritmos de redes neuronales, estos trabajan con **datos numericos**, así que todas las muestras las debemos convertir en valores numericos.\n",
    "* *Imagenes*: Las imagenes suelen estar compuestas por (height, weight, color), el número de valores de entrada será $h*w*c$\n",
    "* *Texto*: RNN y LSTM son mejores soluciones."
   ]
  },
  {
   "cell_type": "markdown",
   "id": "e0b47706",
   "metadata": {},
   "source": [
    "# Arquitectura.\n",
    "Se compone de las siguientes capas:\n",
    "* Input layer\n",
    "* Hidden layers\n",
    "    * Convolution\n",
    "    * Pooling\n",
    "    * Flatten \n",
    "    * Fully conected \n",
    "    * Softmax layer"
   ]
  },
  {
   "cell_type": "markdown",
   "id": "17af2473",
   "metadata": {},
   "source": [
    "## Convolution \n",
    "La convolut"
   ]
  }
 ],
 "metadata": {
  "language_info": {
   "name": "python"
  }
 },
 "nbformat": 4,
 "nbformat_minor": 5
}
