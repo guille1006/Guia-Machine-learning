{
 "cells": [
  {
   "cell_type": "markdown",
   "id": "ab1f9e11",
   "metadata": {},
   "source": [
    "<h1 style=\"text-align: center;\">Recurrent Neural Network</h1>\n",
    "<h1 style=\"text-align: right; font-size: 24px; margin-right: 10px;\">Guillermo Díaz Aguado</h1>"
   ]
  },
  {
   "cell_type": "markdown",
   "id": "de719127",
   "metadata": {},
   "source": [
    "# Introducción.\n",
    "Las demás arquitecturas neuronales trabajadas son diseñadas para datos multidimensionales donde <u>no hay ningún orden</u> y <u>el numero de dimensiones está fijo</u>.\n",
    "Pero hay otros campos donde **el orden** es importante como:\n",
    "* *Time series*. Si cambiamos el orden temporal de los valores, se pierde el hilo. Un punto importante es que las observaciones son parecidas a la observacion anterior.\n",
    "* *Texto*. Debe seguir un orden para que la frase tenga sentido y el sentido que queremos darle. \n",
    "* *Biological data*. ADN...\n"
   ]
  }
 ],
 "metadata": {
  "language_info": {
   "name": "python"
  }
 },
 "nbformat": 4,
 "nbformat_minor": 5
}
