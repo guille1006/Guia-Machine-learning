{
 "cells": [
  {
   "cell_type": "markdown",
   "id": "ab1f9e11",
   "metadata": {},
   "source": [
    "<div style=\"font-size: 3em; font-weight: bold; text-align: center;\">Recurrent Neural Networks</div>\n",
    "<div style=\"text-align: right; font-size: 24px; margin-right: 10px;\">Guillermo Díaz Aguado</div>\n"
   ]
  },
  {
   "cell_type": "markdown",
   "id": "de719127",
   "metadata": {},
   "source": [
    "# Introducción.\n",
    "Las demás arquitecturas neuronales trabajadas son diseñadas para datos multidimensionales donde <u>no hay ningún orden</u> y <u>el número de dimensiones está fijo</u>.\n",
    "Pero hay otros campos donde **el orden** es importante como:\n",
    "* *Time series*. Si cambiamos el orden temporal de los valores, se pierde el hilo. Un punto importante es que las observaciones son parecidas a la observacion anterior.\n",
    "* *Texto*. Debe seguir un orden para que la frase tenga sentido y el sentido que queremos darle. \n",
    "* *Biological data*. ADN...\n",
    "\n",
    "Las **Redes Neuronales Recurrentes** son una familia especializada en **procesar datos secuenciales**. \n",
    "\n",
    "Para entender este tipo de redes neuronales debemos tener en cuenta una nueva idea: **Compartir parametros entre diferentes partes del modelo**. \n",
    "\n",
    "Una Red Neuronal Recurrente procesa las seceuncias mediante la iteración de los elementos de la secuencia y guardando un **estado** que contiene información de lo que ya se ha visto en los puntos anteriores de la secuencia.\n",
    "\n",
    "Las RNN tienen un **loop** que es donde se encuentra la recurrencia.\n",
    "El **estado** de las secuencias se resetea al procesar diferentes secuencias, así que podemos considerar cada secuencia como una entrada nueva."
   ]
  },
  {
   "cell_type": "markdown",
   "id": "acd716b3",
   "metadata": {},
   "source": [
    "## Definiciones iniciales:\n",
    "* Secuencia de datos: $\\mathbf{x}^{t}$\n",
    "    * Time step: $t$\n",
    "    * Secuencia que va desde 1 a $\\tau$"
   ]
  },
  {
   "cell_type": "markdown",
   "id": "cdc52803",
   "metadata": {},
   "source": [
    "# 1. Computational Graphs. \n",
    "## 1.1. Unfolding Computational Graphs.\n",
    "Un **gráfico computacional** es la forma de formalizar la estructura de un conjunto de computaciones. La idea de **desenvolver** una *computación recursiva o recurrente* en un gráfico computacional que tiene una estructura repetitiva, típicamente correspone a una *cadena de eventos*.\n",
    "\n",
    "Pongamos como ejemplo intuitivo de una función dinámica tradicional para entender la estructura de las RNN:\n",
    "$$\n",
    "s^{(t)}=f(s^{(t-1)}, x^{(t)};\\theta)\n",
    "$$\n",
    "Donde $x{(t)}$ es una señal externa.\n",
    "\n",
    "Si queremos saber como sería la función para un $\\tau =3$ la ecuación se quedaría:\n",
    "$$\n",
    "s^{(3)}=f(s^{(2)}, x^{(2)};\\theta)=f(f(s^{(1)}, x^{(1)};\\theta), x^{(2)};\\theta)\n",
    "$$\n",
    "\n",
    "Podemos dibujarlo como un gráfico, donde mi preferido es el izquierdo: \n",
    "<div style=\"text-align:center;\">\n",
    "    <img src=\"Imagenes_RNN/Grafico_RNN.png\">\n",
    "</div>\n"
   ]
  },
  {
   "cell_type": "markdown",
   "id": "1bee061f",
   "metadata": {},
   "source": [
    "## 1.2. Recurrent Neural Network Computational Graph.\n",
    "Algunos de los diseños de patrones más importantes para redes neuronales recurrentes son los siguientes:\n",
    "\n",
    "\n",
    "### 1.2.1 RNN Many-to-Many\n",
    "Redes recurrentes que producen una salida a cada paso y tiene conexiones recurrentes entre las neuronas ocultas. \n",
    "<div style=\"text-align:center;\">\n",
    "    <img src=\"Imagenes_RNN/RNN_Many_to_Many.png\">\n",
    "</div>\n",
    "\n",
    "* $\\mathbf(y)$: Target/Objetivo\n",
    "* $\\mathbf(L)$: Función de perdida\n",
    "* $\\mathbf(o)$: Capa de Salida\n",
    "    * $\\mathbf(V)$: Matriz de pesos de capa de salida\n",
    "* $\\mathbf(h)$: Capas ocultas\n",
    "    * $\\mathbf(W)$: Matriz de pesos de capas ocultas **con conexión recurrente**\n",
    "* $\\mathbf(x)$: Capa de Entrada\n",
    "    * $\\mathbf(U)$: Matriz de pesos de entrada. Suele ser matriz Unitaria\n",
    "\n",
    "En esta estructura, podemos ver que <u>conexiones recurrentes entre las conexiones ocultas</u> las cuales están parametrizadas por una matriz de pesos $\\mathbf(W)$.\n"
   ]
  },
  {
   "cell_type": "markdown",
   "id": "83012ae8",
   "metadata": {},
   "source": [
    "\n",
    "### 1.2.2 Output Feedback RNNs. Redes con retroalimentación de salida \n",
    "Redes recurrentes que producen una salida a cada paso y tiene conexiones recurrentes que proviene solo de la señal de salida y va hacía las neuronas ocultas.\n",
    "<div style=\"text-align:center;\">\n",
    "    <img src=\"Imagenes_RNN/RNN_Output_feedback.png\">\n",
    "</div>\n",
    "\n",
    "* $\\mathbf(y)$: Target/Objetivo\n",
    "* $\\mathbf(L)$: Función de perdida\n",
    "* $\\mathbf(o)$: Capa de Salida\n",
    "    * $\\mathbf(V)$: Matriz de pesos de capa de salida\n",
    "* $\\mathbf(h)$: Capas ocultas\n",
    "    * $\\mathbf(W)$: Matriz de pesos de capas ocultas **con conexión recurrente a la capa de salida anterior**\n",
    "* $\\mathbf(x)$: Capa de Entrada\n",
    "    * $\\mathbf(U)$: Matriz de pesos de entrada. Suele ser matriz Unitaria\n",
    "\n",
    "\n",
    "\n",
    "La red que solo tiene conexiones recurrentes desde la salida de el paso anterior a la capa oculta del siguiente paso es estrictamente menos poderosa porque no tinen conexiones recurrentes entre las capas ocultas.\n",
    "\n",
    "Como las capas oculatas no tienen recurrencia, se necesita que la capa de salida capture toda la información sobre el pasado, y esta información será usada para predecir el futuro. Pero como las salidas están entrenadas especificamente para coincidir con los *target*.\n",
    "\n",
    "La ventaja de eliminar la recurrencia de las capas ocultas es que los pasos de tiempo están desacoplados, por lo que se puede hacer el trabajo en paralelo.\n"
   ]
  },
  {
   "cell_type": "markdown",
   "id": "d11a9af5",
   "metadata": {},
   "source": [
    "\n",
    "### 1.2.3 RNN Many-to-One\n",
    "Redes recurrentes con conexiones recurrentes entre neuronas oculatas que leen la secuencia entera y devuleven una única salida.\n",
    "<div style=\"text-align:center;\">\n",
    "    <img src=\"Imagenes_RNN/RNN_Many_to_One.png\">\n",
    "</div>\n"
   ]
  },
  {
   "cell_type": "markdown",
   "id": "89d39431",
   "metadata": {},
   "source": [
    "### 1.2.4 Teacher forcing \n",
    "Los modelos que tienen conexiones recurrentes desde las capas de salida son entrenados con **teacher forcing**.\n",
    "\n",
    "**Teacher forcing** es un procedimiento donde en el proceso de entrenamiento, el modelo recibe como una entrada la salida verdadera de $y^t$ en el momento $t+1$.\n",
    "\n",
    "Este método proviene del *maximum likehood criterion*:\n",
    "$$\n",
    "\\text{log}p(y^1, y^2 | x^1, x^2)=\\text{log}p(y^2|y^1, x^1, x^2)+ \\text{log}p(y^1 | x^1, x^2)\n",
    "$$\n",
    "\n",
    "Podemos entender lo anterior como: el modelo está entrenado para maximizar la *probabilidad condicional* de y^2, sabiendo x^1, x^2, y^1. **Maximum likehood** especifica que durante el entrenamiento, en vez de usar nuestros propios valores de salida para la conexión recurrente, usaremos mejor el valor real de salida"
   ]
  },
  {
   "cell_type": "markdown",
   "id": "fd913542",
   "metadata": {},
   "source": [
    "## 1.3 Bidirectional RNNs\n",
    "Todas las RNN que hemos estudiado hasta ahora solo capturan información de entradas del pasado, ($x^{t-1}, x^{t-2} ...$), de entradas actuales ($x^t$) e incluso valores de *target* pasados ($y^{t-1}, y^{t-2} ...$). Pero habrá alguna ocasión donde querramos tener como entrada **toda la secuencia de entrada**. Por ejemplo: cuando intentamos reconocer un fonema al hablar, es útil saber que parte sigue de la palabra...\n",
    "\n",
    "Las **Bidirectional RNN** combinan una RNN que se mueva hacia delante en el tiempo, con otra RNN que se mueva marcha atras en el tiempo. Esto permite que las capas de salida computen una representación que dependa del pasado y del futuro."
   ]
  },
  {
   "cell_type": "markdown",
   "id": "62f0726f",
   "metadata": {},
   "source": [
    "## 1.4 Encoder-Decoder Sequence-to-Sequence\n",
    "La arquitectura *RNN encoder-decoder sequence-to-sequence*. Estará compuesta por:\n",
    "* **encoder/reader/input RNN** que procesa la secuencia de entrada.\n",
    "* El encoder da como salida un **contexto: C** que resumirá la secuencia de entrada.\n",
    "* **decoder/writer/output RNN** usará el contexto **C** como valores de entrada y nos generará una salida.\n",
    "\n",
    "La parte nueva de estas arquitecturas es que la <u> longitud de entrada no tiene por qué ser igual </u>\n"
   ]
  },
  {
   "cell_type": "markdown",
   "id": "d99ffbb6",
   "metadata": {},
   "source": [
    "## 1.5. Tipos de capas recurrentes"
   ]
  },
  {
   "cell_type": "markdown",
   "id": "be193e08",
   "metadata": {},
   "source": [
    "### LSTM\n",
    "Long Short Term Memory\n",
    "\n",
    "Este tipo de recurrencia ayuda a evitar el problema de [vanishing/exploding gradient](#23-the-vanishingexploding-gradient-problem), usando un canal de memoria \"común\" a cada iteracción.\n",
    "\n",
    "La idea principal es que usaremos dos canales:\n",
    "* **Short Term Memories**. Un canal de recurrencia entre todas las salidas de las capas oucltas. Llamado **Hidden State**. Este canal tiene *weights* y *bias* que pueden modificar su valor. \n",
    "* **Long Term Memories**. Un canal común que lleve la memoria de todas las interacciones. Llamado **Cell State**. Este canal no tiene *weights* ni *bias*, solo lleva la información que se le es añadida. La falta de estos parametros permite a las memorias fluir por toda la serie sin que le afecte el problema del gradiente explosivo/desvanecido\n",
    "<div style=\"text-align:center;\">\n",
    "    <img src=\"Imagenes_RNN/LSTM_canales.png\" width=\"60%\">\n",
    "</div>\n",
    "\n",
    "Se dividirá en 5 pasos:\n",
    "<div style=\"text-align:center;\">\n",
    "    <img src=\"Imagenes_RNN/LSTM_esquema.png\" width=\"60%\">\n",
    "</div>\n",
    "\n",
    "La línea verde de arriba representa el **Cell State** o la memoria a largo plazo. Como hemos dicho antes, no tiene ni pesos ni bias, es por ello que fluye la información de todos los pasos. Pero aunque no tenga estos parametros, no significa que ese valor se pase sin ser modificado, a medida que pasa por cada paso se va reevaluando el valor que lleva esta linea.\n",
    "\n",
    "La línea rosa representa el **Hidden State** o la memoria a corto plazo, la cuál si será modificada por pesos y bias. \n",
    "\n",
    "Por último veremos que hay funciones de activación.\n",
    "* La función *sigmoide* será usada para aplanar la entrada y como nos da valores entre 0 y 1, serán usadas para todas las opercaciones relacionadas con porcentajes. \n",
    "* La función *tanh* también aplanará la entrada y como nos da valores entre -1 y 1, serán usadas para las operaciones que se utilicen para sumar valores. Así si la entrada es muy pequeña, el valor sumado será negativo."
   ]
  },
  {
   "cell_type": "markdown",
   "id": "a8980a99",
   "metadata": {},
   "source": [
    "#### El porcentaje que recordaremos. -> Forget Gate \n",
    "<div style=\"text-align:center;\">\n",
    "    <img src=\"Imagenes_RNN/LSTM_record_longterm.png\" height=\"500px\">\n",
    "</div>\n",
    "\n",
    "Para determinar cuanto porcentaje de la memoria a largo plazo vamos a necesitar, usaremos una función lineal donde las entradas serán la memoria a corto plazo y los valores de entrada de la variable independiente. Después le aplicaremos la función *sigmoide* para tener el **% Long-Term to Remember**. \n",
    "\n",
    "#### Actualización de la memoria a largo plazo. -> Input Gate\n",
    "<div style=\"text-align:center;\">\n",
    "    <img src=\"Imagenes_RNN/LSTM_update_longterm.png\" height=\"500px\">\n",
    "</div>\n",
    "\n",
    "Como vemos tenemos dos bloques. \n",
    "* Bloque verde: Combina el termino a corto plazo y la entrada para crear el **% Potential Memory to remember**\n",
    "* Bloque naranja: Combina el termino a corto plazo y la entrada para crear un **Potential Long Term Memory**\n",
    "\n",
    "Multiplicamos ambos bloques para sumarselo al término a largo plazo. Consiguiendo así el **New Long-Term Memory** \n",
    "\n",
    "#### Actualización de la memoria a corto plazo. -> Input Gate\n",
    "<div style=\"text-align:center;\">\n",
    "    <img src=\"Imagenes_RNN/LSTM_update_sortterm.png\" height=\"500px\">\n",
    "</div>\n",
    "\n",
    "Tendremos el primer bloque que determinará el **% Potential Memory to remember** que usará la memoria a corto plazo y la entrada.\n",
    "El bloque rosa nos dirá el **Potential Short Term Memory** que usará la nueva memoria a largo plazo. \n",
    "\n",
    "Al multiplicar ambos valores tendremos el **New Short-Term Memory** y la **Output** de esta capa. Por lo que ambos valores son el mismo, y cuadra con lo visto en las capas recursivas\n",
    "\n",
    "\n",
    "<div style=\"text-align:center;\">\n",
    "    <img src=\"Imagenes_RNN/LSTM_resumen.png\" height=\"500px\">\n",
    "</div>\n"
   ]
  },
  {
   "cell_type": "markdown",
   "id": "17d5d03b",
   "metadata": {},
   "source": [
    "### GRU\n",
    "Primera vez que se nombra este tipo de RNN: [Kyunghyun Cho](https://arxiv.org/abs/1406.1078)\n",
    "\n",
    "* $r$: reset gate.\n",
    "* $z$: update gate.\n",
    "* $\\sigma$: Función de activación.\n",
    "* $[.]_j$: indica el jth elemento.\n",
    "* $\\textbf{x}$: el input\n",
    "* $\\textbf{h}_{t-1}$: Estado previo de la capa oculta.\n",
    "* $\\textbf{W}$: Matriz de Pesos.\n",
    "* $\\textbf{U}$: Matriz de Pesos.\n",
    "\n",
    "En este tipo de algorítmos tendremos varios estados:\n",
    "* *Update Gate* $z$:\n",
    "    * Selecciona si $\\textbf{h}$ debe ser actualizado con un nuevo hidden state $\\widetilde{h}$\n",
    "\n",
    "* *Reset Gate* $r$\n",
    "    * Abierto: Ignora el *previous hidden state*\n",
    "    * Cerrado: Usa el *previous hidden state*\n",
    "\n",
    "<div style=\"text-align:center;\">\n",
    "    <img src=\"Imagenes_RNN/GRU.png\" height=\"200px\">\n",
    "</div>\n",
    "\n",
    "#### Update Gate\n",
    "\n",
    "La *update gate* controla cuanta información del *previous hidden state* se llevará al *current hidden state*. Funciona como una célula de memoria que es capaz de recordar *long-term information*\n",
    "\n",
    "$$\n",
    "\\textit{z}_j = \\sigma([\\textbf{W}_{\\textit{z}}\\textbf{x}]_j+[\\textbf{U}_z\\textbf{h}_{t-1}]_j)\n",
    "$$\n",
    "\n",
    "\n",
    "\n",
    "#### Reset Gate\n",
    "\n",
    "Cuando la *reset gate=0*: el *hidden state* está forzado a ignorar el *previous hidden state* y resetearse con el input actual. Con esto conseguimos que se **drop** la informaxión irrelevante.\n",
    "\n",
    "$$\n",
    "\\textit{r}_j = \\sigma([\\textbf{W}_{\\textit{r}}\\textbf{x}]_j+[\\textbf{U}_r\\textbf{h}_{t-1}]_j)\n",
    "$$\n",
    "\n",
    "\n",
    "#### Funcionamiento general.\n",
    "\n",
    "Entonces con las dos puertas, la función de activación para cada unidad oculta será:\n",
    "$$\n",
    "h^{t}_j = z_jh_j^{t-1}+(1-z_j)\\widetilde{h}_j^t\n",
    "$$\n",
    "Donde $\\widetilde{h}$ es:\n",
    "$$\n",
    "\\widetilde{h}^t_j = \\phi ([\\textbf{Wx}]_j+[\\textbf{U}(\\textbf{r}\\odot \\textbf{h}_{t-1})]_j)\n",
    "$$\n",
    "Como cada *hidden unit* tiene su respectiva hidden gate y reset gate, cada una será capaz de capturar dependencias en distintos *time scales*.\n",
    "* Aquellas que son capaces de aprender *short-term dependencies* suelen tener *reset gates* que son más activas.\n",
    "* Aquellas que son capaces de aprender *long-term dependencies* tendrán sus *update gates* más activas."
   ]
  },
  {
   "cell_type": "markdown",
   "id": "96e714c6",
   "metadata": {},
   "source": [
    "# 2. Principios matemáticos"
   ]
  },
  {
   "cell_type": "markdown",
   "id": "da8262e2",
   "metadata": {},
   "source": [
    "## 2.3 The Vanishing/exploding gradient problem.\n",
    "* Exploding problem: Ocurre cuando en la recurrencia usamos unos pesos mayores que 1, haciendo que cada vez la señal de recurrencia sea mayor, teniendo cada vez mas importancia en las entradas recurrentes.\n",
    "* Vanishing problems: Ocurre cuando en las recurrencias usamos unos pesos muy bajos, haciendo que se vaya perdiendo la información de momentos pasados."
   ]
  },
  {
   "cell_type": "markdown",
   "id": "5bcb1de3",
   "metadata": {},
   "source": [
    "## 2.4 Overfitting"
   ]
  },
  {
   "cell_type": "markdown",
   "id": "017f0bc1",
   "metadata": {},
   "source": [
    "### Dropout para RNN\n",
    "`recurrent_dropout`\n",
    "\n",
    "Hay que tener cuidado con poner una capa recurrente con un `Dropout`. Puesto que se sabe que aplicar un dropout antes de una capa recurrente obstaculiza el proceso de aprendizaje. \n",
    "\n",
    "Una mejor forma de usar `dropout` en las capas recurrentes es **usando el mismo patrón de unidades/neuronas eliminidas**: `dropout mask` para cada *timestep*. Es más, para regularizar las representaciones formadas por las puertas recurrentes, una *temporal dropout mask* se deberían aplicar a las activaciones recurrentes internas de la capa. \n",
    "\n",
    "Usando la misma *dropout mask* a todas las *timesteps* permite a la red que se propague correctamente el *learning rate*\n",
    "\n",
    "Para implementarlo: [dropout](#dropout-y-recurrent_dropout)"
   ]
  },
  {
   "cell_type": "markdown",
   "id": "ef391b3c",
   "metadata": {},
   "source": [
    "# 3. Uso en Keras"
   ]
  },
  {
   "cell_type": "markdown",
   "id": "5e56d171",
   "metadata": {},
   "source": [
    "## 3.1 Capas Recurrentes\n",
    "Todas las capas recurrentes en Keras se pueden procesar de dos modos distintos. Para elegir entre estos dos modos debemos modificar el atributo `return_sequences`:\n",
    "\n",
    "* `return_sequences=TRUE`: Como secuencia de outputs sucesivas para cada paso -> Un tensor de rank-3 de forma (batch_size, timesteps, output_features)\n",
    "* `return_sequences=False`: Devuelve solo la última salida para cada secuencia de entrada -> Un tensor de rank-2 de la forma (batch_size, output_features)\n",
    "\n"
   ]
  },
  {
   "cell_type": "markdown",
   "id": "536641ad",
   "metadata": {},
   "source": [
    "### `SimpleRNN`\n",
    "Red Recurrente donde la salida de esta capa será también entrada para esta misma capa en el siguiente paso.\n",
    "* `nodos`: Número de nodos que tendrá la capa.\n",
    "* `activation`: Función de activación.\n",
    "\n",
    "En general, este tipo de capas es demasiado simple para ser usada. `SimpleRNN` tiene un gran problema, y es que aunque teoricamente debería ser capaz de retener la información de pasos que han pasado hace mucho, estas *long-term dependencies* son casi imposibles de aprender. Esto es debido al [Vanishing/exploding gradient problem](#23-the-vanishingexploding-gradient-problem)"
   ]
  },
  {
   "cell_type": "markdown",
   "id": "bc1a897d",
   "metadata": {},
   "source": [
    "### `LSTM`\n",
    "Long Short-Term Memory (LSTM). Es una variante "
   ]
  },
  {
   "cell_type": "markdown",
   "id": "c2d57e6b",
   "metadata": {},
   "source": [
    "### `Bidirectional`\n",
    "Este objeto tendrá como primer argumento una instacia de una capa recurrente. El propio objeto `Bidirectional` creará una instancia separada de la capa introducida como argumento, una procesará los datos de forma cronológica y la otra en orden revertido\n",
    "\n",
    "x = layers.Bidirectional(layers.LSTM(16))(inputs)"
   ]
  },
  {
   "cell_type": "markdown",
   "id": "6c3f7adc",
   "metadata": {},
   "source": [
    "### 3.2.2 Parámetros de los Objetos en keras\n"
   ]
  },
  {
   "cell_type": "markdown",
   "id": "2290a7ef",
   "metadata": {},
   "source": [
    "\n",
    "### `dropout` y `recurrent_dropout`\n",
    "Todas las capas recurrentes de Keras tienen dos argumentos relacionados con el **dropout**:\n",
    "* `dropout`: Fracción de las neuronas que se van a *drop* de manera aleatoria para la transformación lineal.\n",
    "* `recurrent_dropout`: Fracción de las unidades(neuronas) que se van a *drop* para todas las muestras (serán siempre las mismas) para la transformación lineal.\n",
    "\n",
    "    *recurrent_dropout* no está soportado por cuDNN kernel, ver info en [RNN runtime performance](#rnn-runtime-performance)\n",
    "\n",
    "    Para mas info sobre el dropout en las capas recurrentes: [dropout en RNN](#dropout-para-rnn)\n"
   ]
  },
  {
   "cell_type": "markdown",
   "id": "2b31949f",
   "metadata": {},
   "source": [
    "\n",
    "#### `unroll`\n",
    "Es un parametro de las capas que desenvuelve un bucle *for* de las redes recurrentes y lo linealiza, consiguiendo así que se puede paralelizar las tareas. \n",
    "* `unroll=False` (por defecto)\n",
    "* `unroll=True`: Habilita el desenrollar.\n",
    "\n",
    "Este proceso solo es viable si:\n",
    "* Pequeñas secuencias: alrededor de 100 o menos.\n",
    "* En la capa `Input` no se puede pasar un `shape=None`"
   ]
  },
  {
   "cell_type": "markdown",
   "id": "548b78f9",
   "metadata": {},
   "source": [
    "## 3.3 RNN runtime performance\n",
    "RNN con pocos parámetros tienden a ser más rápidos en una CPU que en una GPU, puesto que tiene pocos cálculos que hacer de forma paralela. \n",
    "\n",
    "Para que Tensorflow pueda hacer estos procesos en paralelo, depende de un **cuDNN kernel**. Este es una bendición y una maldición: son rápidos pero inflexibles. Si haces algo que no soporte, hará que procesemos el código con la implementación normal de Tensorflow (el cual es 2-5 veces más lento).\n",
    "\n",
    "Usualmente podremos usar cuDNN kernels si nuestro modelo es sencillo y no tiene muchos parámetros. \n",
    "\n",
    "En caso de usar alguno de los siguientes parámetros tendremos que que intentar el [unroll](#unroll):\n",
    "* recurrent_dropout\n",
    "\n"
   ]
  },
  {
   "cell_type": "markdown",
   "id": "f7628d77",
   "metadata": {},
   "source": [
    "## 3.4 Dataset de ejemplo.\n"
   ]
  },
  {
   "cell_type": "code",
   "execution_count": 2,
   "id": "5a8927c8",
   "metadata": {},
   "outputs": [],
   "source": [
    "import urllib.request\n",
    "import zipfile\n",
    "\n",
    "# Descargar el archivo ZIP\n",
    "url = \"https://s3.amazonaws.com/keras-datasets/jena_climate_2009_2016.csv.zip\"\n",
    "filename = \"jena_climate_2009_2016.csv.zip\"\n",
    "urllib.request.urlretrieve(url, filename)\n",
    "\n",
    "# Descomprimir el archivo\n",
    "with zipfile.ZipFile(filename, 'r') as zip_ref:\n",
    "    zip_ref.extractall()"
   ]
  },
  {
   "cell_type": "code",
   "execution_count": 4,
   "id": "02a82417",
   "metadata": {},
   "outputs": [
    {
     "data": {
      "image/png": "[encoded data removed]",
      "text/plain": [
       "<Figure size 640x480 with 1 Axes>"
      ]
     },
     "metadata": {},
     "output_type": "display_data"
    }
   ],
   "source": [
    "# Leemos el fichero\n",
    "import os\n",
    "fname = os.path.join(\"jena_climate_2009_2016.csv\")\n",
    "\n",
    "with open(fname) as f:\n",
    "    data = f.read()\n",
    "\n",
    "lines = data.split(\"\\n\")\n",
    "header = lines[0].split(\",\")\n",
    "lines = lines[1:]\n",
    "\n",
    "# Guardamos los datos en variables\n",
    "import numpy as np\n",
    "\n",
    "temperature = np.zeros((len(lines),))\n",
    "raw_data = np.zeros((len(lines), len(header) - 1))\n",
    "for i, line in enumerate(lines):\n",
    "    values = [float(x) for x in line.split(\",\")[1:]]\n",
    "    temperature[i] = values[1]\n",
    "    raw_data = values[:]\n",
    "\n",
    "# Graficamos los datos\n",
    "import matplotlib.pyplot as plt\n",
    "\n",
    "plt.plot(range(len(temperature)), temperature)\n",
    "\n",
    "# Dividimos en train-val-test\n",
    "## Lo hacemos de este método puesto que queremos la secuencia del 50% primero del dataset\n",
    "num_train_samples = int(0.5 * len(raw_data))\n",
    "num_val_samples = int(0.25 * len(raw_data))\n",
    "num_test_samples = len(raw_data) - num_train_samples - num_val_samples\n",
    "\n"
   ]
  },
  {
   "cell_type": "markdown",
   "id": "6ed9837f",
   "metadata": {},
   "source": [
    "Nuestro problema será el siguiente: Teniendo los datos de 5 días anteriores, con muestra cada hora, ¿Podremos predecir la temperatura 24h después?\n",
    "\n",
    "Usaremos el objeto de keras `timeseries_to_dataset_from_array()`\n",
    "\n",
    "Lo que hace este objeto es dividir en secuencias el array que hayamos introducido, además cada secuencia tendrá como *target* el valor que seguiría a esta.\n",
    "* `sampling_rate`: Número de observaciones que usaremos de cada x muestras. Ejemplo: si ponemos un *sample_rate* de 3, usaremos 1 de cada 3 muestras en orden.\n",
    "* `sequence_lenght`: Número de observaciones que tendrá cada secuencia."
   ]
  },
  {
   "cell_type": "code",
   "execution_count": null,
   "id": "509618f8",
   "metadata": {},
   "outputs": [],
   "source": [
    "# Normalizamos los datos.\n",
    "from tensorflow.keras import layers\n",
    "inputs = layers.Input(shape=)\n",
    "\n",
    "# Iniciamos training, validation y test\n",
    "from tensorflow import keras\n",
    "from tensorflow.keras import layers\n",
    "\n",
    "sampling_rate = 6\n",
    "sequence_length = 120\n",
    "delay = sampling_rate*(sequence_length + 24 - 1)\n",
    "batch_size = 256\n",
    "\n",
    "train_dataset = keras.utils.timeseries_datset_from_array(\n",
    "    raw_data[:-delay],\n",
    "    targets=temperature[delay:],\n",
    "    sampling_rate=sampling_rate,\n",
    "    sequence_length=sequence_length,\n",
    "    shuffle=True,\n",
    "    batch_size=batch_size,\n",
    "    start_index=0,\n",
    "    end_index=num_train_samples)\n",
    "\n",
    "val_dataset = keras.utils.timeseries_dataset_from_array(\n",
    "    raw_data[:-delay],\n",
    "    targets=temperature[delay:],\n",
    "    sampling_rate=sampling_rate,\n",
    "    sequence_length=sequence_length,\n",
    "    shuffle=True,\n",
    "    batch_size=batch_size,\n",
    "    start_index=num_train_samples,\n",
    "    end_index=num_train_samples+num_val_samples)\n",
    "\n",
    "test_dataset = keras.utils.timeseries_dataset_from_array(\n",
    "    raw_data[:-delay],\n",
    "    targets=temperature[delay:],\n",
    "    sampling_rate=sampling_rate,\n",
    "    sequence_length=sequence_length,\n",
    "    shuffle=True,\n",
    "    batch_size=batch_size,\n",
    "    start_index=num_train_samples+num_val_samples,\n",
    "    end_index=len(raw_data))\n"
   ]
  },
  {
   "cell_type": "markdown",
   "id": "d17ad455",
   "metadata": {},
   "source": [
    "Esto nos devolverá una *tupla* de `(samples, targets)` donde tendremos 256 *tuplas* (debidas al bacth_size), dentro las samples serán de tamaño 120 (debido a sequence_length). Como tenemos shuffle, entonces la tupla 1 no tiene por qué estar cerca temporalmente a la tupla 2."
   ]
  },
  {
   "cell_type": "code",
   "execution_count": null,
   "id": "0ca80dcd",
   "metadata": {},
   "outputs": [],
   "source": [
    "# Vamos a probar un modelo simple\n",
    "inputs = keras.Input(shape=(sequence_length, raw_data.shape[-1]))\n",
    "flat = layers.Flatten()(inputs)\n",
    "hidden_1 = layers.Dense(16, activation=\"relu\")(flat)\n",
    "outputs = layers.Dense(1)(hidden_1)\n",
    "model = keras.Model(inputs=inputs, outputs=outputs)\n",
    "\n",
    "# Pondremos un callback para guardar la mejor perfomance\n",
    "callbacks = [\n",
    "    keras.callbacks.ModelCheckpoint(\"jena_dense.keras\",\n",
    "                                    save_best_only=True)\n",
    "]\n",
    "\n",
    "model.compile(optimizer=\"rmsprop\", loss=\"mse\", metrics=[\"mae\"])\n",
    "history = model.fit(train_dataset, epochs=10, validation_data=val_dataset, callbacks=callbacks)\n",
    "\n",
    "# Vamos a graficar el error en test y en val\n",
    "loss = history.history[\"mae\"]\n",
    "val_loss = history.history[\"val_mae\"]\n",
    "epochs = range(1, len(loss) + 1)\n",
    "plt.figure()\n",
    "plt.plot(epochs, loss, \"bo\", label=\"Training MAE\")\n",
    "plt.plot(epochs, val_loss, \"b\", label=\"Validation MAE\")\n",
    "plt.title(\"Training and validation MAE\")\n",
    "plt.legend()\n",
    "plt.show()\n",
    "\n",
    "# Como veremos en la gráfica, no se consigue unos resultados muy buenos. Ya que si usasemos como predicción la media, entonces tendiramos un error de 2,5ºC\n"
   ]
  }
 ],
 "metadata": {
  "kernelspec": {
   "display_name": "Python 3",
   "language": "python",
   "name": "python3"
  },
  "language_info": {
   "codemirror_mode": {
    "name": "ipython",
    "version": 3
   },
   "file_extension": ".py",
   "mimetype": "text/x-python",
   "name": "python",
   "nbconvert_exporter": "python",
   "pygments_lexer": "ipython3",
   "version": "3.12.2"
  }
 },
 "nbformat": 4,
 "nbformat_minor": 5
}
