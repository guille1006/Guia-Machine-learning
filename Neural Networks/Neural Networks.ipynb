{
  "cells": [
    {
      "cell_type": "markdown",
      "metadata": {
        "id": "3R1ocluBF2u_"
      },
      "source": [
        "<h1 style=\"text-align: center;\">Neural Networks</h1>\n",
        "<h1 style=\"text-align: right; font-size: 24px; margin-right: 10px;\">Guillermo Díaz Aguado</h1>"
      ]
    },
    {
      "cell_type": "markdown",
      "metadata": {
        "id": "siabz9ySF2vB"
      },
      "source": [
        "## Introducción\n",
        "La idea central es extraer combinaciones lineales de las entradas como **features derivadas**, y luego modelizar el target como una función no lineal de esas features.\n",
        "<div style=\"text-align:center;\">\n",
        "    <img src=\"Imagenes_Neural_Network/NN Training summary.png\">\n",
        "</div>\n",
        "\n",
        "*Deep learning* está inspirado en las funciones del cerebro, tal y como está interconectadas las neuronas en el cerebro, las redes neuronales funcionan de una manera parecida. \n",
        "\n",
        "### Definiciones iniciales:\n",
        "* Neuron/Nodo: Elemento que alamcena un número. Generalmente un valor entre 0 y 1\n",
        "* Layer/Capa: Es un conjunto de neuronas que aplican una operación matemática específica (como una transformación lineal seguida de una función de activación) sobre su entrada, y cuyo resultado se transmite a la siguiente capa.\n",
        "    * Input Layer/ Capa de Entrada: Son los datos de las variables independientes\n",
        "    * Hidden Layer / Capas Ocultas: Son las capas intermedias donde se realizan los cálculos para entender el modelo.\n",
        "        * La **profundidad** indica el número de capas ocultas que tiene el modelo.\n",
        "        * Los cálculos se realizan con:\n",
        "            * Los **weights/pesos**: $\\alpha$\n",
        "            * Los **bias/sesgos**: $\\alpha_0$\n",
        "            * La **función de activación**: $\\sigma$\n",
        "            * ***p***: número de componentes de *X*, su rango es 1,..., p\n",
        "            * ***K***: número de valores de salida, su rango es -> k= 1,...,K\n",
        "            * ***M***: número de nodos en una capa, su rango es -> m= 1,...,M"
      ]
    },
    {
      "cell_type": "markdown",
      "metadata": {
        "id": "6u88GI-lF2vC"
      },
      "source": [
        "## Projection Pursuit Regression\n",
        "Como todos los problemas de aprendizaje supervisado, tenemos un vector de entrada X con *p* variables independientes y un target *y*. Usaremos unos pesos $\\omega_m$ siendo $m=1,2,...,p$. El *Prjection Pursuit Regression* PPR tendrá la forma:\n",
        "$$\n",
        "f(X)=\\sum_{m=1}^{p}g_m(\\omega_{m}^TX)\n",
        "$$\n",
        "Donde muchas veces para simplificar usaremos:\n",
        "$$\n",
        "V_m = \\omega_{m}^TX\n",
        "$$\n",
        "\n",
        "La función $g_m(\\omega_{m}^TX)$ es llamada la *ridge function* in el espacio $\\mathbb{R}^p$\n",
        "\n"
      ]
    },
    {
      "cell_type": "markdown",
      "metadata": {
        "id": "ZXvfq9y8F2vC"
      },
      "source": [
        "# Neural Network\n",
        "Actualmente el nombre de red neural ha derivado en una gran cantidad de modelos y metodos de aprendizaje. Por ahora vamos a describir el modelo mas sencillo y basico (el modelo mas \"vanilla\") llamado tambien como el Perceptron de una capa oculta o the single layer back-propagation network. Usualmente son vistos como una especie de magia que proviene de los ordenadores, pero realmente se puede ver como modelos estadíticos no lineales.\n",
        "\n",
        "Son usados para problemas de clasificación y de regresión, en el caso de tener un problema de regresión nuestra capa fianl estará compuesta por un único nodo que nos indicará el resultado, en cambio si es un problema de clasificación con *k* posibles valores nuestra capa final estará compuesta por *k* nodos, donde cada uno tendrá su posibilidad de ser.\n",
        "\n",
        "Empezaremos con los nodos de nuestras variables independientes: $X^n$, todos estos nodos de inicio pasarán sus valores a cada uno de los nodos de la siguiente capa de nuestra red, dentro de cada nodo interno se calculará el valor de estos nodos internos como una función lineal de la capa anterior, nosotros lo llamaremos $Z_m$ donde *m* será el número de nodos de la capa\n",
        "$$\n",
        "\\begin{align*}\n",
        "Z_m &= \\sigma(\\alpha_{0m}+ \\alpha_{m}^{T}X) && Z_m: \\text{Variable derivada} \\\\\n",
        "&                                          && \\sigma: \\text{Función de activación} \\\\\n",
        "&                                          && \\alpha_{0m}: \\text{bias} \\\\\n",
        "&                                          && \\alpha_{m}^{T}: \\text{Peso para el nodo m de la capa T} \\\\\n",
        "\\end{align*}\n",
        "$$\n",
        "* La **función de activación $\\sigma(v)$** será aquella que usaremos para hacer que los valores de cada nodo varien entre 0 y 1.\n",
        "* Realmente cada nodo asocia a los nodos anteriores un *bias*, pero como al final es una función lineal de la capa anterior, podemos juntar los *bias* como un único valor.\n",
        "\n"
      ]
    },
    {
      "cell_type": "markdown",
      "metadata": {
        "id": "RliHOeF1F2vC"
      },
      "source": [
        "Las unidades en la parte central de la red son llamadas *hidden unitis*, porque los valores de $Z_m$ no son observados directamente. Podemos imaginar los valores de $Z_m$ como una *expansión de las bases* de las entradas originales X; la **red neuronal** es entonces un modelo lineal estándard, o un modelo multilogistico lineal (usando estas transformaciones como entradas). Pero hay una mejora: en este caso los parametros de la función base son <u> aprendidos desde los datos</u>.\n",
        "Es por ello que, si la función de activación $\\sigma$ fuese la *función identidad*, entonces el modelo complpeto colapsaría en un modelo lineal.\n",
        "\n",
        "De tal forma, una red neuronal se puede describir como una generalización **no-lineal** de un modelo lineal mediante la introducción de la función de activación $\\alpha$"
      ]
    },
    {
      "cell_type": "markdown",
      "metadata": {
        "id": "EyomJu5nF2vD"
      },
      "source": [
        "## Fitting Neural Networks\n",
        "Las redes neuronales en un principio tienen parametros desconocidos: los **weights(pesos)**, es nuestro trabajo encontrar valores para estos pesos, y conseguir que el modelo encaje bien con los datos de entrenamiento.\n",
        "Tendremos nuestro set completo de pesos de la siguiente manera:\n",
        "$$\n",
        "\\begin{align*}\n",
        "{\\alpha_{0m}, \\alpha_m; m=1,2,\\dots, M}&\\quad M(p+1) weights \\\\\n",
        "{\\beta_{0k}, \\beta_k; k=1,2,\\dots,K} &\\quad K(M+1) weights\\\\\n",
        "\\end{align*}\n",
        "$$\n",
        "\n",
        "* Para regresión, usaremos el SSE *sum-of-squared errors* como nuestra medida de encaje (**función de error**)\n",
        "$$\n",
        "R(\\theta)=\\sum_{k=1}^K\\sum_{i=1}^N(y_{ik}-f_k(x_i))^2\n",
        "$$\n",
        "\n",
        "* Para clasificación podemos usar *squared error* o *cross-entropy* como **función de error**:\n",
        "$$\n",
        "R(\\theta)=\\sum_{k=1}^K\\sum_{i=1}^Ny_{ik}\\text{log}f_k(x_i)\n",
        "$$\n",
        "\n",
        "De forma general no queremos el **minimo global de $R(\\theta)$**, ya que es muy probable que nos de una solución <u>sobreajustada</u>. Para que no se dé el sobreajuste podremos hacerlo de varias formas:\n",
        "* De manera directa: Con un **término de penalización**\n",
        "* De manera indirecta: Con un **early stopping**\n",
        "\n"
      ]
    },
    {
      "cell_type": "markdown",
      "metadata": {
        "id": "dhPQg8cAF2vD"
      },
      "source": [
        "# Algunos problemas entrenando Redes Neuronales.\n",
        "Entrenar una red neuronal es casi un arte. Los modelos generalmente están sobreparametrizados, y el problema de la optimización es *no-convexo* e *inestable*, por ello algunas reglas deben aplicarse. Son las siguientes reglas:\n",
        "\n",
        "## Valores iniciales.\n",
        "Supongamos que iniciamos los pesos (y todos los parametros del modelo) con un valor igual a 0. Debido a como se realiza el **gradient descent**, muchas veces podemos toparnos con zonas concavas que dan a un mínimo local, el cuál puede estar lejos de la solución. Al ser un mínimo, es gradient descent no nos da ninguna dirección de adonde seguir, quedandonos estancados en una cuenca con un mínimo local.\n",
        "La mejor forma es realizar varios cálculos del modelo, donde los <u> valores inicales de los parametros del modelo son elegidos aleatoriamente</u>\n",
        "Uno deberá probar con unos cuantos *puntos iniciales aleatorios*, y elegir aquel que dé la solución menos penalizada. Aunque una solción mas acertada es elegir <u>la media de las predicciones</u> de cada punto inicial. La solución anterior es mejor que hacer la media de los pesos, ya que la *no-lienealidad* del modelo implica que este procedimiento pueda ser pobre.\n"
      ]
    },
    {
      "cell_type": "markdown",
      "metadata": {
        "id": "oL3fIi75F2vD"
      },
      "source": [
        "## Overfitting (sobreajuste)\n",
        "Usualemente las redes neuronales tienen demasiados pesos lo que provoca que el modelo se *sobreajuste* al mínimo global de $R$."
      ]
    },
    {
      "cell_type": "markdown",
      "metadata": {
        "id": "KtCzoUxoF2vD"
      },
      "source": [
        "## Escalado de las entradas\n",
        "Tal y como pasa en los modelos linales, es necesario aplicar un escalado a las variables para que aquellas de mayor magnitud no opaquen aquellas de menor magnitud. Al principio, es mejor estandarizar todas las entradas para que tengan media=0 y std desviation=1.\n",
        "Además de estadarizar las magnitudes, también nos permite elegir entre un rango uniforme de pesos aleatorios de entrada [-0.7, +0.7]\n"
      ]
    },
    {
      "cell_type": "markdown",
      "metadata": {
        "id": "dx7QC6L8F2vE"
      },
      "source": [
        "## Número de nodos y capas escondidas (hidden units and layers)\n",
        "Generalmente hablando, es mejor tener **muchos nodos escondidos** que **muy pocos nodos escondidos**.\n",
        "* Con <u>muy pocos nodos</u> el modelo tal vez no tenga la suficiente elasticidad para capturar las *no-linealidades*\n",
        "* Con <u>muchos nodos</u> los *nodos extra* tendrán valor casi **nulo** si la regularización es buena.\n",
        "Para elegir las capas internas se necesita un conocimiento del dataset y experimentación. Cada capa extrae caracteristicas de las entradas"
      ]
    },
    {
      "cell_type": "markdown",
      "metadata": {},
      "source": [
        "## Funciones de activación. "
      ]
    },
    {
      "cell_type": "code",
      "execution_count": 7,
      "metadata": {},
      "outputs": [],
      "source": [
        "import numpy as np \n",
        "import matplotlib.pyplot as plt \n",
        "import seaborn as sns\n",
        "sns.set_theme(style=\"darkgrid\")"
      ]
    },
    {
      "cell_type": "code",
      "execution_count": 14,
      "metadata": {},
      "outputs": [],
      "source": [
        "def draw_act_func(f):\n",
        "    x = np.linspace(-10, 10, 1000)\n",
        "    y = f(x)\n",
        "\n",
        "    plt.figure(figsize=(3,3))\n",
        "    plt.plot(x, y)\n",
        "    plt.grid(True)\n",
        "    plt.axhline(0, color='black', lw=0.5)\n",
        "    plt.axvline(0, color='black', lw=0.5)\n",
        "    plt.show()\n"
      ]
    },
    {
      "cell_type": "markdown",
      "metadata": {},
      "source": [
        "### Función de activación lineal. \n",
        "Una neurona lineal coge una combinación lineal de las entradas multiplicadas por sus pesos. \n",
        "Las *funciones de activación lineal* son aquellas donde es una función continua y derivable.\n",
        "#### \"linear\"\n",
        "La función simplemente devuelve los valores de entrada. \n",
        "$$\n",
        "linear(x) = x\n",
        "$$\n",
        "* Este tipo de neurona de activación no son recomendable usarlas en las capas ocultas de la red, puesto que esto \"no es una función de activación\". Realmente al usar esto en las capas ocultas, nuestro modelo podría colapsar en una **regresión**\n",
        "* Solo es útil para las **capas de salida** para problemas de regresión."
      ]
    },
    {
      "cell_type": "code",
      "execution_count": 15,
      "metadata": {},
      "outputs": [
        {
          "data": {
            "image/png": "[encoded data removed]",
            "text/plain": [
              "<Figure size 300x300 with 1 Axes>"
            ]
          },
          "metadata": {},
          "output_type": "display_data"
        }
      ],
      "source": [
        "from tensorflow.keras.activations import linear\n",
        "\n",
        "draw_act_func(linear)"
      ]
    },
    {
      "cell_type": "markdown",
      "metadata": {},
      "source": [
        "### Funciones de activación no-lineales.\n",
        "#### \"relu\"\n",
        "La **Rectified Lineral Unit** fucnión de activación que cualquier valor inferior a 0 lo convierte en 0.\n",
        "$$\n",
        "\\text{ReLU}(x)=max(0, x) \n",
        "$$\n",
        "$$\n",
        "\\mathrm{ReLU}(x) =\n",
        "\\begin{cases}\n",
        "x & \\text{si } x > 0 \\\\\n",
        "0 & \\text{si } x \\leq 0\n",
        "\\end{cases}\n",
        "$$\n",
        "Aunque pueda parecer que es lineal, incumple la regla que debe ser derivable en todo el intervalo.\n"
      ]
    },
    {
      "cell_type": "code",
      "execution_count": 16,
      "metadata": {},
      "outputs": [
        {
          "data": {
            "image/png": "[encoded data removed]",
            "text/plain": [
              "<Figure size 300x300 with 1 Axes>"
            ]
          },
          "metadata": {},
          "output_type": "display_data"
        }
      ],
      "source": [
        "from tensorflow.keras.activations import relu\n",
        "\n",
        "draw_act_func(relu)"
      ]
    },
    {
      "cell_type": "markdown",
      "metadata": {},
      "source": [
        "#### \"sigmoid\" o logit\n",
        "Aplica la función logaritmíca, escalando entre [0, 1]. Se llama **sigmoid** porque hace una *S* \n",
        "$$ \n",
        "\\sigma(x)=\\frac{1}{1+e^{-x}}\n",
        "$$\n",
        "\n",
        "* Se suele usar para **capas de salida en clasificación binaria**.\n",
        "* A veces en capas ocultas (aunque hoy se prefuere `relu`)\n",
        "\n",
        "Desventajas:\n",
        "* El **gradiente se aplana** -> en los extremos la derivada se acerca a 0, aprendizaje lento. \n",
        "* Salida no centrada en 0, está centrada en 0.5\n"
      ]
    },
    {
      "cell_type": "code",
      "execution_count": 17,
      "metadata": {},
      "outputs": [
        {
          "data": {
            "image/png": "[encoded data removed]",
            "text/plain": [
              "<Figure size 300x300 with 1 Axes>"
            ]
          },
          "metadata": {},
          "output_type": "display_data"
        }
      ],
      "source": [
        "from tensorflow.keras.activations import sigmoid\n",
        "\n",
        "draw_act_func(sigmoid)"
      ]
    },
    {
      "cell_type": "markdown",
      "metadata": {},
      "source": [
        "* Para valores grandes negativos $\\sigma{x} \\aprox 0$$\n",
        "* Para valores grandes positivos $\\sigma{x} \\aprox 1$$\n",
        "* En x=0 : $\\sigma(0)=0.5$"
      ]
    }
  ],
  "metadata": {
    "colab": {
      "provenance": []
    },
    "kernelspec": {
      "display_name": "Python 3",
      "language": "python",
      "name": "python3"
    },
    "language_info": {
      "codemirror_mode": {
        "name": "ipython",
        "version": 3
      },
      "file_extension": ".py",
      "mimetype": "text/x-python",
      "name": "python",
      "nbconvert_exporter": "python",
      "pygments_lexer": "ipython3",
      "version": "3.12.2"
    }
  },
  "nbformat": 4,
  "nbformat_minor": 0
}
