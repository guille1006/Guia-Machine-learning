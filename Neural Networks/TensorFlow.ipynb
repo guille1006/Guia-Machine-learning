{
  "cells": [
    {
      "cell_type": "markdown",
      "id": "fab35684",
      "metadata": {
        "id": "fab35684"
      },
      "source": [
        "<h1 style=\"text-align: center;\">TensorFlow</h1>\n",
        "<h1 style=\"text-align: right; font-size: 24px; margin-right: 10px;\">Guillermo Díaz Aguado</h1>"
      ]
    },
    {
      "cell_type": "code",
      "execution_count": 1,
      "id": "1e1ff55d",
      "metadata": {
        "id": "1e1ff55d"
      },
      "outputs": [],
      "source": [
        "import tensorflow as tf\n",
        "from tensorflow import keras\n",
        "from tensorflow.keras import layers\n",
        "\n",
        "import pandas as pd\n",
        "import numpy as np\n",
        "import sklearn\n",
        "import sklearn.datasets\n",
        "import sklearn.linear_model\n",
        "import matplotlib.pyplot as plt\n",
        "\n",
        "seed = 7777\n",
        "tf.random.set_seed(seed)"
      ]
    },
    {
      "cell_type": "code",
      "execution_count": 2,
      "id": "0a1d3106",
      "metadata": {
        "id": "0a1d3106"
      },
      "outputs": [],
      "source": [
        "import warnings\n",
        "import re\n",
        "\n",
        "# Solo filtra la advertencia específica sobre input_shape en Sequential\n",
        "warnings.filterwarnings(\n",
        "    \"ignore\",\n",
        "    message=re.escape(\"Do not pass an `input_shape`/`input_dim` argument to a layer. When using Sequential models, prefer using an `Input(shape)` object as the first layer in the model instead.\"),\n",
        "    category=UserWarning\n",
        ")"
      ]
    },
    {
      "cell_type": "markdown",
      "id": "520a49a8",
      "metadata": {
        "id": "520a49a8"
      },
      "source": [
        "# Tensores y variables\n",
        "TensorFlow opera en arreglos multidimensionales o **tensores** representados como objetos `tf.Tensor`.\n",
        "Tiene las caracterisiticas de:\n",
        "* `Tensor.shape`: te dice las dimensiones de estos *tensores*.\n",
        "    * ⚠️ Deben ser matrices rectangulares\n",
        "* `Tensor.dtype`: te dice el tipo de todos los elementos del *tensor.\n",
        "    * ⚠️ Todos los valores deben ser del mismo tipo\n"
      ]
    },
    {
      "cell_type": "markdown",
      "id": "2018e690",
      "metadata": {
        "id": "2018e690"
      },
      "source": [
        " Estos *tensores* son *matrices multidimensionales* que ademas se comportan de una forma muy parecida a los de `nunpy`:\n",
        "\n",
        "* Con respecto a los cálculos matemáticos:\n",
        "\n",
        "| Tipo de cálculo / operación            | ¿Es similar? | NumPy (`np.ndarray`)      | TensorFlow (`tf.Tensor`)                                      | Notas                               |\n",
        "| -------------------------------------- | ------------ | ------------------------- | ------------------------------------------------------------- | ----------------------------------- |\n",
        "| **Suma de arrays/matrices**            | ✅ Sí         | `a + b`                   | `a + b`                                                       | Idéntica                            |\n",
        "| **Resta de arrays/matrices**           | ✅ Sí         | `a - b`                   | `a - b`                                                       | Idéntica                            |\n",
        "| **Multiplicación elemento a elemento** | ✅ Sí         | `a * b`                   | `a * b`                                                       | Igual                               |\n",
        "| **Producto matricial (dot product)**   | ✅ Sí         | `np.dot(a, b)`            | `tf.matmul(a, b)`                                             | Función diferente                   |\n",
        "| **Transposición**                      | ✅ Sí         | `a.T` o `np.transpose(a)` | `tf.transpose(a)`                                             | Sintaxis parecida                   |\n",
        "| **Slicing / Indexing**                 | ✅ Sí         | `a[0, :]`                 | `a[0, :]`                                                     | Idéntica                            |\n",
        "| **Broadcasting**                       | ✅ Sí         | Automático                | Automático                                                    | Muy parecido                        |\n",
        "| **Suma por ejes (axis)**               | ✅ Sí         | `np.sum(a, axis=0)`       | `tf.reduce_sum(a, axis=0)`                                    | Funciones distintas                 |\n",
        "| **Mean / promedio**                    | ✅ Sí         | `np.mean(a)`              | `tf.reduce_mean(a)`                                           | Diferente nombre                    |\n",
        "| **Varianza / desviación típica**       | ✅ Sí         | `np.var(a)`               | `tf.math.reduce_variance(a)`                                  | TF usa `tf.math`                    |\n",
        "| **Funciones trigonométricas**          | ✅ Sí         | `np.sin(a)`               | `tf.math.sin(a)`                                              | Misma lógica                        |\n",
        "| **Funciones log, exp, sqrt, etc.**     | ✅ Sí         | `np.log(a)`               | `tf.math.log(a)`                                              | Prefijo `math.`                     |\n",
        "| **Reshape / cambio de forma**          | ✅ Sí         | `a.reshape((2, 4))`       | `tf.reshape(a, (2, 4))`                                       | Igual                               |\n",
        "| **Stack / concat / split**             | ✅ Sí         | `np.concatenate([...])`   | `tf.concat([...])`                                            | Igual lógica                        |\n",
        "| **Argmax / argmin**                    | ✅ Sí         | `np.argmax(a)`            | `tf.argmax(a)`                                                | Igual                               |\n",
        "| **Sort / argsort**                     | ✅ Sí         | `np.sort(a)`              | `tf.sort(a)`                                                  | Igual                               |\n",
        "| **Boolean masking / filtrado**         | ✅ Sí         | `a[a > 0]`                | `tf.boolean_mask(a, a > 0)`                                   | Similar pero con función específica |\n",
        "| **Operaciones en GPU**                 | ❌ No         | ❌ No                      | ✅ Sí (automático)                                             | Gran diferencia                     |\n",
        "| **Autodiferenciación (gradientes)**    | ❌ No         | ❌ No                      | ✅ Sí (`tf.GradientTape`)                                      | Solo TF                             |\n",
        "| **Ejecución simbólica / gráfica**      | ❌ No         | ❌ No                      | ✅ Sí (modo gráfico o eager)                                   | Solo TF                             |\n",
        "| **Mutabilidad (modificar valores)**    | ❌ No         | ✅ Sí (`a[0,0] = 5`)       | ❌ No (`tf.Tensor` es inmutable)                               | Solo mutable en NumPy               |\n",
        "| **Conversión a lista**                 | ✅ Sí         | `a.tolist()`              | `a.numpy().tolist()`                                          | En TF necesitas `.numpy()` primero  |\n",
        "| **Guardar en disco (formato nativo)**  | ✅ Similar    | `np.save()` / `np.load()` | `tf.saved_model` (modelos), o `.numpy()` para exportar arrays | Diferente enfoque                   |\n",
        "\n",
        "Y con respecto a sus caracteristicas:\n",
        "\n",
        "| Característica                   | **NumPy array**            | **TensorFlow tensor**                         |\n",
        "| -------------------------------- | -------------------------- | --------------------------------------------- |\n",
        "| Tipo                             | `numpy.ndarray`            | `tf.Tensor`                                   |\n",
        "| Biblioteca                       | NumPy                      | TensorFlow                                    |\n",
        "| Uso principal                    | Cálculo científico general | Computación automática (ML/DL)                |\n",
        "| Soporte para GPU                 | ❌ No (solo CPU)            | ✅ Sí (GPU, TPU, CPU)                          |\n",
        "| Diferenciación automática        | ❌ No                       | ✅ Sí (con `tf.GradientTape`)                  |\n",
        "| Computación simbólica            | ❌ No                       | ✅ Sí (gráficos computacionales)               |\n",
        "| Inmutabilidad                    | ✅ Mutable                  | ⚠️ Inmutable (no puedes cambiar su contenido) |\n",
        "| Integración con redes neuronales | ❌ No directo               | ✅ Nativo (keras, optimizers, etc.)            |\n"
      ]
    },
    {
      "cell_type": "markdown",
      "id": "a29e9e4c",
      "metadata": {
        "id": "a29e9e4c"
      },
      "source": [
        "## Tensor constants"
      ]
    },
    {
      "cell_type": "code",
      "execution_count": 3,
      "id": "f603babf",
      "metadata": {
        "colab": {
          "base_uri": "https://localhost:8080/"
        },
        "id": "f603babf",
        "outputId": "7e1a14a2-bfd2-4a45-ed60-1b077c5a9ca9"
      },
      "outputs": [
        {
          "name": "stdout",
          "output_type": "stream",
          "text": [
            "tf.Tensor(18, shape=(), dtype=int32)\n",
            "()\n",
            "tf.Tensor([17 12], shape=(2,), dtype=int32)\n",
            "(2,)\n",
            "tf.Tensor(\n",
            "[[1 2]\n",
            " [3 4]], shape=(2, 2), dtype=int32)\n",
            "(2, 2)\n"
          ]
        }
      ],
      "source": [
        "# scalar\n",
        "scalar = tf.constant(18)\n",
        "print(scalar)\n",
        "print(scalar.shape)\n",
        "\n",
        "# Vector\n",
        "vector = tf.constant([17, 12])\n",
        "print(vector)\n",
        "print(vector.shape)\n",
        "\n",
        "# Matrices\n",
        "matrix = tf.constant([[1, 2],\n",
        "                      [3, 4]])\n",
        "print(matrix)\n",
        "print(matrix.shape)\n",
        "\n",
        "# Tensor\n",
        "tensor = tf.constant([[[1, 2, 3],\n",
        "                       [4, 5, 6],\n",
        "                       [7, 8, 9]]])"
      ]
    },
    {
      "cell_type": "markdown",
      "id": "81a8e03b",
      "metadata": {
        "id": "81a8e03b"
      },
      "source": [
        "# First Neural Network in Keras"
      ]
    },
    {
      "cell_type": "code",
      "execution_count": 4,
      "id": "e782d032",
      "metadata": {
        "id": "e782d032"
      },
      "outputs": [],
      "source": [
        "import tensorflow as tf\n",
        "from tensorflow import keras\n",
        "from tensorflow.keras import layers"
      ]
    },
    {
      "cell_type": "markdown",
      "id": "b6b8a305",
      "metadata": {
        "id": "b6b8a305"
      },
      "source": [
        "## Input\n",
        "Para definir la usamos el objeto `Input`. Debe ser el numero de variables independientes.\n",
        "* `shape`: dimensión de entrada, tiene que estar en el formato de (input_dimension,)"
      ]
    },
    {
      "cell_type": "markdown",
      "id": "a9a9e155",
      "metadata": {
        "id": "a9a9e155"
      },
      "source": [
        "## Dense\n",
        "Podemos crear capas *completamente conectadas* usando la clase `Dense`.\n",
        "Tiene lso siguientes parametros:\n",
        "* `units`: Número de neuronas en esa capa.\n",
        "* `activation`: Función de activación que usaremos. Por defecto está la función *lineal* .\n",
        "* `name`: Es interesante poner el nombre de cada capa para poder identificarlas.\n",
        "* `input_shape`: En caso de no querer usar el objeto `Input`, podemos incluir una primera capa que tenga este atributo."
      ]
    },
    {
      "cell_type": "markdown",
      "id": "7a8151fb",
      "metadata": {
        "id": "7a8151fb"
      },
      "source": [
        "## Sequential\n",
        "El objeto `Sequential` <u> es donde vamos a crear nuestra red neuronal </u>. Tenemos dos formas para crearlo:\n",
        "1. * Crear el objeto\n",
        "    * Vamos añadiendo las capas con el método **.add** a nuestro objeto\n",
        "    * Recordar que la primera capa debe ser `Input` o `Dense`(con el atributo de *input_shape*)\n",
        "2. * Podemos guardar directamente el modelo con todas las capas guardadas en una lista.\n",
        "    * Además también se pueden añadir más capas."
      ]
    },
    {
      "cell_type": "code",
      "execution_count": 5,
      "id": "e8ed9daf",
      "metadata": {
        "id": "e8ed9daf"
      },
      "outputs": [],
      "source": [
        "model1 = keras.Sequential()\n",
        "model1.add(layers.Dense(3, activation=\"sigmoid\", name=\"input_lay\", input_shape=(2,)))\n",
        "model1.add(layers.Dense(1, activation=\"sigmoid\", name=\"output_layer\"))\n",
        "\n",
        "model2 = keras.Sequential([\n",
        "    keras.Input(shape=(2,)),\n",
        "    layers.Dense(3, activation=\"sigmoid\", name=\"input_layer\"),\n",
        "    layers.Dense(1, activation=\"sigmoid\", name=\"output_layer\")\n",
        "])"
      ]
    },
    {
      "cell_type": "markdown",
      "id": "c985f6bd",
      "metadata": {
        "id": "c985f6bd"
      },
      "source": [
        "# Guardar y cargar modelos de Keras\n",
        "## Guardar modelo\n",
        "Puedes guardar facilmente tu modelo entero (arquitectura, pesos, optimizer state) usando el método `save` y ponemos el nombre del archivo que lo queremos guardar, importante poner el sufijo \".keras\" o \".h5\".\n",
        "* .keras: El modo recomnedado y por defecto para TenserFlow 2.12. Incluye metadata del modelo y es \"future-proof\".\n",
        "* .h5: Es muy usado y es muy simple."
      ]
    },
    {
      "cell_type": "markdown",
      "id": "3fb62abd",
      "metadata": {
        "id": "3fb62abd"
      },
      "source": [
        "`model1.save(\"Modelo_Keras.keras\")`\n",
        "\n",
        "`model1.save(\"Modelo2_Keras.h5\")`"
      ]
    },
    {
      "cell_type": "markdown",
      "id": "9abb8eaf",
      "metadata": {
        "id": "9abb8eaf"
      },
      "source": [
        "## Cargar un modelo.\n",
        "Simplemente debemos llamar a la funcion `load_model` y escribir el nombre del archivo donde esté guardado el modelo\n"
      ]
    },
    {
      "cell_type": "code",
      "execution_count": 6,
      "id": "ee7c19b4",
      "metadata": {
        "id": "ee7c19b4"
      },
      "outputs": [],
      "source": [
        "from tensorflow.keras.models import load_model\n",
        "\n",
        "# modelo_cargado = load_model(\"Modelo_Keras.keras\")"
      ]
    },
    {
      "cell_type": "markdown",
      "id": "5fd456c9",
      "metadata": {
        "id": "5fd456c9"
      },
      "source": [
        "# MNIST"
      ]
    },
    {
      "cell_type": "code",
      "execution_count": 7,
      "id": "740424bd",
      "metadata": {
        "id": "740424bd"
      },
      "outputs": [],
      "source": [
        "import tensorflow as tf\n",
        "import matplotlib.pyplot as plt\n",
        "import pandas as pd\n",
        "import numpy as np\n",
        "from tensorflow import keras\n",
        "from tensorflow.keras import layers\n",
        "\n",
        "seed = 7777\n",
        "tf.random.set_seed(seed)"
      ]
    },
    {
      "cell_type": "code",
      "execution_count": 8,
      "id": "ebc8c841",
      "metadata": {
        "colab": {
          "base_uri": "https://localhost:8080/",
          "height": 430
        },
        "id": "ebc8c841",
        "outputId": "c93d8430-1353-47e6-af47-468d3c54d66e"
      },
      "outputs": [
        {
          "data": {
            "image/png": "[encoded data removed]",
            "text/plain": [
              "<Figure size 640x480 with 1 Axes>"
            ]
          },
          "metadata": {},
          "output_type": "display_data"
        }
      ],
      "source": [
        "# Cargo el datset\n",
        "mnist = tf.keras.datasets.mnist\n",
        "\n",
        "# Pongo los valores de train y test\n",
        "(X_train, y_train), (X_test, y_test) = mnist.load_data()\n",
        "\n",
        "# Como son valores de 0 a 255 puedo normalizarlo dividiendo entre 255\n",
        "X_train, X_test = X_train/255.0, X_test/255.0\n",
        "\n",
        "i_rand = np.random.randint(0, len(X_train))\n",
        "plt.imshow(X_train[i_rand])\n",
        "plt.show()"
      ]
    },
    {
      "cell_type": "markdown",
      "id": "37b153b9",
      "metadata": {
        "id": "37b153b9"
      },
      "source": [
        "Ahora vamos a hacer más pequeño nuestro dataset de test para que tengamos aun mas **OVERFITTING**.\n",
        "from sklearn.model_selection import train_test_split"
      ]
    },
    {
      "cell_type": "code",
      "execution_count": 9,
      "id": "e5b4a1ab",
      "metadata": {
        "id": "e5b4a1ab"
      },
      "outputs": [],
      "source": [
        "from sklearn.model_selection import train_test_split\n",
        "\n",
        "_, X, _, y = train_test_split(X_train, y_train, test_size=0.2, random_state=seed, stratify=y_train)"
      ]
    },
    {
      "cell_type": "markdown",
      "id": "b5261aa6",
      "metadata": {
        "id": "b5261aa6"
      },
      "source": [
        "## Creación del modelo\n",
        "Vamos a crear un modelo que sea capaz de generalizar. Nuestro modelo consistirá en :\n",
        "* Input de dimensión 28,28\n",
        "* Capa de flatten (para así tener los datos en una lista)\n",
        "* 3 Dense hidden layer\n",
        "* Output layer con una sola neurona"
      ]
    },
    {
      "cell_type": "code",
      "execution_count": 10,
      "id": "7a597e4c",
      "metadata": {
        "colab": {
          "base_uri": "https://localhost:8080/",
          "height": 321
        },
        "id": "7a597e4c",
        "outputId": "2b0d270a-f751-4452-c5c6-a9ade629194f"
      },
      "outputs": [
        {
          "data": {
            "text/html": [
              "<pre style=\"white-space:pre;overflow-x:auto;line-height:normal;font-family:Menlo,'DejaVu Sans Mono',consolas,'Courier New',monospace\"><span style=\"font-weight: bold\">Model: \"try_not_overfit\"</span>\n",
              "</pre>\n"
            ],
            "text/plain": [
              "\u001b[1mModel: \"try_not_overfit\"\u001b[0m\n"
            ]
          },
          "metadata": {},
          "output_type": "display_data"
        },
        {
          "data": {
            "text/html": [
              "<pre style=\"white-space:pre;overflow-x:auto;line-height:normal;font-family:Menlo,'DejaVu Sans Mono',consolas,'Courier New',monospace\">┏━━━━━━━━━━━━━━━━━━━━━━━━━━━━━━━━━┳━━━━━━━━━━━━━━━━━━━━━━━━┳━━━━━━━━━━━━━━━┓\n",
              "┃<span style=\"font-weight: bold\"> Layer (type)                    </span>┃<span style=\"font-weight: bold\"> Output Shape           </span>┃<span style=\"font-weight: bold\">       Param # </span>┃\n",
              "┡━━━━━━━━━━━━━━━━━━━━━━━━━━━━━━━━━╇━━━━━━━━━━━━━━━━━━━━━━━━╇━━━━━━━━━━━━━━━┩\n",
              "│ input_layer (<span style=\"color: #0087ff; text-decoration-color: #0087ff\">InputLayer</span>)        │ (<span style=\"color: #00d7ff; text-decoration-color: #00d7ff\">None</span>, <span style=\"color: #00af00; text-decoration-color: #00af00\">28</span>, <span style=\"color: #00af00; text-decoration-color: #00af00\">28</span>)         │             <span style=\"color: #00af00; text-decoration-color: #00af00\">0</span> │\n",
              "├─────────────────────────────────┼────────────────────────┼───────────────┤\n",
              "│ flatten (<span style=\"color: #0087ff; text-decoration-color: #0087ff\">Flatten</span>)               │ (<span style=\"color: #00d7ff; text-decoration-color: #00d7ff\">None</span>, <span style=\"color: #00af00; text-decoration-color: #00af00\">784</span>)            │             <span style=\"color: #00af00; text-decoration-color: #00af00\">0</span> │\n",
              "├─────────────────────────────────┼────────────────────────┼───────────────┤\n",
              "│ layer_1 (<span style=\"color: #0087ff; text-decoration-color: #0087ff\">Dense</span>)                 │ (<span style=\"color: #00d7ff; text-decoration-color: #00d7ff\">None</span>, <span style=\"color: #00af00; text-decoration-color: #00af00\">256</span>)            │       <span style=\"color: #00af00; text-decoration-color: #00af00\">200,960</span> │\n",
              "├─────────────────────────────────┼────────────────────────┼───────────────┤\n",
              "│ layer_2 (<span style=\"color: #0087ff; text-decoration-color: #0087ff\">Dense</span>)                 │ (<span style=\"color: #00d7ff; text-decoration-color: #00d7ff\">None</span>, <span style=\"color: #00af00; text-decoration-color: #00af00\">128</span>)            │        <span style=\"color: #00af00; text-decoration-color: #00af00\">32,896</span> │\n",
              "├─────────────────────────────────┼────────────────────────┼───────────────┤\n",
              "│ layer_3 (<span style=\"color: #0087ff; text-decoration-color: #0087ff\">Dense</span>)                 │ (<span style=\"color: #00d7ff; text-decoration-color: #00d7ff\">None</span>, <span style=\"color: #00af00; text-decoration-color: #00af00\">128</span>)            │        <span style=\"color: #00af00; text-decoration-color: #00af00\">16,512</span> │\n",
              "├─────────────────────────────────┼────────────────────────┼───────────────┤\n",
              "│ output_layer (<span style=\"color: #0087ff; text-decoration-color: #0087ff\">Dense</span>)            │ (<span style=\"color: #00d7ff; text-decoration-color: #00d7ff\">None</span>, <span style=\"color: #00af00; text-decoration-color: #00af00\">10</span>)             │         <span style=\"color: #00af00; text-decoration-color: #00af00\">1,290</span> │\n",
              "└─────────────────────────────────┴────────────────────────┴───────────────┘\n",
              "</pre>\n"
            ],
            "text/plain": [
              "┏━━━━━━━━━━━━━━━━━━━━━━━━━━━━━━━━━┳━━━━━━━━━━━━━━━━━━━━━━━━┳━━━━━━━━━━━━━━━┓\n",
              "┃\u001b[1m \u001b[0m\u001b[1mLayer (type)                   \u001b[0m\u001b[1m \u001b[0m┃\u001b[1m \u001b[0m\u001b[1mOutput Shape          \u001b[0m\u001b[1m \u001b[0m┃\u001b[1m \u001b[0m\u001b[1m      Param #\u001b[0m\u001b[1m \u001b[0m┃\n",
              "┡━━━━━━━━━━━━━━━━━━━━━━━━━━━━━━━━━╇━━━━━━━━━━━━━━━━━━━━━━━━╇━━━━━━━━━━━━━━━┩\n",
              "│ input_layer (\u001b[38;5;33mInputLayer\u001b[0m)        │ (\u001b[38;5;45mNone\u001b[0m, \u001b[38;5;34m28\u001b[0m, \u001b[38;5;34m28\u001b[0m)         │             \u001b[38;5;34m0\u001b[0m │\n",
              "├─────────────────────────────────┼────────────────────────┼───────────────┤\n",
              "│ flatten (\u001b[38;5;33mFlatten\u001b[0m)               │ (\u001b[38;5;45mNone\u001b[0m, \u001b[38;5;34m784\u001b[0m)            │             \u001b[38;5;34m0\u001b[0m │\n",
              "├─────────────────────────────────┼────────────────────────┼───────────────┤\n",
              "│ layer_1 (\u001b[38;5;33mDense\u001b[0m)                 │ (\u001b[38;5;45mNone\u001b[0m, \u001b[38;5;34m256\u001b[0m)            │       \u001b[38;5;34m200,960\u001b[0m │\n",
              "├─────────────────────────────────┼────────────────────────┼───────────────┤\n",
              "│ layer_2 (\u001b[38;5;33mDense\u001b[0m)                 │ (\u001b[38;5;45mNone\u001b[0m, \u001b[38;5;34m128\u001b[0m)            │        \u001b[38;5;34m32,896\u001b[0m │\n",
              "├─────────────────────────────────┼────────────────────────┼───────────────┤\n",
              "│ layer_3 (\u001b[38;5;33mDense\u001b[0m)                 │ (\u001b[38;5;45mNone\u001b[0m, \u001b[38;5;34m128\u001b[0m)            │        \u001b[38;5;34m16,512\u001b[0m │\n",
              "├─────────────────────────────────┼────────────────────────┼───────────────┤\n",
              "│ output_layer (\u001b[38;5;33mDense\u001b[0m)            │ (\u001b[38;5;45mNone\u001b[0m, \u001b[38;5;34m10\u001b[0m)             │         \u001b[38;5;34m1,290\u001b[0m │\n",
              "└─────────────────────────────────┴────────────────────────┴───────────────┘\n"
            ]
          },
          "metadata": {},
          "output_type": "display_data"
        },
        {
          "data": {
            "text/html": [
              "<pre style=\"white-space:pre;overflow-x:auto;line-height:normal;font-family:Menlo,'DejaVu Sans Mono',consolas,'Courier New',monospace\"><span style=\"font-weight: bold\"> Total params: </span><span style=\"color: #00af00; text-decoration-color: #00af00\">251,658</span> (983.04 KB)\n",
              "</pre>\n"
            ],
            "text/plain": [
              "\u001b[1m Total params: \u001b[0m\u001b[38;5;34m251,658\u001b[0m (983.04 KB)\n"
            ]
          },
          "metadata": {},
          "output_type": "display_data"
        },
        {
          "data": {
            "text/html": [
              "<pre style=\"white-space:pre;overflow-x:auto;line-height:normal;font-family:Menlo,'DejaVu Sans Mono',consolas,'Courier New',monospace\"><span style=\"font-weight: bold\"> Trainable params: </span><span style=\"color: #00af00; text-decoration-color: #00af00\">251,658</span> (983.04 KB)\n",
              "</pre>\n"
            ],
            "text/plain": [
              "\u001b[1m Trainable params: \u001b[0m\u001b[38;5;34m251,658\u001b[0m (983.04 KB)\n"
            ]
          },
          "metadata": {},
          "output_type": "display_data"
        },
        {
          "data": {
            "text/html": [
              "<pre style=\"white-space:pre;overflow-x:auto;line-height:normal;font-family:Menlo,'DejaVu Sans Mono',consolas,'Courier New',monospace\"><span style=\"font-weight: bold\"> Non-trainable params: </span><span style=\"color: #00af00; text-decoration-color: #00af00\">0</span> (0.00 B)\n",
              "</pre>\n"
            ],
            "text/plain": [
              "\u001b[1m Non-trainable params: \u001b[0m\u001b[38;5;34m0\u001b[0m (0.00 B)\n"
            ]
          },
          "metadata": {},
          "output_type": "display_data"
        }
      ],
      "source": [
        "inputs = tf.keras.Input(shape=(28,28), name=(\"input_layer\"))\n",
        "\n",
        "flat = layers.Flatten()(inputs)\n",
        "\n",
        "l_1 = layers.Dense(256, activation=\"relu\", name=\"layer_1\")(flat)\n",
        "l_2 = layers.Dense(128, activation=\"relu\", name=\"layer_2\")(l_1)\n",
        "l_3 = layers.Dense(128, activation=\"relu\", name=\"layer_3\")(l_2)\n",
        "\n",
        "outputs = layers.Dense(10, activation=\"softmax\", name=\"output_layer\")(l_3)\n",
        "\n",
        "# Definimos el modelo\n",
        "model = keras.Model(inputs=inputs, outputs=outputs, name=\"try_not_overfit\")\n",
        "\n",
        "model.summary()\n"
      ]
    },
    {
      "cell_type": "markdown",
      "id": "bbff2ba6",
      "metadata": {
        "id": "bbff2ba6"
      },
      "source": [
        "Ahora usaremos la siguiente configuración para entrenar:"
      ]
    },
    {
      "cell_type": "code",
      "execution_count": 11,
      "id": "21e29795",
      "metadata": {
        "colab": {
          "base_uri": "https://localhost:8080/"
        },
        "id": "21e29795",
        "outputId": "306ef447-353c-4931-d361-ef71558c1d69"
      },
      "outputs": [
        {
          "name": "stdout",
          "output_type": "stream",
          "text": [
            "Epoch 1/100\n",
            "\u001b[1m150/150\u001b[0m \u001b[32m━━━━━━━━━━━━━━━━━━━━\u001b[0m\u001b[37m\u001b[0m \u001b[1m4s\u001b[0m 12ms/step - accuracy: 0.6989 - loss: 0.9992 - val_accuracy: 0.9150 - val_loss: 0.2950\n",
            "Epoch 2/100\n",
            "\u001b[1m150/150\u001b[0m \u001b[32m━━━━━━━━━━━━━━━━━━━━\u001b[0m\u001b[37m\u001b[0m \u001b[1m1s\u001b[0m 3ms/step - accuracy: 0.9358 - loss: 0.2369 - val_accuracy: 0.9396 - val_loss: 0.2138\n",
            "Epoch 3/100\n",
            "\u001b[1m150/150\u001b[0m \u001b[32m━━━━━━━━━━━━━━━━━━━━\u001b[0m\u001b[37m\u001b[0m \u001b[1m0s\u001b[0m 3ms/step - accuracy: 0.9616 - loss: 0.1419 - val_accuracy: 0.9475 - val_loss: 0.1914\n",
            "Epoch 4/100\n",
            "\u001b[1m150/150\u001b[0m \u001b[32m━━━━━━━━━━━━━━━━━━━━\u001b[0m\u001b[37m\u001b[0m \u001b[1m1s\u001b[0m 3ms/step - accuracy: 0.9731 - loss: 0.0947 - val_accuracy: 0.9467 - val_loss: 0.1996\n",
            "Epoch 5/100\n",
            "\u001b[1m150/150\u001b[0m \u001b[32m━━━━━━━━━━━━━━━━━━━━\u001b[0m\u001b[37m\u001b[0m \u001b[1m1s\u001b[0m 5ms/step - accuracy: 0.9815 - loss: 0.0704 - val_accuracy: 0.9521 - val_loss: 0.1840\n",
            "Epoch 6/100\n",
            "\u001b[1m150/150\u001b[0m \u001b[32m━━━━━━━━━━━━━━━━━━━━\u001b[0m\u001b[37m\u001b[0m \u001b[1m1s\u001b[0m 4ms/step - accuracy: 0.9854 - loss: 0.0494 - val_accuracy: 0.9408 - val_loss: 0.2330\n",
            "Epoch 7/100\n",
            "\u001b[1m150/150\u001b[0m \u001b[32m━━━━━━━━━━━━━━━━━━━━\u001b[0m\u001b[37m\u001b[0m \u001b[1m1s\u001b[0m 3ms/step - accuracy: 0.9886 - loss: 0.0367 - val_accuracy: 0.9479 - val_loss: 0.2097\n",
            "Epoch 8/100\n",
            "\u001b[1m150/150\u001b[0m \u001b[32m━━━━━━━━━━━━━━━━━━━━\u001b[0m\u001b[37m\u001b[0m \u001b[1m1s\u001b[0m 3ms/step - accuracy: 0.9924 - loss: 0.0262 - val_accuracy: 0.9517 - val_loss: 0.2172\n",
            "Epoch 9/100\n",
            "\u001b[1m150/150\u001b[0m \u001b[32m━━━━━━━━━━━━━━━━━━━━\u001b[0m\u001b[37m\u001b[0m \u001b[1m1s\u001b[0m 3ms/step - accuracy: 0.9916 - loss: 0.0267 - val_accuracy: 0.9592 - val_loss: 0.1805\n",
            "Epoch 10/100\n",
            "\u001b[1m150/150\u001b[0m \u001b[32m━━━━━━━━━━━━━━━━━━━━\u001b[0m\u001b[37m\u001b[0m \u001b[1m1s\u001b[0m 3ms/step - accuracy: 0.9909 - loss: 0.0274 - val_accuracy: 0.9538 - val_loss: 0.1879\n",
            "Epoch 11/100\n",
            "\u001b[1m150/150\u001b[0m \u001b[32m━━━━━━━━━━━━━━━━━━━━\u001b[0m\u001b[37m\u001b[0m \u001b[1m0s\u001b[0m 3ms/step - accuracy: 0.9895 - loss: 0.0310 - val_accuracy: 0.9508 - val_loss: 0.2185\n",
            "Epoch 12/100\n",
            "\u001b[1m150/150\u001b[0m \u001b[32m━━━━━━━━━━━━━━━━━━━━\u001b[0m\u001b[37m\u001b[0m \u001b[1m0s\u001b[0m 3ms/step - accuracy: 0.9930 - loss: 0.0205 - val_accuracy: 0.9396 - val_loss: 0.2554\n",
            "Epoch 13/100\n",
            "\u001b[1m150/150\u001b[0m \u001b[32m━━━━━━━━━━━━━━━━━━━━\u001b[0m\u001b[37m\u001b[0m \u001b[1m1s\u001b[0m 3ms/step - accuracy: 0.9964 - loss: 0.0117 - val_accuracy: 0.9579 - val_loss: 0.1998\n",
            "Epoch 14/100\n",
            "\u001b[1m150/150\u001b[0m \u001b[32m━━━━━━━━━━━━━━━━━━━━\u001b[0m\u001b[37m\u001b[0m \u001b[1m1s\u001b[0m 3ms/step - accuracy: 0.9967 - loss: 0.0108 - val_accuracy: 0.9654 - val_loss: 0.1705\n",
            "Epoch 15/100\n",
            "\u001b[1m150/150\u001b[0m \u001b[32m━━━━━━━━━━━━━━━━━━━━\u001b[0m\u001b[37m\u001b[0m \u001b[1m1s\u001b[0m 3ms/step - accuracy: 0.9999 - loss: 0.0014 - val_accuracy: 0.9667 - val_loss: 0.1765\n",
            "Epoch 16/100\n",
            "\u001b[1m150/150\u001b[0m \u001b[32m━━━━━━━━━━━━━━━━━━━━\u001b[0m\u001b[37m\u001b[0m \u001b[1m1s\u001b[0m 3ms/step - accuracy: 0.9996 - loss: 0.0029 - val_accuracy: 0.9663 - val_loss: 0.1854\n",
            "Epoch 17/100\n",
            "\u001b[1m150/150\u001b[0m \u001b[32m━━━━━━━━━━━━━━━━━━━━\u001b[0m\u001b[37m\u001b[0m \u001b[1m0s\u001b[0m 3ms/step - accuracy: 0.9995 - loss: 0.0024 - val_accuracy: 0.9604 - val_loss: 0.1942\n",
            "Epoch 18/100\n",
            "\u001b[1m150/150\u001b[0m \u001b[32m━━━━━━━━━━━━━━━━━━━━\u001b[0m\u001b[37m\u001b[0m \u001b[1m1s\u001b[0m 3ms/step - accuracy: 0.9974 - loss: 0.0067 - val_accuracy: 0.9613 - val_loss: 0.2161\n",
            "Epoch 19/100\n",
            "\u001b[1m150/150\u001b[0m \u001b[32m━━━━━━━━━━━━━━━━━━━━\u001b[0m\u001b[37m\u001b[0m \u001b[1m0s\u001b[0m 3ms/step - accuracy: 0.9985 - loss: 0.0048 - val_accuracy: 0.9575 - val_loss: 0.2291\n",
            "Epoch 20/100\n",
            "\u001b[1m150/150\u001b[0m \u001b[32m━━━━━━━━━━━━━━━━━━━━\u001b[0m\u001b[37m\u001b[0m \u001b[1m0s\u001b[0m 3ms/step - accuracy: 0.9989 - loss: 0.0036 - val_accuracy: 0.9679 - val_loss: 0.2025\n",
            "Epoch 21/100\n",
            "\u001b[1m150/150\u001b[0m \u001b[32m━━━━━━━━━━━━━━━━━━━━\u001b[0m\u001b[37m\u001b[0m \u001b[1m0s\u001b[0m 3ms/step - accuracy: 0.9940 - loss: 0.0197 - val_accuracy: 0.9608 - val_loss: 0.1885\n",
            "Epoch 22/100\n",
            "\u001b[1m150/150\u001b[0m \u001b[32m━━━━━━━━━━━━━━━━━━━━\u001b[0m\u001b[37m\u001b[0m \u001b[1m0s\u001b[0m 3ms/step - accuracy: 0.9920 - loss: 0.0311 - val_accuracy: 0.9604 - val_loss: 0.1892\n",
            "Epoch 23/100\n",
            "\u001b[1m150/150\u001b[0m \u001b[32m━━━━━━━━━━━━━━━━━━━━\u001b[0m\u001b[37m\u001b[0m \u001b[1m1s\u001b[0m 3ms/step - accuracy: 0.9977 - loss: 0.0084 - val_accuracy: 0.9633 - val_loss: 0.2056\n",
            "Epoch 24/100\n",
            "\u001b[1m150/150\u001b[0m \u001b[32m━━━━━━━━━━━━━━━━━━━━\u001b[0m\u001b[37m\u001b[0m \u001b[1m1s\u001b[0m 3ms/step - accuracy: 0.9993 - loss: 0.0031 - val_accuracy: 0.9675 - val_loss: 0.1927\n",
            "Epoch 25/100\n",
            "\u001b[1m150/150\u001b[0m \u001b[32m━━━━━━━━━━━━━━━━━━━━\u001b[0m\u001b[37m\u001b[0m \u001b[1m1s\u001b[0m 4ms/step - accuracy: 1.0000 - loss: 6.9788e-04 - val_accuracy: 0.9683 - val_loss: 0.1933\n",
            "Epoch 26/100\n",
            "\u001b[1m150/150\u001b[0m \u001b[32m━━━━━━━━━━━━━━━━━━━━\u001b[0m\u001b[37m\u001b[0m \u001b[1m1s\u001b[0m 6ms/step - accuracy: 1.0000 - loss: 2.0561e-04 - val_accuracy: 0.9688 - val_loss: 0.1972\n",
            "Epoch 27/100\n",
            "\u001b[1m150/150\u001b[0m \u001b[32m━━━━━━━━━━━━━━━━━━━━\u001b[0m\u001b[37m\u001b[0m \u001b[1m1s\u001b[0m 5ms/step - accuracy: 1.0000 - loss: 1.3306e-04 - val_accuracy: 0.9692 - val_loss: 0.1996\n",
            "Epoch 28/100\n",
            "\u001b[1m150/150\u001b[0m \u001b[32m━━━━━━━━━━━━━━━━━━━━\u001b[0m\u001b[37m\u001b[0m \u001b[1m1s\u001b[0m 3ms/step - accuracy: 1.0000 - loss: 1.0363e-04 - val_accuracy: 0.9688 - val_loss: 0.2019\n",
            "Epoch 29/100\n",
            "\u001b[1m150/150\u001b[0m \u001b[32m━━━━━━━━━━━━━━━━━━━━\u001b[0m\u001b[37m\u001b[0m \u001b[1m1s\u001b[0m 3ms/step - accuracy: 1.0000 - loss: 8.6063e-05 - val_accuracy: 0.9683 - val_loss: 0.2040\n",
            "Epoch 30/100\n",
            "\u001b[1m150/150\u001b[0m \u001b[32m━━━━━━━━━━━━━━━━━━━━\u001b[0m\u001b[37m\u001b[0m \u001b[1m0s\u001b[0m 3ms/step - accuracy: 1.0000 - loss: 7.3237e-05 - val_accuracy: 0.9688 - val_loss: 0.2060\n",
            "Epoch 31/100\n",
            "\u001b[1m150/150\u001b[0m \u001b[32m━━━━━━━━━━━━━━━━━━━━\u001b[0m\u001b[37m\u001b[0m \u001b[1m1s\u001b[0m 3ms/step - accuracy: 1.0000 - loss: 6.3317e-05 - val_accuracy: 0.9692 - val_loss: 0.2079\n",
            "Epoch 32/100\n",
            "\u001b[1m150/150\u001b[0m \u001b[32m━━━━━━━━━━━━━━━━━━━━\u001b[0m\u001b[37m\u001b[0m \u001b[1m1s\u001b[0m 3ms/step - accuracy: 1.0000 - loss: 5.5390e-05 - val_accuracy: 0.9692 - val_loss: 0.2097\n",
            "Epoch 33/100\n",
            "\u001b[1m150/150\u001b[0m \u001b[32m━━━━━━━━━━━━━━━━━━━━\u001b[0m\u001b[37m\u001b[0m \u001b[1m1s\u001b[0m 3ms/step - accuracy: 1.0000 - loss: 4.8930e-05 - val_accuracy: 0.9692 - val_loss: 0.2114\n",
            "Epoch 34/100\n",
            "\u001b[1m150/150\u001b[0m \u001b[32m━━━━━━━━━━━━━━━━━━━━\u001b[0m\u001b[37m\u001b[0m \u001b[1m1s\u001b[0m 3ms/step - accuracy: 1.0000 - loss: 4.3494e-05 - val_accuracy: 0.9692 - val_loss: 0.2131\n",
            "Epoch 35/100\n",
            "\u001b[1m150/150\u001b[0m \u001b[32m━━━━━━━━━━━━━━━━━━━━\u001b[0m\u001b[37m\u001b[0m \u001b[1m0s\u001b[0m 3ms/step - accuracy: 1.0000 - loss: 3.8865e-05 - val_accuracy: 0.9692 - val_loss: 0.2148\n",
            "Epoch 36/100\n",
            "\u001b[1m150/150\u001b[0m \u001b[32m━━━━━━━━━━━━━━━━━━━━\u001b[0m\u001b[37m\u001b[0m \u001b[1m1s\u001b[0m 3ms/step - accuracy: 1.0000 - loss: 3.4864e-05 - val_accuracy: 0.9696 - val_loss: 0.2163\n",
            "Epoch 37/100\n",
            "\u001b[1m150/150\u001b[0m \u001b[32m━━━━━━━━━━━━━━━━━━━━\u001b[0m\u001b[37m\u001b[0m \u001b[1m1s\u001b[0m 3ms/step - accuracy: 1.0000 - loss: 3.1386e-05 - val_accuracy: 0.9696 - val_loss: 0.2178\n",
            "Epoch 38/100\n",
            "\u001b[1m150/150\u001b[0m \u001b[32m━━━━━━━━━━━━━━━━━━━━\u001b[0m\u001b[37m\u001b[0m \u001b[1m0s\u001b[0m 3ms/step - accuracy: 1.0000 - loss: 2.8322e-05 - val_accuracy: 0.9692 - val_loss: 0.2193\n",
            "Epoch 39/100\n",
            "\u001b[1m150/150\u001b[0m \u001b[32m━━━━━━━━━━━━━━━━━━━━\u001b[0m\u001b[37m\u001b[0m \u001b[1m1s\u001b[0m 3ms/step - accuracy: 1.0000 - loss: 2.5628e-05 - val_accuracy: 0.9692 - val_loss: 0.2208\n",
            "Epoch 40/100\n",
            "\u001b[1m150/150\u001b[0m \u001b[32m━━━━━━━━━━━━━━━━━━━━\u001b[0m\u001b[37m\u001b[0m \u001b[1m0s\u001b[0m 3ms/step - accuracy: 1.0000 - loss: 2.3241e-05 - val_accuracy: 0.9692 - val_loss: 0.2223\n",
            "Epoch 41/100\n",
            "\u001b[1m150/150\u001b[0m \u001b[32m━━━━━━━━━━━━━━━━━━━━\u001b[0m\u001b[37m\u001b[0m \u001b[1m1s\u001b[0m 3ms/step - accuracy: 1.0000 - loss: 2.1126e-05 - val_accuracy: 0.9692 - val_loss: 0.2237\n",
            "Epoch 42/100\n",
            "\u001b[1m150/150\u001b[0m \u001b[32m━━━━━━━━━━━━━━━━━━━━\u001b[0m\u001b[37m\u001b[0m \u001b[1m1s\u001b[0m 3ms/step - accuracy: 1.0000 - loss: 1.9244e-05 - val_accuracy: 0.9692 - val_loss: 0.2252\n",
            "Epoch 43/100\n",
            "\u001b[1m150/150\u001b[0m \u001b[32m━━━━━━━━━━━━━━━━━━━━\u001b[0m\u001b[37m\u001b[0m \u001b[1m1s\u001b[0m 6ms/step - accuracy: 1.0000 - loss: 1.7553e-05 - val_accuracy: 0.9692 - val_loss: 0.2266\n",
            "Epoch 44/100\n",
            "\u001b[1m150/150\u001b[0m \u001b[32m━━━━━━━━━━━━━━━━━━━━\u001b[0m\u001b[37m\u001b[0m \u001b[1m0s\u001b[0m 3ms/step - accuracy: 1.0000 - loss: 1.6015e-05 - val_accuracy: 0.9692 - val_loss: 0.2280\n",
            "Epoch 45/100\n",
            "\u001b[1m150/150\u001b[0m \u001b[32m━━━━━━━━━━━━━━━━━━━━\u001b[0m\u001b[37m\u001b[0m \u001b[1m1s\u001b[0m 4ms/step - accuracy: 1.0000 - loss: 1.4655e-05 - val_accuracy: 0.9696 - val_loss: 0.2294\n",
            "Epoch 46/100\n",
            "\u001b[1m150/150\u001b[0m \u001b[32m━━━━━━━━━━━━━━━━━━━━\u001b[0m\u001b[37m\u001b[0m \u001b[1m1s\u001b[0m 4ms/step - accuracy: 1.0000 - loss: 1.3426e-05 - val_accuracy: 0.9696 - val_loss: 0.2308\n",
            "Epoch 47/100\n",
            "\u001b[1m150/150\u001b[0m \u001b[32m━━━━━━━━━━━━━━━━━━━━\u001b[0m\u001b[37m\u001b[0m \u001b[1m1s\u001b[0m 3ms/step - accuracy: 1.0000 - loss: 1.2313e-05 - val_accuracy: 0.9692 - val_loss: 0.2321\n",
            "Epoch 48/100\n",
            "\u001b[1m150/150\u001b[0m \u001b[32m━━━━━━━━━━━━━━━━━━━━\u001b[0m\u001b[37m\u001b[0m \u001b[1m1s\u001b[0m 3ms/step - accuracy: 1.0000 - loss: 1.1305e-05 - val_accuracy: 0.9692 - val_loss: 0.2335\n",
            "Epoch 49/100\n",
            "\u001b[1m150/150\u001b[0m \u001b[32m━━━━━━━━━━━━━━━━━━━━\u001b[0m\u001b[37m\u001b[0m \u001b[1m1s\u001b[0m 5ms/step - accuracy: 1.0000 - loss: 1.0389e-05 - val_accuracy: 0.9692 - val_loss: 0.2348\n",
            "Epoch 50/100\n",
            "\u001b[1m150/150\u001b[0m \u001b[32m━━━━━━━━━━━━━━━━━━━━\u001b[0m\u001b[37m\u001b[0m \u001b[1m1s\u001b[0m 3ms/step - accuracy: 1.0000 - loss: 9.5478e-06 - val_accuracy: 0.9696 - val_loss: 0.2362\n",
            "Epoch 51/100\n",
            "\u001b[1m150/150\u001b[0m \u001b[32m━━━━━━━━━━━━━━━━━━━━\u001b[0m\u001b[37m\u001b[0m \u001b[1m0s\u001b[0m 3ms/step - accuracy: 1.0000 - loss: 8.7813e-06 - val_accuracy: 0.9696 - val_loss: 0.2375\n",
            "Epoch 52/100\n",
            "\u001b[1m150/150\u001b[0m \u001b[32m━━━━━━━━━━━━━━━━━━━━\u001b[0m\u001b[37m\u001b[0m \u001b[1m1s\u001b[0m 3ms/step - accuracy: 1.0000 - loss: 8.0752e-06 - val_accuracy: 0.9696 - val_loss: 0.2389\n",
            "Epoch 53/100\n",
            "\u001b[1m150/150\u001b[0m \u001b[32m━━━━━━━━━━━━━━━━━━━━\u001b[0m\u001b[37m\u001b[0m \u001b[1m0s\u001b[0m 3ms/step - accuracy: 1.0000 - loss: 7.4310e-06 - val_accuracy: 0.9700 - val_loss: 0.2402\n",
            "Epoch 54/100\n",
            "\u001b[1m150/150\u001b[0m \u001b[32m━━━━━━━━━━━━━━━━━━━━\u001b[0m\u001b[37m\u001b[0m \u001b[1m1s\u001b[0m 3ms/step - accuracy: 1.0000 - loss: 6.8374e-06 - val_accuracy: 0.9700 - val_loss: 0.2415\n",
            "Epoch 55/100\n",
            "\u001b[1m150/150\u001b[0m \u001b[32m━━━━━━━━━━━━━━━━━━━━\u001b[0m\u001b[37m\u001b[0m \u001b[1m1s\u001b[0m 3ms/step - accuracy: 1.0000 - loss: 6.2969e-06 - val_accuracy: 0.9700 - val_loss: 0.2428\n",
            "Epoch 56/100\n",
            "\u001b[1m150/150\u001b[0m \u001b[32m━━━━━━━━━━━━━━━━━━━━\u001b[0m\u001b[37m\u001b[0m \u001b[1m1s\u001b[0m 3ms/step - accuracy: 1.0000 - loss: 5.8048e-06 - val_accuracy: 0.9700 - val_loss: 0.2441\n",
            "Epoch 57/100\n",
            "\u001b[1m150/150\u001b[0m \u001b[32m━━━━━━━━━━━━━━━━━━━━\u001b[0m\u001b[37m\u001b[0m \u001b[1m1s\u001b[0m 3ms/step - accuracy: 1.0000 - loss: 5.3517e-06 - val_accuracy: 0.9700 - val_loss: 0.2455\n",
            "Epoch 58/100\n",
            "\u001b[1m150/150\u001b[0m \u001b[32m━━━━━━━━━━━━━━━━━━━━\u001b[0m\u001b[37m\u001b[0m \u001b[1m0s\u001b[0m 3ms/step - accuracy: 1.0000 - loss: 4.9332e-06 - val_accuracy: 0.9700 - val_loss: 0.2468\n",
            "Epoch 59/100\n",
            "\u001b[1m150/150\u001b[0m \u001b[32m━━━━━━━━━━━━━━━━━━━━\u001b[0m\u001b[37m\u001b[0m \u001b[1m1s\u001b[0m 3ms/step - accuracy: 1.0000 - loss: 4.5494e-06 - val_accuracy: 0.9700 - val_loss: 0.2481\n",
            "Epoch 60/100\n",
            "\u001b[1m150/150\u001b[0m \u001b[32m━━━━━━━━━━━━━━━━━━━━\u001b[0m\u001b[37m\u001b[0m \u001b[1m1s\u001b[0m 3ms/step - accuracy: 1.0000 - loss: 4.1988e-06 - val_accuracy: 0.9696 - val_loss: 0.2494\n",
            "Epoch 61/100\n",
            "\u001b[1m150/150\u001b[0m \u001b[32m━━━━━━━━━━━━━━━━━━━━\u001b[0m\u001b[37m\u001b[0m \u001b[1m0s\u001b[0m 3ms/step - accuracy: 1.0000 - loss: 3.8772e-06 - val_accuracy: 0.9696 - val_loss: 0.2507\n",
            "Epoch 62/100\n",
            "\u001b[1m150/150\u001b[0m \u001b[32m━━━━━━━━━━━━━━━━━━━━\u001b[0m\u001b[37m\u001b[0m \u001b[1m1s\u001b[0m 3ms/step - accuracy: 1.0000 - loss: 3.5784e-06 - val_accuracy: 0.9696 - val_loss: 0.2520\n",
            "Epoch 63/100\n",
            "\u001b[1m150/150\u001b[0m \u001b[32m━━━━━━━━━━━━━━━━━━━━\u001b[0m\u001b[37m\u001b[0m \u001b[1m1s\u001b[0m 4ms/step - accuracy: 1.0000 - loss: 3.3041e-06 - val_accuracy: 0.9704 - val_loss: 0.2532\n",
            "Epoch 64/100\n",
            "\u001b[1m150/150\u001b[0m \u001b[32m━━━━━━━━━━━━━━━━━━━━\u001b[0m\u001b[37m\u001b[0m \u001b[1m1s\u001b[0m 4ms/step - accuracy: 1.0000 - loss: 3.0473e-06 - val_accuracy: 0.9704 - val_loss: 0.2545\n",
            "Epoch 65/100\n",
            "\u001b[1m150/150\u001b[0m \u001b[32m━━━━━━━━━━━━━━━━━━━━\u001b[0m\u001b[37m\u001b[0m \u001b[1m1s\u001b[0m 4ms/step - accuracy: 1.0000 - loss: 2.8132e-06 - val_accuracy: 0.9704 - val_loss: 0.2558\n",
            "Epoch 66/100\n",
            "\u001b[1m150/150\u001b[0m \u001b[32m━━━━━━━━━━━━━━━━━━━━\u001b[0m\u001b[37m\u001b[0m \u001b[1m0s\u001b[0m 3ms/step - accuracy: 1.0000 - loss: 2.6009e-06 - val_accuracy: 0.9704 - val_loss: 0.2571\n",
            "Epoch 67/100\n",
            "\u001b[1m150/150\u001b[0m \u001b[32m━━━━━━━━━━━━━━━━━━━━\u001b[0m\u001b[37m\u001b[0m \u001b[1m0s\u001b[0m 3ms/step - accuracy: 1.0000 - loss: 2.4024e-06 - val_accuracy: 0.9708 - val_loss: 0.2583\n",
            "Epoch 68/100\n",
            "\u001b[1m150/150\u001b[0m \u001b[32m━━━━━━━━━━━━━━━━━━━━\u001b[0m\u001b[37m\u001b[0m \u001b[1m1s\u001b[0m 3ms/step - accuracy: 1.0000 - loss: 2.2208e-06 - val_accuracy: 0.9712 - val_loss: 0.2596\n",
            "Epoch 69/100\n",
            "\u001b[1m150/150\u001b[0m \u001b[32m━━━━━━━━━━━━━━━━━━━━\u001b[0m\u001b[37m\u001b[0m \u001b[1m0s\u001b[0m 3ms/step - accuracy: 1.0000 - loss: 2.0531e-06 - val_accuracy: 0.9712 - val_loss: 0.2608\n",
            "Epoch 70/100\n",
            "\u001b[1m150/150\u001b[0m \u001b[32m━━━━━━━━━━━━━━━━━━━━\u001b[0m\u001b[37m\u001b[0m \u001b[1m0s\u001b[0m 3ms/step - accuracy: 1.0000 - loss: 1.8966e-06 - val_accuracy: 0.9712 - val_loss: 0.2621\n",
            "Epoch 71/100\n",
            "\u001b[1m150/150\u001b[0m \u001b[32m━━━━━━━━━━━━━━━━━━━━\u001b[0m\u001b[37m\u001b[0m \u001b[1m1s\u001b[0m 3ms/step - accuracy: 1.0000 - loss: 1.7534e-06 - val_accuracy: 0.9712 - val_loss: 0.2633\n",
            "Epoch 72/100\n",
            "\u001b[1m150/150\u001b[0m \u001b[32m━━━━━━━━━━━━━━━━━━━━\u001b[0m\u001b[37m\u001b[0m \u001b[1m1s\u001b[0m 3ms/step - accuracy: 1.0000 - loss: 1.6215e-06 - val_accuracy: 0.9712 - val_loss: 0.2645\n",
            "Epoch 73/100\n",
            "\u001b[1m150/150\u001b[0m \u001b[32m━━━━━━━━━━━━━━━━━━━━\u001b[0m\u001b[37m\u001b[0m \u001b[1m0s\u001b[0m 3ms/step - accuracy: 1.0000 - loss: 1.5005e-06 - val_accuracy: 0.9712 - val_loss: 0.2658\n",
            "Epoch 74/100\n",
            "\u001b[1m150/150\u001b[0m \u001b[32m━━━━━━━━━━━━━━━━━━━━\u001b[0m\u001b[37m\u001b[0m \u001b[1m1s\u001b[0m 3ms/step - accuracy: 1.0000 - loss: 1.3874e-06 - val_accuracy: 0.9712 - val_loss: 0.2670\n",
            "Epoch 75/100\n",
            "\u001b[1m150/150\u001b[0m \u001b[32m━━━━━━━━━━━━━━━━━━━━\u001b[0m\u001b[37m\u001b[0m \u001b[1m1s\u001b[0m 3ms/step - accuracy: 1.0000 - loss: 1.2829e-06 - val_accuracy: 0.9712 - val_loss: 0.2682\n",
            "Epoch 76/100\n",
            "\u001b[1m150/150\u001b[0m \u001b[32m━━━━━━━━━━━━━━━━━━━━\u001b[0m\u001b[37m\u001b[0m \u001b[1m1s\u001b[0m 3ms/step - accuracy: 1.0000 - loss: 1.1852e-06 - val_accuracy: 0.9712 - val_loss: 0.2695\n",
            "Epoch 77/100\n",
            "\u001b[1m150/150\u001b[0m \u001b[32m━━━━━━━━━━━━━━━━━━━━\u001b[0m\u001b[37m\u001b[0m \u001b[1m1s\u001b[0m 4ms/step - accuracy: 1.0000 - loss: 1.0957e-06 - val_accuracy: 0.9712 - val_loss: 0.2708\n",
            "Epoch 78/100\n",
            "\u001b[1m150/150\u001b[0m \u001b[32m━━━━━━━━━━━━━━━━━━━━\u001b[0m\u001b[37m\u001b[0m \u001b[1m0s\u001b[0m 3ms/step - accuracy: 1.0000 - loss: 1.0126e-06 - val_accuracy: 0.9712 - val_loss: 0.2720\n",
            "Epoch 79/100\n",
            "\u001b[1m150/150\u001b[0m \u001b[32m━━━━━━━━━━━━━━━━━━━━\u001b[0m\u001b[37m\u001b[0m \u001b[1m1s\u001b[0m 3ms/step - accuracy: 1.0000 - loss: 9.3593e-07 - val_accuracy: 0.9712 - val_loss: 0.2733\n",
            "Epoch 80/100\n",
            "\u001b[1m150/150\u001b[0m \u001b[32m━━━━━━━━━━━━━━━━━━━━\u001b[0m\u001b[37m\u001b[0m \u001b[1m1s\u001b[0m 3ms/step - accuracy: 1.0000 - loss: 8.6544e-07 - val_accuracy: 0.9712 - val_loss: 0.2746\n",
            "Epoch 81/100\n",
            "\u001b[1m150/150\u001b[0m \u001b[32m━━━━━━━━━━━━━━━━━━━━\u001b[0m\u001b[37m\u001b[0m \u001b[1m1s\u001b[0m 3ms/step - accuracy: 1.0000 - loss: 8.0007e-07 - val_accuracy: 0.9712 - val_loss: 0.2758\n",
            "Epoch 82/100\n",
            "\u001b[1m150/150\u001b[0m \u001b[32m━━━━━━━━━━━━━━━━━━━━\u001b[0m\u001b[37m\u001b[0m \u001b[1m1s\u001b[0m 3ms/step - accuracy: 1.0000 - loss: 7.3964e-07 - val_accuracy: 0.9712 - val_loss: 0.2771\n",
            "Epoch 83/100\n",
            "\u001b[1m150/150\u001b[0m \u001b[32m━━━━━━━━━━━━━━━━━━━━\u001b[0m\u001b[37m\u001b[0m \u001b[1m1s\u001b[0m 4ms/step - accuracy: 1.0000 - loss: 6.8386e-07 - val_accuracy: 0.9712 - val_loss: 0.2784\n",
            "Epoch 84/100\n",
            "\u001b[1m150/150\u001b[0m \u001b[32m━━━━━━━━━━━━━━━━━━━━\u001b[0m\u001b[37m\u001b[0m \u001b[1m1s\u001b[0m 4ms/step - accuracy: 1.0000 - loss: 6.3220e-07 - val_accuracy: 0.9712 - val_loss: 0.2797\n",
            "Epoch 85/100\n",
            "\u001b[1m150/150\u001b[0m \u001b[32m━━━━━━━━━━━━━━━━━━━━\u001b[0m\u001b[37m\u001b[0m \u001b[1m1s\u001b[0m 3ms/step - accuracy: 1.0000 - loss: 5.8440e-07 - val_accuracy: 0.9712 - val_loss: 0.2810\n",
            "Epoch 86/100\n",
            "\u001b[1m150/150\u001b[0m \u001b[32m━━━━━━━━━━━━━━━━━━━━\u001b[0m\u001b[37m\u001b[0m \u001b[1m1s\u001b[0m 3ms/step - accuracy: 1.0000 - loss: 5.4101e-07 - val_accuracy: 0.9712 - val_loss: 0.2823\n",
            "Epoch 87/100\n",
            "\u001b[1m150/150\u001b[0m \u001b[32m━━━━━━━━━━━━━━━━━━━━\u001b[0m\u001b[37m\u001b[0m \u001b[1m1s\u001b[0m 4ms/step - accuracy: 1.0000 - loss: 4.9995e-07 - val_accuracy: 0.9712 - val_loss: 0.2836\n",
            "Epoch 88/100\n",
            "\u001b[1m150/150\u001b[0m \u001b[32m━━━━━━━━━━━━━━━━━━━━\u001b[0m\u001b[37m\u001b[0m \u001b[1m1s\u001b[0m 5ms/step - accuracy: 1.0000 - loss: 4.6186e-07 - val_accuracy: 0.9712 - val_loss: 0.2849\n",
            "Epoch 89/100\n",
            "\u001b[1m150/150\u001b[0m \u001b[32m━━━━━━━━━━━━━━━━━━━━\u001b[0m\u001b[37m\u001b[0m \u001b[1m1s\u001b[0m 4ms/step - accuracy: 1.0000 - loss: 4.2665e-07 - val_accuracy: 0.9712 - val_loss: 0.2861\n",
            "Epoch 90/100\n",
            "\u001b[1m150/150\u001b[0m \u001b[32m━━━━━━━━━━━━━━━━━━━━\u001b[0m\u001b[37m\u001b[0m \u001b[1m1s\u001b[0m 3ms/step - accuracy: 1.0000 - loss: 3.9368e-07 - val_accuracy: 0.9712 - val_loss: 0.2874\n",
            "Epoch 91/100\n",
            "\u001b[1m150/150\u001b[0m \u001b[32m━━━━━━━━━━━━━━━━━━━━\u001b[0m\u001b[37m\u001b[0m \u001b[1m1s\u001b[0m 3ms/step - accuracy: 1.0000 - loss: 3.6391e-07 - val_accuracy: 0.9712 - val_loss: 0.2887\n",
            "Epoch 92/100\n",
            "\u001b[1m150/150\u001b[0m \u001b[32m━━━━━━━━━━━━━━━━━━━━\u001b[0m\u001b[37m\u001b[0m \u001b[1m1s\u001b[0m 3ms/step - accuracy: 1.0000 - loss: 3.3679e-07 - val_accuracy: 0.9712 - val_loss: 0.2900\n",
            "Epoch 93/100\n",
            "\u001b[1m150/150\u001b[0m \u001b[32m━━━━━━━━━━━━━━━━━━━━\u001b[0m\u001b[37m\u001b[0m \u001b[1m0s\u001b[0m 3ms/step - accuracy: 1.0000 - loss: 3.1145e-07 - val_accuracy: 0.9712 - val_loss: 0.2913\n",
            "Epoch 94/100\n",
            "\u001b[1m150/150\u001b[0m \u001b[32m━━━━━━━━━━━━━━━━━━━━\u001b[0m\u001b[37m\u001b[0m \u001b[1m1s\u001b[0m 3ms/step - accuracy: 1.0000 - loss: 2.8839e-07 - val_accuracy: 0.9712 - val_loss: 0.2926\n",
            "Epoch 95/100\n",
            "\u001b[1m150/150\u001b[0m \u001b[32m━━━━━━━━━━━━━━━━━━━━\u001b[0m\u001b[37m\u001b[0m \u001b[1m1s\u001b[0m 3ms/step - accuracy: 1.0000 - loss: 2.6686e-07 - val_accuracy: 0.9712 - val_loss: 0.2939\n",
            "Epoch 96/100\n",
            "\u001b[1m150/150\u001b[0m \u001b[32m━━━━━━━━━━━━━━━━━━━━\u001b[0m\u001b[37m\u001b[0m \u001b[1m1s\u001b[0m 3ms/step - accuracy: 1.0000 - loss: 2.4657e-07 - val_accuracy: 0.9712 - val_loss: 0.2951\n",
            "Epoch 97/100\n",
            "\u001b[1m150/150\u001b[0m \u001b[32m━━━━━━━━━━━━━━━━━━━━\u001b[0m\u001b[37m\u001b[0m \u001b[1m1s\u001b[0m 3ms/step - accuracy: 1.0000 - loss: 2.2834e-07 - val_accuracy: 0.9712 - val_loss: 0.2964\n",
            "Epoch 98/100\n",
            "\u001b[1m150/150\u001b[0m \u001b[32m━━━━━━━━━━━━━━━━━━━━\u001b[0m\u001b[37m\u001b[0m \u001b[1m1s\u001b[0m 3ms/step - accuracy: 1.0000 - loss: 2.1126e-07 - val_accuracy: 0.9712 - val_loss: 0.2977\n",
            "Epoch 99/100\n",
            "\u001b[1m150/150\u001b[0m \u001b[32m━━━━━━━━━━━━━━━━━━━━\u001b[0m\u001b[37m\u001b[0m \u001b[1m1s\u001b[0m 3ms/step - accuracy: 1.0000 - loss: 1.9508e-07 - val_accuracy: 0.9712 - val_loss: 0.2990\n",
            "Epoch 100/100\n",
            "\u001b[1m150/150\u001b[0m \u001b[32m━━━━━━━━━━━━━━━━━━━━\u001b[0m\u001b[37m\u001b[0m \u001b[1m1s\u001b[0m 3ms/step - accuracy: 1.0000 - loss: 1.8045e-07 - val_accuracy: 0.9712 - val_loss: 0.3002\n",
            "Test Loss: 0.2605459690093994\n",
            "Test Accuracy: 0.968999981880188\n"
          ]
        }
      ],
      "source": [
        "model.compile(optimizer=\"adam\",\n",
        "              loss=\"sparse_categorical_crossentropy\",\n",
        "              metrics=[\"accuracy\"])\n",
        "history = model.fit(\n",
        "                    X, y,\n",
        "                    batch_size=64,\n",
        "                    epochs=100,\n",
        "                    validation_split=0.2,\n",
        "                    shuffle=True\n",
        ")\n",
        "results = model.evaluate(X_test, y_test, verbose=0)\n",
        "print(f'Test Loss: {results[0]}')\n",
        "print(f'Test Accuracy: {results[1]}')"
      ]
    },
    {
      "cell_type": "markdown",
      "id": "b8551074",
      "metadata": {
        "id": "b8551074"
      },
      "source": [
        "Ahora vamos a evaluar los valores en cada *epoch* de la función de perdida y la *accuracy*"
      ]
    },
    {
      "cell_type": "code",
      "execution_count": 12,
      "id": "0a68150f",
      "metadata": {
        "colab": {
          "base_uri": "https://localhost:8080/",
          "height": 542
        },
        "id": "0a68150f",
        "outputId": "3ca050ff-d3fb-411c-c1c4-3ecc445f6fd2"
      },
      "outputs": [
        {
          "data": {
            "image/png": "[encoded data removed]",
            "text/plain": [
              "<Figure size 1600x600 with 2 Axes>"
            ]
          },
          "metadata": {},
          "output_type": "display_data"
        }
      ],
      "source": [
        "def show_loss_accuracy_evolution(history):\n",
        "    hist = pd.DataFrame(history.history)\n",
        "    hist[\"epoch\"] = history.epoch\n",
        "\n",
        "    fig, (ax1, ax2) = plt.subplots(1, 2, figsize=(16, 6))\n",
        "\n",
        "    ax1.set_xlabel(\"Epoch\")\n",
        "    ax1.set_ylabel(\"loss\")\n",
        "    ax1.plot(hist['epoch'], hist['loss'], label='Train Error')\n",
        "    ax1.plot(hist['epoch'], hist['val_loss'], label = 'Val Error')\n",
        "    ax1.grid()\n",
        "    ax1.legend()\n",
        "\n",
        "    ax2.set_xlabel('Epoch')\n",
        "    ax2.set_ylabel('Accuracy')\n",
        "    ax2.plot(hist['epoch'], hist['accuracy'], label='Train Accuracy')\n",
        "    ax2.plot(hist['epoch'], hist['val_accuracy'], label = 'Val Accuracy')\n",
        "    ax2.grid()\n",
        "    ax2.legend()\n",
        "\n",
        "    plt.show()\n",
        "\n",
        "show_loss_accuracy_evolution(history)"
      ]
    },
    {
      "cell_type": "markdown",
      "id": "9efad91d",
      "metadata": {
        "id": "9efad91d"
      },
      "source": [
        "## Crear un modelo mas simple\n",
        "Una de las formas para prevenir el sobreajuste es creando un modelo más sencillo -> crear un modelo con menos numero de paramtros -> el cuál está determinado por el número de neuronas por capa.\n",
        "\n",
        "Un modelo más complejo es capaz de aprender casi cualquier cosa de los datos de entrenamiento: **INCLUSO LA ALEATORIEDAD**"
      ]
    },
    {
      "cell_type": "code",
      "execution_count": 13,
      "id": "c49740cf",
      "metadata": {
        "colab": {
          "base_uri": "https://localhost:8080/",
          "height": 1000
        },
        "id": "c49740cf",
        "outputId": "51946c4f-bf27-4ffb-bb54-e9a532265734"
      },
      "outputs": [
        {
          "name": "stdout",
          "output_type": "stream",
          "text": [
            "Epoch 1/100\n"
          ]
        },
        {
          "name": "stderr",
          "output_type": "stream",
          "text": [
            "/usr/local/lib/python3.11/dist-packages/keras/src/ops/nn.py:907: UserWarning: You are using a softmax over axis -1 of a tensor of shape (None, 1). This axis has size 1. The softmax operation will always return the value 1, which is likely not what you intended. Did you mean to use a sigmoid instead?\n",
            "  warnings.warn(\n"
          ]
        },
        {
          "name": "stdout",
          "output_type": "stream",
          "text": [
            "\u001b[1m141/141\u001b[0m \u001b[32m━━━━━━━━━━━━━━━━━━━━\u001b[0m\u001b[37m\u001b[0m \u001b[1m3s\u001b[0m 11ms/step - accuracy: 0.0952 - loss: nan - val_accuracy: 0.1053 - val_loss: nan\n",
            "Epoch 2/100\n",
            "\u001b[1m141/141\u001b[0m \u001b[32m━━━━━━━━━━━━━━━━━━━━\u001b[0m\u001b[37m\u001b[0m \u001b[1m1s\u001b[0m 3ms/step - accuracy: 0.0946 - loss: nan - val_accuracy: 0.1053 - val_loss: nan\n",
            "Epoch 3/100\n",
            "\u001b[1m141/141\u001b[0m \u001b[32m━━━━━━━━━━━━━━━━━━━━\u001b[0m\u001b[37m\u001b[0m \u001b[1m1s\u001b[0m 3ms/step - accuracy: 0.0946 - loss: nan - val_accuracy: 0.1053 - val_loss: nan\n",
            "Epoch 4/100\n",
            "\u001b[1m141/141\u001b[0m \u001b[32m━━━━━━━━━━━━━━━━━━━━\u001b[0m\u001b[37m\u001b[0m \u001b[1m1s\u001b[0m 3ms/step - accuracy: 0.0946 - loss: nan - val_accuracy: 0.1053 - val_loss: nan\n",
            "Epoch 5/100\n",
            "\u001b[1m141/141\u001b[0m \u001b[32m━━━━━━━━━━━━━━━━━━━━\u001b[0m\u001b[37m\u001b[0m \u001b[1m0s\u001b[0m 3ms/step - accuracy: 0.0946 - loss: nan - val_accuracy: 0.1053 - val_loss: nan\n",
            "Epoch 6/100\n",
            "\u001b[1m141/141\u001b[0m \u001b[32m━━━━━━━━━━━━━━━━━━━━\u001b[0m\u001b[37m\u001b[0m \u001b[1m1s\u001b[0m 3ms/step - accuracy: 0.0946 - loss: nan - val_accuracy: 0.1053 - val_loss: nan\n",
            "Epoch 7/100\n",
            "\u001b[1m141/141\u001b[0m \u001b[32m━━━━━━━━━━━━━━━━━━━━\u001b[0m\u001b[37m\u001b[0m \u001b[1m1s\u001b[0m 3ms/step - accuracy: 0.0946 - loss: nan - val_accuracy: 0.1053 - val_loss: nan\n",
            "Epoch 8/100\n",
            "\u001b[1m141/141\u001b[0m \u001b[32m━━━━━━━━━━━━━━━━━━━━\u001b[0m\u001b[37m\u001b[0m \u001b[1m0s\u001b[0m 3ms/step - accuracy: 0.0946 - loss: nan - val_accuracy: 0.1053 - val_loss: nan\n",
            "Epoch 9/100\n",
            "\u001b[1m141/141\u001b[0m \u001b[32m━━━━━━━━━━━━━━━━━━━━\u001b[0m\u001b[37m\u001b[0m \u001b[1m1s\u001b[0m 3ms/step - accuracy: 0.0946 - loss: nan - val_accuracy: 0.1053 - val_loss: nan\n",
            "Epoch 10/100\n",
            "\u001b[1m141/141\u001b[0m \u001b[32m━━━━━━━━━━━━━━━━━━━━\u001b[0m\u001b[37m\u001b[0m \u001b[1m1s\u001b[0m 3ms/step - accuracy: 0.0946 - loss: nan - val_accuracy: 0.1053 - val_loss: nan\n",
            "Epoch 11/100\n",
            "\u001b[1m141/141\u001b[0m \u001b[32m━━━━━━━━━━━━━━━━━━━━\u001b[0m\u001b[37m\u001b[0m \u001b[1m1s\u001b[0m 3ms/step - accuracy: 0.0946 - loss: nan - val_accuracy: 0.1053 - val_loss: nan\n",
            "Epoch 12/100\n",
            "\u001b[1m141/141\u001b[0m \u001b[32m━━━━━━━━━━━━━━━━━━━━\u001b[0m\u001b[37m\u001b[0m \u001b[1m0s\u001b[0m 3ms/step - accuracy: 0.0946 - loss: nan - val_accuracy: 0.1053 - val_loss: nan\n",
            "Epoch 13/100\n",
            "\u001b[1m141/141\u001b[0m \u001b[32m━━━━━━━━━━━━━━━━━━━━\u001b[0m\u001b[37m\u001b[0m \u001b[1m1s\u001b[0m 5ms/step - accuracy: 0.0946 - loss: nan - val_accuracy: 0.1053 - val_loss: nan\n",
            "Epoch 14/100\n",
            "\u001b[1m141/141\u001b[0m \u001b[32m━━━━━━━━━━━━━━━━━━━━\u001b[0m\u001b[37m\u001b[0m \u001b[1m1s\u001b[0m 5ms/step - accuracy: 0.0946 - loss: nan - val_accuracy: 0.1053 - val_loss: nan\n",
            "Epoch 15/100\n",
            "\u001b[1m141/141\u001b[0m \u001b[32m━━━━━━━━━━━━━━━━━━━━\u001b[0m\u001b[37m\u001b[0m \u001b[1m1s\u001b[0m 5ms/step - accuracy: 0.0946 - loss: nan - val_accuracy: 0.1053 - val_loss: nan\n",
            "Epoch 16/100\n",
            "\u001b[1m141/141\u001b[0m \u001b[32m━━━━━━━━━━━━━━━━━━━━\u001b[0m\u001b[37m\u001b[0m \u001b[1m1s\u001b[0m 3ms/step - accuracy: 0.0946 - loss: nan - val_accuracy: 0.1053 - val_loss: nan\n",
            "Epoch 17/100\n",
            "\u001b[1m141/141\u001b[0m \u001b[32m━━━━━━━━━━━━━━━━━━━━\u001b[0m\u001b[37m\u001b[0m \u001b[1m1s\u001b[0m 4ms/step - accuracy: 0.0946 - loss: nan - val_accuracy: 0.1053 - val_loss: nan\n",
            "Epoch 18/100\n",
            "\u001b[1m141/141\u001b[0m \u001b[32m━━━━━━━━━━━━━━━━━━━━\u001b[0m\u001b[37m\u001b[0m \u001b[1m1s\u001b[0m 3ms/step - accuracy: 0.0946 - loss: nan - val_accuracy: 0.1053 - val_loss: nan\n",
            "Epoch 19/100\n",
            "\u001b[1m141/141\u001b[0m \u001b[32m━━━━━━━━━━━━━━━━━━━━\u001b[0m\u001b[37m\u001b[0m \u001b[1m1s\u001b[0m 3ms/step - accuracy: 0.0946 - loss: nan - val_accuracy: 0.1053 - val_loss: nan\n",
            "Epoch 20/100\n",
            "\u001b[1m141/141\u001b[0m \u001b[32m━━━━━━━━━━━━━━━━━━━━\u001b[0m\u001b[37m\u001b[0m \u001b[1m1s\u001b[0m 3ms/step - accuracy: 0.0946 - loss: nan - val_accuracy: 0.1053 - val_loss: nan\n",
            "Epoch 21/100\n",
            "\u001b[1m141/141\u001b[0m \u001b[32m━━━━━━━━━━━━━━━━━━━━\u001b[0m\u001b[37m\u001b[0m \u001b[1m1s\u001b[0m 3ms/step - accuracy: 0.0946 - loss: nan - val_accuracy: 0.1053 - val_loss: nan\n",
            "Epoch 22/100\n",
            "\u001b[1m141/141\u001b[0m \u001b[32m━━━━━━━━━━━━━━━━━━━━\u001b[0m\u001b[37m\u001b[0m \u001b[1m1s\u001b[0m 3ms/step - accuracy: 0.0946 - loss: nan - val_accuracy: 0.1053 - val_loss: nan\n",
            "Epoch 23/100\n",
            "\u001b[1m141/141\u001b[0m \u001b[32m━━━━━━━━━━━━━━━━━━━━\u001b[0m\u001b[37m\u001b[0m \u001b[1m1s\u001b[0m 3ms/step - accuracy: 0.0946 - loss: nan - val_accuracy: 0.1053 - val_loss: nan\n",
            "Epoch 24/100\n",
            "\u001b[1m141/141\u001b[0m \u001b[32m━━━━━━━━━━━━━━━━━━━━\u001b[0m\u001b[37m\u001b[0m \u001b[1m1s\u001b[0m 3ms/step - accuracy: 0.0946 - loss: nan - val_accuracy: 0.1053 - val_loss: nan\n",
            "Epoch 25/100\n",
            "\u001b[1m141/141\u001b[0m \u001b[32m━━━━━━━━━━━━━━━━━━━━\u001b[0m\u001b[37m\u001b[0m \u001b[1m0s\u001b[0m 3ms/step - accuracy: 0.0946 - loss: nan - val_accuracy: 0.1053 - val_loss: nan\n",
            "Epoch 26/100\n",
            "\u001b[1m141/141\u001b[0m \u001b[32m━━━━━━━━━━━━━━━━━━━━\u001b[0m\u001b[37m\u001b[0m \u001b[1m1s\u001b[0m 4ms/step - accuracy: 0.0946 - loss: nan - val_accuracy: 0.1053 - val_loss: nan\n",
            "Epoch 27/100\n",
            "\u001b[1m141/141\u001b[0m \u001b[32m━━━━━━━━━━━━━━━━━━━━\u001b[0m\u001b[37m\u001b[0m \u001b[1m1s\u001b[0m 3ms/step - accuracy: 0.0946 - loss: nan - val_accuracy: 0.1053 - val_loss: nan\n",
            "Epoch 28/100\n",
            "\u001b[1m141/141\u001b[0m \u001b[32m━━━━━━━━━━━━━━━━━━━━\u001b[0m\u001b[37m\u001b[0m \u001b[1m1s\u001b[0m 3ms/step - accuracy: 0.0946 - loss: nan - val_accuracy: 0.1053 - val_loss: nan\n",
            "Epoch 29/100\n",
            "\u001b[1m141/141\u001b[0m \u001b[32m━━━━━━━━━━━━━━━━━━━━\u001b[0m\u001b[37m\u001b[0m \u001b[1m1s\u001b[0m 3ms/step - accuracy: 0.0946 - loss: nan - val_accuracy: 0.1053 - val_loss: nan\n",
            "Epoch 30/100\n",
            "\u001b[1m141/141\u001b[0m \u001b[32m━━━━━━━━━━━━━━━━━━━━\u001b[0m\u001b[37m\u001b[0m \u001b[1m0s\u001b[0m 3ms/step - accuracy: 0.0946 - loss: nan - val_accuracy: 0.1053 - val_loss: nan\n",
            "Epoch 31/100\n",
            "\u001b[1m141/141\u001b[0m \u001b[32m━━━━━━━━━━━━━━━━━━━━\u001b[0m\u001b[37m\u001b[0m \u001b[1m1s\u001b[0m 3ms/step - accuracy: 0.0946 - loss: nan - val_accuracy: 0.1053 - val_loss: nan\n",
            "Epoch 32/100\n",
            "\u001b[1m141/141\u001b[0m \u001b[32m━━━━━━━━━━━━━━━━━━━━\u001b[0m\u001b[37m\u001b[0m \u001b[1m1s\u001b[0m 6ms/step - accuracy: 0.0946 - loss: nan - val_accuracy: 0.1053 - val_loss: nan\n",
            "Epoch 33/100\n",
            "\u001b[1m141/141\u001b[0m \u001b[32m━━━━━━━━━━━━━━━━━━━━\u001b[0m\u001b[37m\u001b[0m \u001b[1m1s\u001b[0m 5ms/step - accuracy: 0.0946 - loss: nan - val_accuracy: 0.1053 - val_loss: nan\n",
            "Epoch 34/100\n",
            "\u001b[1m141/141\u001b[0m \u001b[32m━━━━━━━━━━━━━━━━━━━━\u001b[0m\u001b[37m\u001b[0m \u001b[1m1s\u001b[0m 3ms/step - accuracy: 0.0946 - loss: nan - val_accuracy: 0.1053 - val_loss: nan\n",
            "Epoch 35/100\n",
            "\u001b[1m141/141\u001b[0m \u001b[32m━━━━━━━━━━━━━━━━━━━━\u001b[0m\u001b[37m\u001b[0m \u001b[1m1s\u001b[0m 3ms/step - accuracy: 0.0946 - loss: nan - val_accuracy: 0.1053 - val_loss: nan\n",
            "Epoch 36/100\n",
            "\u001b[1m141/141\u001b[0m \u001b[32m━━━━━━━━━━━━━━━━━━━━\u001b[0m\u001b[37m\u001b[0m \u001b[1m0s\u001b[0m 3ms/step - accuracy: 0.0946 - loss: nan - val_accuracy: 0.1053 - val_loss: nan\n",
            "Epoch 37/100\n",
            "\u001b[1m141/141\u001b[0m \u001b[32m━━━━━━━━━━━━━━━━━━━━\u001b[0m\u001b[37m\u001b[0m \u001b[1m1s\u001b[0m 3ms/step - accuracy: 0.0946 - loss: nan - val_accuracy: 0.1053 - val_loss: nan\n",
            "Epoch 38/100\n",
            "\u001b[1m141/141\u001b[0m \u001b[32m━━━━━━━━━━━━━━━━━━━━\u001b[0m\u001b[37m\u001b[0m \u001b[1m0s\u001b[0m 3ms/step - accuracy: 0.0946 - loss: nan - val_accuracy: 0.1053 - val_loss: nan\n",
            "Epoch 39/100\n",
            "\u001b[1m141/141\u001b[0m \u001b[32m━━━━━━━━━━━━━━━━━━━━\u001b[0m\u001b[37m\u001b[0m \u001b[1m1s\u001b[0m 4ms/step - accuracy: 0.0946 - loss: nan - val_accuracy: 0.1053 - val_loss: nan\n",
            "Epoch 40/100\n",
            "\u001b[1m141/141\u001b[0m \u001b[32m━━━━━━━━━━━━━━━━━━━━\u001b[0m\u001b[37m\u001b[0m \u001b[1m1s\u001b[0m 3ms/step - accuracy: 0.0946 - loss: nan - val_accuracy: 0.1053 - val_loss: nan\n",
            "Epoch 41/100\n",
            "\u001b[1m141/141\u001b[0m \u001b[32m━━━━━━━━━━━━━━━━━━━━\u001b[0m\u001b[37m\u001b[0m \u001b[1m0s\u001b[0m 3ms/step - accuracy: 0.0946 - loss: nan - val_accuracy: 0.1053 - val_loss: nan\n",
            "Epoch 42/100\n",
            "\u001b[1m141/141\u001b[0m \u001b[32m━━━━━━━━━━━━━━━━━━━━\u001b[0m\u001b[37m\u001b[0m \u001b[1m0s\u001b[0m 3ms/step - accuracy: 0.0946 - loss: nan - val_accuracy: 0.1053 - val_loss: nan\n",
            "Epoch 43/100\n",
            "\u001b[1m141/141\u001b[0m \u001b[32m━━━━━━━━━━━━━━━━━━━━\u001b[0m\u001b[37m\u001b[0m \u001b[1m1s\u001b[0m 3ms/step - accuracy: 0.0946 - loss: nan - val_accuracy: 0.1053 - val_loss: nan\n",
            "Epoch 44/100\n",
            "\u001b[1m141/141\u001b[0m \u001b[32m━━━━━━━━━━━━━━━━━━━━\u001b[0m\u001b[37m\u001b[0m \u001b[1m1s\u001b[0m 4ms/step - accuracy: 0.0946 - loss: nan - val_accuracy: 0.1053 - val_loss: nan\n",
            "Epoch 45/100\n",
            "\u001b[1m141/141\u001b[0m \u001b[32m━━━━━━━━━━━━━━━━━━━━\u001b[0m\u001b[37m\u001b[0m \u001b[1m1s\u001b[0m 3ms/step - accuracy: 0.0946 - loss: nan - val_accuracy: 0.1053 - val_loss: nan\n",
            "Epoch 46/100\n",
            "\u001b[1m141/141\u001b[0m \u001b[32m━━━━━━━━━━━━━━━━━━━━\u001b[0m\u001b[37m\u001b[0m \u001b[1m1s\u001b[0m 3ms/step - accuracy: 0.0946 - loss: nan - val_accuracy: 0.1053 - val_loss: nan\n",
            "Epoch 47/100\n",
            "\u001b[1m141/141\u001b[0m \u001b[32m━━━━━━━━━━━━━━━━━━━━\u001b[0m\u001b[37m\u001b[0m \u001b[1m1s\u001b[0m 3ms/step - accuracy: 0.0946 - loss: nan - val_accuracy: 0.1053 - val_loss: nan\n",
            "Epoch 48/100\n",
            "\u001b[1m141/141\u001b[0m \u001b[32m━━━━━━━━━━━━━━━━━━━━\u001b[0m\u001b[37m\u001b[0m \u001b[1m0s\u001b[0m 3ms/step - accuracy: 0.0946 - loss: nan - val_accuracy: 0.1053 - val_loss: nan\n",
            "Epoch 49/100\n",
            "\u001b[1m141/141\u001b[0m \u001b[32m━━━━━━━━━━━━━━━━━━━━\u001b[0m\u001b[37m\u001b[0m \u001b[1m1s\u001b[0m 3ms/step - accuracy: 0.0946 - loss: nan - val_accuracy: 0.1053 - val_loss: nan\n",
            "Epoch 50/100\n",
            "\u001b[1m141/141\u001b[0m \u001b[32m━━━━━━━━━━━━━━━━━━━━\u001b[0m\u001b[37m\u001b[0m \u001b[1m1s\u001b[0m 3ms/step - accuracy: 0.0946 - loss: nan - val_accuracy: 0.1053 - val_loss: nan\n",
            "Epoch 51/100\n",
            "\u001b[1m141/141\u001b[0m \u001b[32m━━━━━━━━━━━━━━━━━━━━\u001b[0m\u001b[37m\u001b[0m \u001b[1m1s\u001b[0m 5ms/step - accuracy: 0.0946 - loss: nan - val_accuracy: 0.1053 - val_loss: nan\n",
            "Epoch 52/100\n",
            "\u001b[1m141/141\u001b[0m \u001b[32m━━━━━━━━━━━━━━━━━━━━\u001b[0m\u001b[37m\u001b[0m \u001b[1m1s\u001b[0m 6ms/step - accuracy: 0.0946 - loss: nan - val_accuracy: 0.1053 - val_loss: nan\n",
            "Epoch 53/100\n",
            "\u001b[1m141/141\u001b[0m \u001b[32m━━━━━━━━━━━━━━━━━━━━\u001b[0m\u001b[37m\u001b[0m \u001b[1m1s\u001b[0m 3ms/step - accuracy: 0.0946 - loss: nan - val_accuracy: 0.1053 - val_loss: nan\n",
            "Epoch 54/100\n",
            "\u001b[1m141/141\u001b[0m \u001b[32m━━━━━━━━━━━━━━━━━━━━\u001b[0m\u001b[37m\u001b[0m \u001b[1m0s\u001b[0m 3ms/step - accuracy: 0.0946 - loss: nan - val_accuracy: 0.1053 - val_loss: nan\n",
            "Epoch 55/100\n",
            "\u001b[1m141/141\u001b[0m \u001b[32m━━━━━━━━━━━━━━━━━━━━\u001b[0m\u001b[37m\u001b[0m \u001b[1m1s\u001b[0m 3ms/step - accuracy: 0.0946 - loss: nan - val_accuracy: 0.1053 - val_loss: nan\n",
            "Epoch 56/100\n",
            "\u001b[1m141/141\u001b[0m \u001b[32m━━━━━━━━━━━━━━━━━━━━\u001b[0m\u001b[37m\u001b[0m \u001b[1m1s\u001b[0m 4ms/step - accuracy: 0.0946 - loss: nan - val_accuracy: 0.1053 - val_loss: nan\n",
            "Epoch 57/100\n",
            "\u001b[1m141/141\u001b[0m \u001b[32m━━━━━━━━━━━━━━━━━━━━\u001b[0m\u001b[37m\u001b[0m \u001b[1m1s\u001b[0m 3ms/step - accuracy: 0.0946 - loss: nan - val_accuracy: 0.1053 - val_loss: nan\n",
            "Epoch 58/100\n",
            "\u001b[1m141/141\u001b[0m \u001b[32m━━━━━━━━━━━━━━━━━━━━\u001b[0m\u001b[37m\u001b[0m \u001b[1m1s\u001b[0m 3ms/step - accuracy: 0.0946 - loss: nan - val_accuracy: 0.1053 - val_loss: nan\n",
            "Epoch 59/100\n",
            "\u001b[1m141/141\u001b[0m \u001b[32m━━━━━━━━━━━━━━━━━━━━\u001b[0m\u001b[37m\u001b[0m \u001b[1m0s\u001b[0m 3ms/step - accuracy: 0.0946 - loss: nan - val_accuracy: 0.1053 - val_loss: nan\n",
            "Epoch 60/100\n",
            "\u001b[1m141/141\u001b[0m \u001b[32m━━━━━━━━━━━━━━━━━━━━\u001b[0m\u001b[37m\u001b[0m \u001b[1m1s\u001b[0m 3ms/step - accuracy: 0.0946 - loss: nan - val_accuracy: 0.1053 - val_loss: nan\n",
            "Epoch 61/100\n",
            "\u001b[1m141/141\u001b[0m \u001b[32m━━━━━━━━━━━━━━━━━━━━\u001b[0m\u001b[37m\u001b[0m \u001b[1m1s\u001b[0m 3ms/step - accuracy: 0.0946 - loss: nan - val_accuracy: 0.1053 - val_loss: nan\n",
            "Epoch 62/100\n",
            "\u001b[1m141/141\u001b[0m \u001b[32m━━━━━━━━━━━━━━━━━━━━\u001b[0m\u001b[37m\u001b[0m \u001b[1m1s\u001b[0m 4ms/step - accuracy: 0.0946 - loss: nan - val_accuracy: 0.1053 - val_loss: nan\n",
            "Epoch 63/100\n",
            "\u001b[1m141/141\u001b[0m \u001b[32m━━━━━━━━━━━━━━━━━━━━\u001b[0m\u001b[37m\u001b[0m \u001b[1m1s\u001b[0m 4ms/step - accuracy: 0.0946 - loss: nan - val_accuracy: 0.1053 - val_loss: nan\n",
            "Epoch 64/100\n",
            "\u001b[1m141/141\u001b[0m \u001b[32m━━━━━━━━━━━━━━━━━━━━\u001b[0m\u001b[37m\u001b[0m \u001b[1m1s\u001b[0m 3ms/step - accuracy: 0.0946 - loss: nan - val_accuracy: 0.1053 - val_loss: nan\n",
            "Epoch 65/100\n",
            "\u001b[1m141/141\u001b[0m \u001b[32m━━━━━━━━━━━━━━━━━━━━\u001b[0m\u001b[37m\u001b[0m \u001b[1m0s\u001b[0m 3ms/step - accuracy: 0.0946 - loss: nan - val_accuracy: 0.1053 - val_loss: nan\n",
            "Epoch 66/100\n",
            "\u001b[1m141/141\u001b[0m \u001b[32m━━━━━━━━━━━━━━━━━━━━\u001b[0m\u001b[37m\u001b[0m \u001b[1m0s\u001b[0m 3ms/step - accuracy: 0.0946 - loss: nan - val_accuracy: 0.1053 - val_loss: nan\n",
            "Epoch 67/100\n",
            "\u001b[1m141/141\u001b[0m \u001b[32m━━━━━━━━━━━━━━━━━━━━\u001b[0m\u001b[37m\u001b[0m \u001b[1m0s\u001b[0m 3ms/step - accuracy: 0.0946 - loss: nan - val_accuracy: 0.1053 - val_loss: nan\n",
            "Epoch 68/100\n",
            "\u001b[1m141/141\u001b[0m \u001b[32m━━━━━━━━━━━━━━━━━━━━\u001b[0m\u001b[37m\u001b[0m \u001b[1m1s\u001b[0m 3ms/step - accuracy: 0.0946 - loss: nan - val_accuracy: 0.1053 - val_loss: nan\n",
            "Epoch 69/100\n",
            "\u001b[1m141/141\u001b[0m \u001b[32m━━━━━━━━━━━━━━━━━━━━\u001b[0m\u001b[37m\u001b[0m \u001b[1m1s\u001b[0m 4ms/step - accuracy: 0.0946 - loss: nan - val_accuracy: 0.1053 - val_loss: nan\n",
            "Epoch 70/100\n",
            "\u001b[1m141/141\u001b[0m \u001b[32m━━━━━━━━━━━━━━━━━━━━\u001b[0m\u001b[37m\u001b[0m \u001b[1m1s\u001b[0m 5ms/step - accuracy: 0.0946 - loss: nan - val_accuracy: 0.1053 - val_loss: nan\n",
            "Epoch 71/100\n",
            "\u001b[1m141/141\u001b[0m \u001b[32m━━━━━━━━━━━━━━━━━━━━\u001b[0m\u001b[37m\u001b[0m \u001b[1m1s\u001b[0m 4ms/step - accuracy: 0.0946 - loss: nan - val_accuracy: 0.1053 - val_loss: nan\n",
            "Epoch 72/100\n",
            "\u001b[1m141/141\u001b[0m \u001b[32m━━━━━━━━━━━━━━━━━━━━\u001b[0m\u001b[37m\u001b[0m \u001b[1m1s\u001b[0m 3ms/step - accuracy: 0.0946 - loss: nan - val_accuracy: 0.1053 - val_loss: nan\n",
            "Epoch 73/100\n",
            "\u001b[1m141/141\u001b[0m \u001b[32m━━━━━━━━━━━━━━━━━━━━\u001b[0m\u001b[37m\u001b[0m \u001b[1m1s\u001b[0m 4ms/step - accuracy: 0.0946 - loss: nan - val_accuracy: 0.1053 - val_loss: nan\n",
            "Epoch 74/100\n",
            "\u001b[1m141/141\u001b[0m \u001b[32m━━━━━━━━━━━━━━━━━━━━\u001b[0m\u001b[37m\u001b[0m \u001b[1m0s\u001b[0m 3ms/step - accuracy: 0.0946 - loss: nan - val_accuracy: 0.1053 - val_loss: nan\n",
            "Epoch 75/100\n",
            "\u001b[1m141/141\u001b[0m \u001b[32m━━━━━━━━━━━━━━━━━━━━\u001b[0m\u001b[37m\u001b[0m \u001b[1m1s\u001b[0m 3ms/step - accuracy: 0.0946 - loss: nan - val_accuracy: 0.1053 - val_loss: nan\n",
            "Epoch 76/100\n",
            "\u001b[1m141/141\u001b[0m \u001b[32m━━━━━━━━━━━━━━━━━━━━\u001b[0m\u001b[37m\u001b[0m \u001b[1m0s\u001b[0m 3ms/step - accuracy: 0.0946 - loss: nan - val_accuracy: 0.1053 - val_loss: nan\n",
            "Epoch 77/100\n",
            "\u001b[1m141/141\u001b[0m \u001b[32m━━━━━━━━━━━━━━━━━━━━\u001b[0m\u001b[37m\u001b[0m \u001b[1m0s\u001b[0m 3ms/step - accuracy: 0.0946 - loss: nan - val_accuracy: 0.1053 - val_loss: nan\n",
            "Epoch 78/100\n",
            "\u001b[1m141/141\u001b[0m \u001b[32m━━━━━━━━━━━━━━━━━━━━\u001b[0m\u001b[37m\u001b[0m \u001b[1m0s\u001b[0m 3ms/step - accuracy: 0.0946 - loss: nan - val_accuracy: 0.1053 - val_loss: nan\n",
            "Epoch 79/100\n",
            "\u001b[1m141/141\u001b[0m \u001b[32m━━━━━━━━━━━━━━━━━━━━\u001b[0m\u001b[37m\u001b[0m \u001b[1m1s\u001b[0m 3ms/step - accuracy: 0.0946 - loss: nan - val_accuracy: 0.1053 - val_loss: nan\n",
            "Epoch 80/100\n",
            "\u001b[1m141/141\u001b[0m \u001b[32m━━━━━━━━━━━━━━━━━━━━\u001b[0m\u001b[37m\u001b[0m \u001b[1m1s\u001b[0m 3ms/step - accuracy: 0.0946 - loss: nan - val_accuracy: 0.1053 - val_loss: nan\n",
            "Epoch 81/100\n",
            "\u001b[1m141/141\u001b[0m \u001b[32m━━━━━━━━━━━━━━━━━━━━\u001b[0m\u001b[37m\u001b[0m \u001b[1m0s\u001b[0m 3ms/step - accuracy: 0.0946 - loss: nan - val_accuracy: 0.1053 - val_loss: nan\n",
            "Epoch 82/100\n",
            "\u001b[1m141/141\u001b[0m \u001b[32m━━━━━━━━━━━━━━━━━━━━\u001b[0m\u001b[37m\u001b[0m \u001b[1m1s\u001b[0m 3ms/step - accuracy: 0.0946 - loss: nan - val_accuracy: 0.1053 - val_loss: nan\n",
            "Epoch 83/100\n",
            "\u001b[1m141/141\u001b[0m \u001b[32m━━━━━━━━━━━━━━━━━━━━\u001b[0m\u001b[37m\u001b[0m \u001b[1m1s\u001b[0m 3ms/step - accuracy: 0.0946 - loss: nan - val_accuracy: 0.1053 - val_loss: nan\n",
            "Epoch 84/100\n",
            "\u001b[1m141/141\u001b[0m \u001b[32m━━━━━━━━━━━━━━━━━━━━\u001b[0m\u001b[37m\u001b[0m \u001b[1m1s\u001b[0m 3ms/step - accuracy: 0.0946 - loss: nan - val_accuracy: 0.1053 - val_loss: nan\n",
            "Epoch 85/100\n",
            "\u001b[1m141/141\u001b[0m \u001b[32m━━━━━━━━━━━━━━━━━━━━\u001b[0m\u001b[37m\u001b[0m \u001b[1m1s\u001b[0m 3ms/step - accuracy: 0.0946 - loss: nan - val_accuracy: 0.1053 - val_loss: nan\n",
            "Epoch 86/100\n",
            "\u001b[1m141/141\u001b[0m \u001b[32m━━━━━━━━━━━━━━━━━━━━\u001b[0m\u001b[37m\u001b[0m \u001b[1m1s\u001b[0m 3ms/step - accuracy: 0.0946 - loss: nan - val_accuracy: 0.1053 - val_loss: nan\n",
            "Epoch 87/100\n",
            "\u001b[1m141/141\u001b[0m \u001b[32m━━━━━━━━━━━━━━━━━━━━\u001b[0m\u001b[37m\u001b[0m \u001b[1m0s\u001b[0m 3ms/step - accuracy: 0.0946 - loss: nan - val_accuracy: 0.1053 - val_loss: nan\n",
            "Epoch 88/100\n",
            "\u001b[1m141/141\u001b[0m \u001b[32m━━━━━━━━━━━━━━━━━━━━\u001b[0m\u001b[37m\u001b[0m \u001b[1m1s\u001b[0m 3ms/step - accuracy: 0.0946 - loss: nan - val_accuracy: 0.1053 - val_loss: nan\n",
            "Epoch 89/100\n",
            "\u001b[1m141/141\u001b[0m \u001b[32m━━━━━━━━━━━━━━━━━━━━\u001b[0m\u001b[37m\u001b[0m \u001b[1m1s\u001b[0m 4ms/step - accuracy: 0.0946 - loss: nan - val_accuracy: 0.1053 - val_loss: nan\n",
            "Epoch 90/100\n",
            "\u001b[1m141/141\u001b[0m \u001b[32m━━━━━━━━━━━━━━━━━━━━\u001b[0m\u001b[37m\u001b[0m \u001b[1m1s\u001b[0m 5ms/step - accuracy: 0.0946 - loss: nan - val_accuracy: 0.1053 - val_loss: nan\n",
            "Epoch 91/100\n",
            "\u001b[1m141/141\u001b[0m \u001b[32m━━━━━━━━━━━━━━━━━━━━\u001b[0m\u001b[37m\u001b[0m \u001b[1m0s\u001b[0m 3ms/step - accuracy: 0.0946 - loss: nan - val_accuracy: 0.1053 - val_loss: nan\n",
            "Epoch 92/100\n",
            "\u001b[1m141/141\u001b[0m \u001b[32m━━━━━━━━━━━━━━━━━━━━\u001b[0m\u001b[37m\u001b[0m \u001b[1m1s\u001b[0m 3ms/step - accuracy: 0.0946 - loss: nan - val_accuracy: 0.1053 - val_loss: nan\n",
            "Epoch 93/100\n",
            "\u001b[1m141/141\u001b[0m \u001b[32m━━━━━━━━━━━━━━━━━━━━\u001b[0m\u001b[37m\u001b[0m \u001b[1m1s\u001b[0m 3ms/step - accuracy: 0.0946 - loss: nan - val_accuracy: 0.1053 - val_loss: nan\n",
            "Epoch 94/100\n",
            "\u001b[1m141/141\u001b[0m \u001b[32m━━━━━━━━━━━━━━━━━━━━\u001b[0m\u001b[37m\u001b[0m \u001b[1m0s\u001b[0m 3ms/step - accuracy: 0.0946 - loss: nan - val_accuracy: 0.1053 - val_loss: nan\n",
            "Epoch 95/100\n",
            "\u001b[1m141/141\u001b[0m \u001b[32m━━━━━━━━━━━━━━━━━━━━\u001b[0m\u001b[37m\u001b[0m \u001b[1m0s\u001b[0m 3ms/step - accuracy: 0.0946 - loss: nan - val_accuracy: 0.1053 - val_loss: nan\n",
            "Epoch 96/100\n",
            "\u001b[1m141/141\u001b[0m \u001b[32m━━━━━━━━━━━━━━━━━━━━\u001b[0m\u001b[37m\u001b[0m \u001b[1m0s\u001b[0m 3ms/step - accuracy: 0.0946 - loss: nan - val_accuracy: 0.1053 - val_loss: nan\n",
            "Epoch 97/100\n",
            "\u001b[1m141/141\u001b[0m \u001b[32m━━━━━━━━━━━━━━━━━━━━\u001b[0m\u001b[37m\u001b[0m \u001b[1m1s\u001b[0m 3ms/step - accuracy: 0.0946 - loss: nan - val_accuracy: 0.1053 - val_loss: nan\n",
            "Epoch 98/100\n",
            "\u001b[1m141/141\u001b[0m \u001b[32m━━━━━━━━━━━━━━━━━━━━\u001b[0m\u001b[37m\u001b[0m \u001b[1m1s\u001b[0m 3ms/step - accuracy: 0.0946 - loss: nan - val_accuracy: 0.1053 - val_loss: nan\n",
            "Epoch 99/100\n",
            "\u001b[1m141/141\u001b[0m \u001b[32m━━━━━━━━━━━━━━━━━━━━\u001b[0m\u001b[37m\u001b[0m \u001b[1m0s\u001b[0m 3ms/step - accuracy: 0.0946 - loss: nan - val_accuracy: 0.1053 - val_loss: nan\n",
            "Epoch 100/100\n",
            "\u001b[1m141/141\u001b[0m \u001b[32m━━━━━━━━━━━━━━━━━━━━\u001b[0m\u001b[37m\u001b[0m \u001b[1m1s\u001b[0m 3ms/step - accuracy: 0.0946 - loss: nan - val_accuracy: 0.1053 - val_loss: nan\n"
          ]
        },
        {
          "data": {
            "image/png": "[encoded data removed]",
            "text/plain": [
              "<Figure size 1600x600 with 2 Axes>"
            ]
          },
          "metadata": {},
          "output_type": "display_data"
        }
      ],
      "source": [
        "inputs = tf.keras.Input(shape=(28,28), name=(\"input_layer\"))\n",
        "\n",
        "flat = layers.Flatten()(inputs)\n",
        "\n",
        "l_1 = layers.Dense(8, activation=\"relu\", name=\"layer_1\")(flat)\n",
        "l_2 = layers.Dense(8, activation=\"relu\", name=\"layer_2\")(l_1)\n",
        "\n",
        "outputs = layers.Dense(1, activation=\"softmax\", name=\"output_layer\")(l_2)\n",
        "\n",
        "# Definimos el modelo\n",
        "model_simpler = keras.Model(inputs=inputs, outputs=outputs, name=\"try_not_overfit\")\n",
        "model_simpler.compile(optimizer='adam',\n",
        "                      loss='sparse_categorical_crossentropy',\n",
        "                      metrics=['accuracy'])\n",
        "history_simpler = model_simpler.fit(X,\n",
        "                                    y,\n",
        "                                    batch_size=64,\n",
        "                                    epochs=100,\n",
        "                                    validation_split=0.25,\n",
        "                                    shuffle=True)\n",
        "\n",
        "show_loss_accuracy_evolution(history_simpler)"
      ]
    },
    {
      "cell_type": "markdown",
      "id": "feaaa5ab",
      "metadata": {
        "id": "feaaa5ab"
      },
      "source": [
        "## Reduciendo el `batch_size`\n",
        "Otro método es disminuyendo el tamaño del *batch* durante el *gradient descent* para así tener más incertidumbre a la hora de estimar los **parametros del gradiente**\n"
      ]
    },
    {
      "cell_type": "code",
      "execution_count": 14,
      "id": "0e4689fb",
      "metadata": {
        "colab": {
          "base_uri": "https://localhost:8080/",
          "height": 1000
        },
        "id": "0e4689fb",
        "outputId": "692fca6c-c4b6-471e-9ba4-ab488fb18386"
      },
      "outputs": [
        {
          "name": "stdout",
          "output_type": "stream",
          "text": [
            "Epoch 1/100\n"
          ]
        },
        {
          "name": "stderr",
          "output_type": "stream",
          "text": [
            "/usr/local/lib/python3.11/dist-packages/keras/src/ops/nn.py:907: UserWarning: You are using a softmax over axis -1 of a tensor of shape (16, 1). This axis has size 1. The softmax operation will always return the value 1, which is likely not what you intended. Did you mean to use a sigmoid instead?\n",
            "  warnings.warn(\n"
          ]
        },
        {
          "name": "stdout",
          "output_type": "stream",
          "text": [
            "\u001b[1m600/600\u001b[0m \u001b[32m━━━━━━━━━━━━━━━━━━━━\u001b[0m\u001b[37m\u001b[0m \u001b[1m4s\u001b[0m 3ms/step - accuracy: 0.0971 - loss: nan - val_accuracy: 0.1075 - val_loss: nan\n",
            "Epoch 2/100\n",
            "\u001b[1m600/600\u001b[0m \u001b[32m━━━━━━━━━━━━━━━━━━━━\u001b[0m\u001b[37m\u001b[0m \u001b[1m2s\u001b[0m 4ms/step - accuracy: 0.0978 - loss: nan - val_accuracy: 0.1075 - val_loss: nan\n",
            "Epoch 3/100\n",
            "\u001b[1m600/600\u001b[0m \u001b[32m━━━━━━━━━━━━━━━━━━━━\u001b[0m\u001b[37m\u001b[0m \u001b[1m2s\u001b[0m 3ms/step - accuracy: 0.0978 - loss: nan - val_accuracy: 0.1075 - val_loss: nan\n",
            "Epoch 4/100\n",
            "\u001b[1m600/600\u001b[0m \u001b[32m━━━━━━━━━━━━━━━━━━━━\u001b[0m\u001b[37m\u001b[0m \u001b[1m2s\u001b[0m 3ms/step - accuracy: 0.0978 - loss: nan - val_accuracy: 0.1075 - val_loss: nan\n",
            "Epoch 5/100\n",
            "\u001b[1m600/600\u001b[0m \u001b[32m━━━━━━━━━━━━━━━━━━━━\u001b[0m\u001b[37m\u001b[0m \u001b[1m2s\u001b[0m 3ms/step - accuracy: 0.0978 - loss: nan - val_accuracy: 0.1075 - val_loss: nan\n",
            "Epoch 6/100\n",
            "\u001b[1m600/600\u001b[0m \u001b[32m━━━━━━━━━━━━━━━━━━━━\u001b[0m\u001b[37m\u001b[0m \u001b[1m3s\u001b[0m 3ms/step - accuracy: 0.0978 - loss: nan - val_accuracy: 0.1075 - val_loss: nan\n",
            "Epoch 7/100\n",
            "\u001b[1m600/600\u001b[0m \u001b[32m━━━━━━━━━━━━━━━━━━━━\u001b[0m\u001b[37m\u001b[0m \u001b[1m3s\u001b[0m 4ms/step - accuracy: 0.0978 - loss: nan - val_accuracy: 0.1075 - val_loss: nan\n",
            "Epoch 8/100\n",
            "\u001b[1m600/600\u001b[0m \u001b[32m━━━━━━━━━━━━━━━━━━━━\u001b[0m\u001b[37m\u001b[0m \u001b[1m2s\u001b[0m 3ms/step - accuracy: 0.0978 - loss: nan - val_accuracy: 0.1075 - val_loss: nan\n",
            "Epoch 9/100\n",
            "\u001b[1m600/600\u001b[0m \u001b[32m━━━━━━━━━━━━━━━━━━━━\u001b[0m\u001b[37m\u001b[0m \u001b[1m3s\u001b[0m 3ms/step - accuracy: 0.0978 - loss: nan - val_accuracy: 0.1075 - val_loss: nan\n",
            "Epoch 10/100\n",
            "\u001b[1m600/600\u001b[0m \u001b[32m━━━━━━━━━━━━━━━━━━━━\u001b[0m\u001b[37m\u001b[0m \u001b[1m3s\u001b[0m 3ms/step - accuracy: 0.0978 - loss: nan - val_accuracy: 0.1075 - val_loss: nan\n",
            "Epoch 11/100\n",
            "\u001b[1m600/600\u001b[0m \u001b[32m━━━━━━━━━━━━━━━━━━━━\u001b[0m\u001b[37m\u001b[0m \u001b[1m2s\u001b[0m 3ms/step - accuracy: 0.0978 - loss: nan - val_accuracy: 0.1075 - val_loss: nan\n",
            "Epoch 12/100\n",
            "\u001b[1m600/600\u001b[0m \u001b[32m━━━━━━━━━━━━━━━━━━━━\u001b[0m\u001b[37m\u001b[0m \u001b[1m2s\u001b[0m 3ms/step - accuracy: 0.0978 - loss: nan - val_accuracy: 0.1075 - val_loss: nan\n",
            "Epoch 13/100\n",
            "\u001b[1m600/600\u001b[0m \u001b[32m━━━━━━━━━━━━━━━━━━━━\u001b[0m\u001b[37m\u001b[0m \u001b[1m2s\u001b[0m 3ms/step - accuracy: 0.0978 - loss: nan - val_accuracy: 0.1075 - val_loss: nan\n",
            "Epoch 14/100\n",
            "\u001b[1m600/600\u001b[0m \u001b[32m━━━━━━━━━━━━━━━━━━━━\u001b[0m\u001b[37m\u001b[0m \u001b[1m3s\u001b[0m 3ms/step - accuracy: 0.0978 - loss: nan - val_accuracy: 0.1075 - val_loss: nan\n",
            "Epoch 15/100\n",
            "\u001b[1m600/600\u001b[0m \u001b[32m━━━━━━━━━━━━━━━━━━━━\u001b[0m\u001b[37m\u001b[0m \u001b[1m2s\u001b[0m 3ms/step - accuracy: 0.0978 - loss: nan - val_accuracy: 0.1075 - val_loss: nan\n",
            "Epoch 16/100\n",
            "\u001b[1m600/600\u001b[0m \u001b[32m━━━━━━━━━━━━━━━━━━━━\u001b[0m\u001b[37m\u001b[0m \u001b[1m2s\u001b[0m 3ms/step - accuracy: 0.0978 - loss: nan - val_accuracy: 0.1075 - val_loss: nan\n",
            "Epoch 17/100\n",
            "\u001b[1m600/600\u001b[0m \u001b[32m━━━━━━━━━━━━━━━━━━━━\u001b[0m\u001b[37m\u001b[0m \u001b[1m2s\u001b[0m 3ms/step - accuracy: 0.0978 - loss: nan - val_accuracy: 0.1075 - val_loss: nan\n",
            "Epoch 18/100\n",
            "\u001b[1m600/600\u001b[0m \u001b[32m━━━━━━━━━━━━━━━━━━━━\u001b[0m\u001b[37m\u001b[0m \u001b[1m2s\u001b[0m 3ms/step - accuracy: 0.0978 - loss: nan - val_accuracy: 0.1075 - val_loss: nan\n",
            "Epoch 19/100\n",
            "\u001b[1m600/600\u001b[0m \u001b[32m━━━━━━━━━━━━━━━━━━━━\u001b[0m\u001b[37m\u001b[0m \u001b[1m2s\u001b[0m 3ms/step - accuracy: 0.0978 - loss: nan - val_accuracy: 0.1075 - val_loss: nan\n",
            "Epoch 20/100\n",
            "\u001b[1m600/600\u001b[0m \u001b[32m━━━━━━━━━━━━━━━━━━━━\u001b[0m\u001b[37m\u001b[0m \u001b[1m3s\u001b[0m 3ms/step - accuracy: 0.0978 - loss: nan - val_accuracy: 0.1075 - val_loss: nan\n",
            "Epoch 21/100\n",
            "\u001b[1m600/600\u001b[0m \u001b[32m━━━━━━━━━━━━━━━━━━━━\u001b[0m\u001b[37m\u001b[0m \u001b[1m2s\u001b[0m 3ms/step - accuracy: 0.0978 - loss: nan - val_accuracy: 0.1075 - val_loss: nan\n",
            "Epoch 22/100\n",
            "\u001b[1m600/600\u001b[0m \u001b[32m━━━━━━━━━━━━━━━━━━━━\u001b[0m\u001b[37m\u001b[0m \u001b[1m2s\u001b[0m 3ms/step - accuracy: 0.0978 - loss: nan - val_accuracy: 0.1075 - val_loss: nan\n",
            "Epoch 23/100\n",
            "\u001b[1m600/600\u001b[0m \u001b[32m━━━━━━━━━━━━━━━━━━━━\u001b[0m\u001b[37m\u001b[0m \u001b[1m3s\u001b[0m 3ms/step - accuracy: 0.0978 - loss: nan - val_accuracy: 0.1075 - val_loss: nan\n",
            "Epoch 24/100\n",
            "\u001b[1m600/600\u001b[0m \u001b[32m━━━━━━━━━━━━━━━━━━━━\u001b[0m\u001b[37m\u001b[0m \u001b[1m2s\u001b[0m 4ms/step - accuracy: 0.0978 - loss: nan - val_accuracy: 0.1075 - val_loss: nan\n",
            "Epoch 25/100\n",
            "\u001b[1m600/600\u001b[0m \u001b[32m━━━━━━━━━━━━━━━━━━━━\u001b[0m\u001b[37m\u001b[0m \u001b[1m2s\u001b[0m 3ms/step - accuracy: 0.0978 - loss: nan - val_accuracy: 0.1075 - val_loss: nan\n",
            "Epoch 26/100\n",
            "\u001b[1m600/600\u001b[0m \u001b[32m━━━━━━━━━━━━━━━━━━━━\u001b[0m\u001b[37m\u001b[0m \u001b[1m2s\u001b[0m 3ms/step - accuracy: 0.0978 - loss: nan - val_accuracy: 0.1075 - val_loss: nan\n",
            "Epoch 27/100\n",
            "\u001b[1m600/600\u001b[0m \u001b[32m━━━━━━━━━━━━━━━━━━━━\u001b[0m\u001b[37m\u001b[0m \u001b[1m2s\u001b[0m 3ms/step - accuracy: 0.0978 - loss: nan - val_accuracy: 0.1075 - val_loss: nan\n",
            "Epoch 28/100\n",
            "\u001b[1m600/600\u001b[0m \u001b[32m━━━━━━━━━━━━━━━━━━━━\u001b[0m\u001b[37m\u001b[0m \u001b[1m3s\u001b[0m 3ms/step - accuracy: 0.0978 - loss: nan - val_accuracy: 0.1075 - val_loss: nan\n",
            "Epoch 29/100\n",
            "\u001b[1m600/600\u001b[0m \u001b[32m━━━━━━━━━━━━━━━━━━━━\u001b[0m\u001b[37m\u001b[0m \u001b[1m2s\u001b[0m 3ms/step - accuracy: 0.0978 - loss: nan - val_accuracy: 0.1075 - val_loss: nan\n",
            "Epoch 30/100\n",
            "\u001b[1m600/600\u001b[0m \u001b[32m━━━━━━━━━━━━━━━━━━━━\u001b[0m\u001b[37m\u001b[0m \u001b[1m2s\u001b[0m 4ms/step - accuracy: 0.0978 - loss: nan - val_accuracy: 0.1075 - val_loss: nan\n",
            "Epoch 31/100\n",
            "\u001b[1m600/600\u001b[0m \u001b[32m━━━━━━━━━━━━━━━━━━━━\u001b[0m\u001b[37m\u001b[0m \u001b[1m2s\u001b[0m 3ms/step - accuracy: 0.0978 - loss: nan - val_accuracy: 0.1075 - val_loss: nan\n",
            "Epoch 32/100\n",
            "\u001b[1m600/600\u001b[0m \u001b[32m━━━━━━━━━━━━━━━━━━━━\u001b[0m\u001b[37m\u001b[0m \u001b[1m2s\u001b[0m 3ms/step - accuracy: 0.0978 - loss: nan - val_accuracy: 0.1075 - val_loss: nan\n",
            "Epoch 33/100\n",
            "\u001b[1m600/600\u001b[0m \u001b[32m━━━━━━━━━━━━━━━━━━━━\u001b[0m\u001b[37m\u001b[0m \u001b[1m3s\u001b[0m 3ms/step - accuracy: 0.0978 - loss: nan - val_accuracy: 0.1075 - val_loss: nan\n",
            "Epoch 34/100\n",
            "\u001b[1m600/600\u001b[0m \u001b[32m━━━━━━━━━━━━━━━━━━━━\u001b[0m\u001b[37m\u001b[0m \u001b[1m2s\u001b[0m 3ms/step - accuracy: 0.0978 - loss: nan - val_accuracy: 0.1075 - val_loss: nan\n",
            "Epoch 35/100\n",
            "\u001b[1m600/600\u001b[0m \u001b[32m━━━━━━━━━━━━━━━━━━━━\u001b[0m\u001b[37m\u001b[0m \u001b[1m2s\u001b[0m 3ms/step - accuracy: 0.0978 - loss: nan - val_accuracy: 0.1075 - val_loss: nan\n",
            "Epoch 36/100\n",
            "\u001b[1m600/600\u001b[0m \u001b[32m━━━━━━━━━━━━━━━━━━━━\u001b[0m\u001b[37m\u001b[0m \u001b[1m2s\u001b[0m 4ms/step - accuracy: 0.0978 - loss: nan - val_accuracy: 0.1075 - val_loss: nan\n",
            "Epoch 37/100\n",
            "\u001b[1m600/600\u001b[0m \u001b[32m━━━━━━━━━━━━━━━━━━━━\u001b[0m\u001b[37m\u001b[0m \u001b[1m2s\u001b[0m 3ms/step - accuracy: 0.0978 - loss: nan - val_accuracy: 0.1075 - val_loss: nan\n",
            "Epoch 38/100\n",
            "\u001b[1m600/600\u001b[0m \u001b[32m━━━━━━━━━━━━━━━━━━━━\u001b[0m\u001b[37m\u001b[0m \u001b[1m2s\u001b[0m 3ms/step - accuracy: 0.0978 - loss: nan - val_accuracy: 0.1075 - val_loss: nan\n",
            "Epoch 39/100\n",
            "\u001b[1m600/600\u001b[0m \u001b[32m━━━━━━━━━━━━━━━━━━━━\u001b[0m\u001b[37m\u001b[0m \u001b[1m3s\u001b[0m 3ms/step - accuracy: 0.0978 - loss: nan - val_accuracy: 0.1075 - val_loss: nan\n",
            "Epoch 40/100\n",
            "\u001b[1m600/600\u001b[0m \u001b[32m━━━━━━━━━━━━━━━━━━━━\u001b[0m\u001b[37m\u001b[0m \u001b[1m2s\u001b[0m 3ms/step - accuracy: 0.0978 - loss: nan - val_accuracy: 0.1075 - val_loss: nan\n",
            "Epoch 41/100\n",
            "\u001b[1m600/600\u001b[0m \u001b[32m━━━━━━━━━━━━━━━━━━━━\u001b[0m\u001b[37m\u001b[0m \u001b[1m3s\u001b[0m 3ms/step - accuracy: 0.0978 - loss: nan - val_accuracy: 0.1075 - val_loss: nan\n",
            "Epoch 42/100\n",
            "\u001b[1m600/600\u001b[0m \u001b[32m━━━━━━━━━━━━━━━━━━━━\u001b[0m\u001b[37m\u001b[0m \u001b[1m2s\u001b[0m 4ms/step - accuracy: 0.0978 - loss: nan - val_accuracy: 0.1075 - val_loss: nan\n",
            "Epoch 43/100\n",
            "\u001b[1m600/600\u001b[0m \u001b[32m━━━━━━━━━━━━━━━━━━━━\u001b[0m\u001b[37m\u001b[0m \u001b[1m2s\u001b[0m 3ms/step - accuracy: 0.0978 - loss: nan - val_accuracy: 0.1075 - val_loss: nan\n",
            "Epoch 44/100\n",
            "\u001b[1m600/600\u001b[0m \u001b[32m━━━━━━━━━━━━━━━━━━━━\u001b[0m\u001b[37m\u001b[0m \u001b[1m2s\u001b[0m 3ms/step - accuracy: 0.0978 - loss: nan - val_accuracy: 0.1075 - val_loss: nan\n",
            "Epoch 45/100\n",
            "\u001b[1m600/600\u001b[0m \u001b[32m━━━━━━━━━━━━━━━━━━━━\u001b[0m\u001b[37m\u001b[0m \u001b[1m2s\u001b[0m 3ms/step - accuracy: 0.0978 - loss: nan - val_accuracy: 0.1075 - val_loss: nan\n",
            "Epoch 46/100\n",
            "\u001b[1m600/600\u001b[0m \u001b[32m━━━━━━━━━━━━━━━━━━━━\u001b[0m\u001b[37m\u001b[0m \u001b[1m2s\u001b[0m 3ms/step - accuracy: 0.0978 - loss: nan - val_accuracy: 0.1075 - val_loss: nan\n",
            "Epoch 47/100\n",
            "\u001b[1m600/600\u001b[0m \u001b[32m━━━━━━━━━━━━━━━━━━━━\u001b[0m\u001b[37m\u001b[0m \u001b[1m2s\u001b[0m 3ms/step - accuracy: 0.0978 - loss: nan - val_accuracy: 0.1075 - val_loss: nan\n",
            "Epoch 48/100\n",
            "\u001b[1m600/600\u001b[0m \u001b[32m━━━━━━━━━━━━━━━━━━━━\u001b[0m\u001b[37m\u001b[0m \u001b[1m2s\u001b[0m 4ms/step - accuracy: 0.0978 - loss: nan - val_accuracy: 0.1075 - val_loss: nan\n",
            "Epoch 49/100\n",
            "\u001b[1m600/600\u001b[0m \u001b[32m━━━━━━━━━━━━━━━━━━━━\u001b[0m\u001b[37m\u001b[0m \u001b[1m2s\u001b[0m 3ms/step - accuracy: 0.0978 - loss: nan - val_accuracy: 0.1075 - val_loss: nan\n",
            "Epoch 50/100\n",
            "\u001b[1m600/600\u001b[0m \u001b[32m━━━━━━━━━━━━━━━━━━━━\u001b[0m\u001b[37m\u001b[0m \u001b[1m2s\u001b[0m 3ms/step - accuracy: 0.0978 - loss: nan - val_accuracy: 0.1075 - val_loss: nan\n",
            "Epoch 51/100\n",
            "\u001b[1m600/600\u001b[0m \u001b[32m━━━━━━━━━━━━━━━━━━━━\u001b[0m\u001b[37m\u001b[0m \u001b[1m2s\u001b[0m 3ms/step - accuracy: 0.0978 - loss: nan - val_accuracy: 0.1075 - val_loss: nan\n",
            "Epoch 52/100\n",
            "\u001b[1m600/600\u001b[0m \u001b[32m━━━━━━━━━━━━━━━━━━━━\u001b[0m\u001b[37m\u001b[0m \u001b[1m2s\u001b[0m 3ms/step - accuracy: 0.0978 - loss: nan - val_accuracy: 0.1075 - val_loss: nan\n",
            "Epoch 53/100\n",
            "\u001b[1m600/600\u001b[0m \u001b[32m━━━━━━━━━━━━━━━━━━━━\u001b[0m\u001b[37m\u001b[0m \u001b[1m3s\u001b[0m 3ms/step - accuracy: 0.0978 - loss: nan - val_accuracy: 0.1075 - val_loss: nan\n",
            "Epoch 54/100\n",
            "\u001b[1m600/600\u001b[0m \u001b[32m━━━━━━━━━━━━━━━━━━━━\u001b[0m\u001b[37m\u001b[0m \u001b[1m2s\u001b[0m 3ms/step - accuracy: 0.0978 - loss: nan - val_accuracy: 0.1075 - val_loss: nan\n",
            "Epoch 55/100\n",
            "\u001b[1m600/600\u001b[0m \u001b[32m━━━━━━━━━━━━━━━━━━━━\u001b[0m\u001b[37m\u001b[0m \u001b[1m2s\u001b[0m 3ms/step - accuracy: 0.0978 - loss: nan - val_accuracy: 0.1075 - val_loss: nan\n",
            "Epoch 56/100\n",
            "\u001b[1m600/600\u001b[0m \u001b[32m━━━━━━━━━━━━━━━━━━━━\u001b[0m\u001b[37m\u001b[0m \u001b[1m2s\u001b[0m 3ms/step - accuracy: 0.0978 - loss: nan - val_accuracy: 0.1075 - val_loss: nan\n",
            "Epoch 57/100\n",
            "\u001b[1m600/600\u001b[0m \u001b[32m━━━━━━━━━━━━━━━━━━━━\u001b[0m\u001b[37m\u001b[0m \u001b[1m3s\u001b[0m 3ms/step - accuracy: 0.0978 - loss: nan - val_accuracy: 0.1075 - val_loss: nan\n",
            "Epoch 58/100\n",
            "\u001b[1m600/600\u001b[0m \u001b[32m━━━━━━━━━━━━━━━━━━━━\u001b[0m\u001b[37m\u001b[0m \u001b[1m2s\u001b[0m 3ms/step - accuracy: 0.0978 - loss: nan - val_accuracy: 0.1075 - val_loss: nan\n",
            "Epoch 59/100\n",
            "\u001b[1m600/600\u001b[0m \u001b[32m━━━━━━━━━━━━━━━━━━━━\u001b[0m\u001b[37m\u001b[0m \u001b[1m2s\u001b[0m 4ms/step - accuracy: 0.0978 - loss: nan - val_accuracy: 0.1075 - val_loss: nan\n",
            "Epoch 60/100\n",
            "\u001b[1m600/600\u001b[0m \u001b[32m━━━━━━━━━━━━━━━━━━━━\u001b[0m\u001b[37m\u001b[0m \u001b[1m2s\u001b[0m 3ms/step - accuracy: 0.0978 - loss: nan - val_accuracy: 0.1075 - val_loss: nan\n",
            "Epoch 61/100\n",
            "\u001b[1m600/600\u001b[0m \u001b[32m━━━━━━━━━━━━━━━━━━━━\u001b[0m\u001b[37m\u001b[0m \u001b[1m2s\u001b[0m 3ms/step - accuracy: 0.0978 - loss: nan - val_accuracy: 0.1075 - val_loss: nan\n",
            "Epoch 62/100\n",
            "\u001b[1m600/600\u001b[0m \u001b[32m━━━━━━━━━━━━━━━━━━━━\u001b[0m\u001b[37m\u001b[0m \u001b[1m2s\u001b[0m 3ms/step - accuracy: 0.0978 - loss: nan - val_accuracy: 0.1075 - val_loss: nan\n",
            "Epoch 63/100\n",
            "\u001b[1m600/600\u001b[0m \u001b[32m━━━━━━━━━━━━━━━━━━━━\u001b[0m\u001b[37m\u001b[0m \u001b[1m3s\u001b[0m 3ms/step - accuracy: 0.0978 - loss: nan - val_accuracy: 0.1075 - val_loss: nan\n",
            "Epoch 64/100\n",
            "\u001b[1m600/600\u001b[0m \u001b[32m━━━━━━━━━━━━━━━━━━━━\u001b[0m\u001b[37m\u001b[0m \u001b[1m3s\u001b[0m 4ms/step - accuracy: 0.0978 - loss: nan - val_accuracy: 0.1075 - val_loss: nan\n",
            "Epoch 65/100\n",
            "\u001b[1m600/600\u001b[0m \u001b[32m━━━━━━━━━━━━━━━━━━━━\u001b[0m\u001b[37m\u001b[0m \u001b[1m2s\u001b[0m 3ms/step - accuracy: 0.0978 - loss: nan - val_accuracy: 0.1075 - val_loss: nan\n",
            "Epoch 66/100\n",
            "\u001b[1m600/600\u001b[0m \u001b[32m━━━━━━━━━━━━━━━━━━━━\u001b[0m\u001b[37m\u001b[0m \u001b[1m2s\u001b[0m 3ms/step - accuracy: 0.0978 - loss: nan - val_accuracy: 0.1075 - val_loss: nan\n",
            "Epoch 67/100\n",
            "\u001b[1m600/600\u001b[0m \u001b[32m━━━━━━━━━━━━━━━━━━━━\u001b[0m\u001b[37m\u001b[0m \u001b[1m3s\u001b[0m 3ms/step - accuracy: 0.0978 - loss: nan - val_accuracy: 0.1075 - val_loss: nan\n",
            "Epoch 68/100\n",
            "\u001b[1m600/600\u001b[0m \u001b[32m━━━━━━━━━━━━━━━━━━━━\u001b[0m\u001b[37m\u001b[0m \u001b[1m2s\u001b[0m 3ms/step - accuracy: 0.0978 - loss: nan - val_accuracy: 0.1075 - val_loss: nan\n",
            "Epoch 69/100\n",
            "\u001b[1m600/600\u001b[0m \u001b[32m━━━━━━━━━━━━━━━━━━━━\u001b[0m\u001b[37m\u001b[0m \u001b[1m2s\u001b[0m 3ms/step - accuracy: 0.0978 - loss: nan - val_accuracy: 0.1075 - val_loss: nan\n",
            "Epoch 70/100\n",
            "\u001b[1m600/600\u001b[0m \u001b[32m━━━━━━━━━━━━━━━━━━━━\u001b[0m\u001b[37m\u001b[0m \u001b[1m2s\u001b[0m 4ms/step - accuracy: 0.0978 - loss: nan - val_accuracy: 0.1075 - val_loss: nan\n",
            "Epoch 71/100\n",
            "\u001b[1m600/600\u001b[0m \u001b[32m━━━━━━━━━━━━━━━━━━━━\u001b[0m\u001b[37m\u001b[0m \u001b[1m2s\u001b[0m 3ms/step - accuracy: 0.0978 - loss: nan - val_accuracy: 0.1075 - val_loss: nan\n",
            "Epoch 72/100\n",
            "\u001b[1m600/600\u001b[0m \u001b[32m━━━━━━━━━━━━━━━━━━━━\u001b[0m\u001b[37m\u001b[0m \u001b[1m3s\u001b[0m 3ms/step - accuracy: 0.0978 - loss: nan - val_accuracy: 0.1075 - val_loss: nan\n",
            "Epoch 73/100\n",
            "\u001b[1m600/600\u001b[0m \u001b[32m━━━━━━━━━━━━━━━━━━━━\u001b[0m\u001b[37m\u001b[0m \u001b[1m2s\u001b[0m 3ms/step - accuracy: 0.0978 - loss: nan - val_accuracy: 0.1075 - val_loss: nan\n",
            "Epoch 74/100\n",
            "\u001b[1m600/600\u001b[0m \u001b[32m━━━━━━━━━━━━━━━━━━━━\u001b[0m\u001b[37m\u001b[0m \u001b[1m2s\u001b[0m 3ms/step - accuracy: 0.0978 - loss: nan - val_accuracy: 0.1075 - val_loss: nan\n",
            "Epoch 75/100\n",
            "\u001b[1m600/600\u001b[0m \u001b[32m━━━━━━━━━━━━━━━━━━━━\u001b[0m\u001b[37m\u001b[0m \u001b[1m3s\u001b[0m 3ms/step - accuracy: 0.0978 - loss: nan - val_accuracy: 0.1075 - val_loss: nan\n",
            "Epoch 76/100\n",
            "\u001b[1m600/600\u001b[0m \u001b[32m━━━━━━━━━━━━━━━━━━━━\u001b[0m\u001b[37m\u001b[0m \u001b[1m2s\u001b[0m 3ms/step - accuracy: 0.0978 - loss: nan - val_accuracy: 0.1075 - val_loss: nan\n",
            "Epoch 77/100\n",
            "\u001b[1m600/600\u001b[0m \u001b[32m━━━━━━━━━━━━━━━━━━━━\u001b[0m\u001b[37m\u001b[0m \u001b[1m2s\u001b[0m 3ms/step - accuracy: 0.0978 - loss: nan - val_accuracy: 0.1075 - val_loss: nan\n",
            "Epoch 78/100\n",
            "\u001b[1m600/600\u001b[0m \u001b[32m━━━━━━━━━━━━━━━━━━━━\u001b[0m\u001b[37m\u001b[0m \u001b[1m2s\u001b[0m 3ms/step - accuracy: 0.0978 - loss: nan - val_accuracy: 0.1075 - val_loss: nan\n",
            "Epoch 79/100\n",
            "\u001b[1m600/600\u001b[0m \u001b[32m━━━━━━━━━━━━━━━━━━━━\u001b[0m\u001b[37m\u001b[0m \u001b[1m2s\u001b[0m 3ms/step - accuracy: 0.0978 - loss: nan - val_accuracy: 0.1075 - val_loss: nan\n",
            "Epoch 80/100\n",
            "\u001b[1m600/600\u001b[0m \u001b[32m━━━━━━━━━━━━━━━━━━━━\u001b[0m\u001b[37m\u001b[0m \u001b[1m3s\u001b[0m 3ms/step - accuracy: 0.0978 - loss: nan - val_accuracy: 0.1075 - val_loss: nan\n",
            "Epoch 81/100\n",
            "\u001b[1m600/600\u001b[0m \u001b[32m━━━━━━━━━━━━━━━━━━━━\u001b[0m\u001b[37m\u001b[0m \u001b[1m2s\u001b[0m 4ms/step - accuracy: 0.0978 - loss: nan - val_accuracy: 0.1075 - val_loss: nan\n",
            "Epoch 82/100\n",
            "\u001b[1m600/600\u001b[0m \u001b[32m━━━━━━━━━━━━━━━━━━━━\u001b[0m\u001b[37m\u001b[0m \u001b[1m2s\u001b[0m 3ms/step - accuracy: 0.0978 - loss: nan - val_accuracy: 0.1075 - val_loss: nan\n",
            "Epoch 83/100\n",
            "\u001b[1m600/600\u001b[0m \u001b[32m━━━━━━━━━━━━━━━━━━━━\u001b[0m\u001b[37m\u001b[0m \u001b[1m2s\u001b[0m 3ms/step - accuracy: 0.0978 - loss: nan - val_accuracy: 0.1075 - val_loss: nan\n",
            "Epoch 84/100\n",
            "\u001b[1m600/600\u001b[0m \u001b[32m━━━━━━━━━━━━━━━━━━━━\u001b[0m\u001b[37m\u001b[0m \u001b[1m2s\u001b[0m 3ms/step - accuracy: 0.0978 - loss: nan - val_accuracy: 0.1075 - val_loss: nan\n",
            "Epoch 85/100\n",
            "\u001b[1m600/600\u001b[0m \u001b[32m━━━━━━━━━━━━━━━━━━━━\u001b[0m\u001b[37m\u001b[0m \u001b[1m2s\u001b[0m 3ms/step - accuracy: 0.0978 - loss: nan - val_accuracy: 0.1075 - val_loss: nan\n",
            "Epoch 86/100\n",
            "\u001b[1m600/600\u001b[0m \u001b[32m━━━━━━━━━━━━━━━━━━━━\u001b[0m\u001b[37m\u001b[0m \u001b[1m2s\u001b[0m 3ms/step - accuracy: 0.0978 - loss: nan - val_accuracy: 0.1075 - val_loss: nan\n",
            "Epoch 87/100\n",
            "\u001b[1m600/600\u001b[0m \u001b[32m━━━━━━━━━━━━━━━━━━━━\u001b[0m\u001b[37m\u001b[0m \u001b[1m2s\u001b[0m 3ms/step - accuracy: 0.0978 - loss: nan - val_accuracy: 0.1075 - val_loss: nan\n",
            "Epoch 88/100\n",
            "\u001b[1m600/600\u001b[0m \u001b[32m━━━━━━━━━━━━━━━━━━━━\u001b[0m\u001b[37m\u001b[0m \u001b[1m3s\u001b[0m 3ms/step - accuracy: 0.0978 - loss: nan - val_accuracy: 0.1075 - val_loss: nan\n",
            "Epoch 89/100\n",
            "\u001b[1m600/600\u001b[0m \u001b[32m━━━━━━━━━━━━━━━━━━━━\u001b[0m\u001b[37m\u001b[0m \u001b[1m3s\u001b[0m 3ms/step - accuracy: 0.0978 - loss: nan - val_accuracy: 0.1075 - val_loss: nan\n",
            "Epoch 90/100\n",
            "\u001b[1m600/600\u001b[0m \u001b[32m━━━━━━━━━━━━━━━━━━━━\u001b[0m\u001b[37m\u001b[0m \u001b[1m2s\u001b[0m 3ms/step - accuracy: 0.0978 - loss: nan - val_accuracy: 0.1075 - val_loss: nan\n",
            "Epoch 91/100\n",
            "\u001b[1m600/600\u001b[0m \u001b[32m━━━━━━━━━━━━━━━━━━━━\u001b[0m\u001b[37m\u001b[0m \u001b[1m2s\u001b[0m 3ms/step - accuracy: 0.0978 - loss: nan - val_accuracy: 0.1075 - val_loss: nan\n",
            "Epoch 92/100\n",
            "\u001b[1m600/600\u001b[0m \u001b[32m━━━━━━━━━━━━━━━━━━━━\u001b[0m\u001b[37m\u001b[0m \u001b[1m2s\u001b[0m 3ms/step - accuracy: 0.0978 - loss: nan - val_accuracy: 0.1075 - val_loss: nan\n",
            "Epoch 93/100\n",
            "\u001b[1m600/600\u001b[0m \u001b[32m━━━━━━━━━━━━━━━━━━━━\u001b[0m\u001b[37m\u001b[0m \u001b[1m3s\u001b[0m 4ms/step - accuracy: 0.0978 - loss: nan - val_accuracy: 0.1075 - val_loss: nan\n",
            "Epoch 94/100\n",
            "\u001b[1m600/600\u001b[0m \u001b[32m━━━━━━━━━━━━━━━━━━━━\u001b[0m\u001b[37m\u001b[0m \u001b[1m2s\u001b[0m 3ms/step - accuracy: 0.0978 - loss: nan - val_accuracy: 0.1075 - val_loss: nan\n",
            "Epoch 95/100\n",
            "\u001b[1m600/600\u001b[0m \u001b[32m━━━━━━━━━━━━━━━━━━━━\u001b[0m\u001b[37m\u001b[0m \u001b[1m2s\u001b[0m 3ms/step - accuracy: 0.0978 - loss: nan - val_accuracy: 0.1075 - val_loss: nan\n",
            "Epoch 96/100\n",
            "\u001b[1m600/600\u001b[0m \u001b[32m━━━━━━━━━━━━━━━━━━━━\u001b[0m\u001b[37m\u001b[0m \u001b[1m2s\u001b[0m 3ms/step - accuracy: 0.0978 - loss: nan - val_accuracy: 0.1075 - val_loss: nan\n",
            "Epoch 97/100\n",
            "\u001b[1m600/600\u001b[0m \u001b[32m━━━━━━━━━━━━━━━━━━━━\u001b[0m\u001b[37m\u001b[0m \u001b[1m2s\u001b[0m 3ms/step - accuracy: 0.0978 - loss: nan - val_accuracy: 0.1075 - val_loss: nan\n",
            "Epoch 98/100\n",
            "\u001b[1m600/600\u001b[0m \u001b[32m━━━━━━━━━━━━━━━━━━━━\u001b[0m\u001b[37m\u001b[0m \u001b[1m3s\u001b[0m 4ms/step - accuracy: 0.0978 - loss: nan - val_accuracy: 0.1075 - val_loss: nan\n",
            "Epoch 99/100\n",
            "\u001b[1m600/600\u001b[0m \u001b[32m━━━━━━━━━━━━━━━━━━━━\u001b[0m\u001b[37m\u001b[0m \u001b[1m2s\u001b[0m 3ms/step - accuracy: 0.0978 - loss: nan - val_accuracy: 0.1075 - val_loss: nan\n",
            "Epoch 100/100\n",
            "\u001b[1m600/600\u001b[0m \u001b[32m━━━━━━━━━━━━━━━━━━━━\u001b[0m\u001b[37m\u001b[0m \u001b[1m2s\u001b[0m 3ms/step - accuracy: 0.0978 - loss: nan - val_accuracy: 0.1075 - val_loss: nan\n"
          ]
        },
        {
          "data": {
            "image/png": "[encoded data removed]",
            "text/plain": [
              "<Figure size 1600x600 with 2 Axes>"
            ]
          },
          "metadata": {},
          "output_type": "display_data"
        },
        {
          "name": "stderr",
          "output_type": "stream",
          "text": [
            "/usr/local/lib/python3.11/dist-packages/keras/src/ops/nn.py:907: UserWarning: You are using a softmax over axis -1 of a tensor of shape (None, 1). This axis has size 1. The softmax operation will always return the value 1, which is likely not what you intended. Did you mean to use a sigmoid instead?\n",
            "  warnings.warn(\n"
          ]
        },
        {
          "name": "stdout",
          "output_type": "stream",
          "text": [
            "Test Loss: nan\n",
            "Test Accuracy: 0.09799999743700027\n"
          ]
        }
      ],
      "source": [
        "inputs = tf.keras.Input(shape=(28,28), name=(\"input_layer\"))\n",
        "\n",
        "flat = layers.Flatten()(inputs)\n",
        "\n",
        "l_1 = layers.Dense(256, activation=\"relu\", name=\"layer_1\")(flat)\n",
        "l_2 = layers.Dense(128, activation=\"relu\", name=\"layer_2\")(l_1)\n",
        "l_3 = layers.Dense(128, activation=\"relu\", name=\"layer_3\")(l_2)\n",
        "\n",
        "outputs = layers.Dense(1, activation=\"softmax\", name=\"output_layer\")(l_3)\n",
        "\n",
        "model = keras.Model(inputs=inputs, outputs=outputs, name=\"try_not_overfit\")\n",
        "\n",
        "model.compile(optimizer='adam',\n",
        "              loss='sparse_categorical_crossentropy',\n",
        "              metrics=['accuracy'])\n",
        "history_2 = model.fit(\n",
        "    X,\n",
        "    y,\n",
        "    batch_size=16,\n",
        "    epochs=100,\n",
        "    validation_split=0.2,\n",
        "    shuffle=True\n",
        ")\n",
        "show_loss_accuracy_evolution(history_2)\n",
        "\n",
        "\n",
        "results = model.evaluate(X_test, y_test, verbose=0)\n",
        "print('Test Loss: {}'.format(results[0]))\n",
        "print('Test Accuracy: {}'.format(results[1]))"
      ]
    },
    {
      "cell_type": "markdown",
      "id": "5b7e071a",
      "metadata": {
        "id": "5b7e071a"
      },
      "source": [
        "## Dropout\n",
        "Este método se aplica a una (o varias capas), y consiste en *\"dropping out\"* un número de neuronas de la capa. Para crear una capa que tenga *dropout* tendremos que usar el objeto `Dropout`.\n",
        "* `rate`: float entre [0, 1], indica la fracción de las neuronas que se van a \"dropout\"\n",
        "* `noise_shape`:\n",
        "* `seed`: semilla\n",
        "\n",
        "⚪ Objeto\n",
        "tf.keras.layers.Dropout(0.3, seed=seed)\n",
        "\n",
        "⚪ Con functional API\n",
        "prev_layer = layers.Dense(2)\n",
        "layer = layers.Dropout(0.3, seed=seed)(prev_layer)\n",
        "\n",
        "⚪ Con `Sequential`\n",
        "model.add(layers.Dropout(0.3, seed=seed))"
      ]
    },
    {
      "cell_type": "markdown",
      "id": "0f1438a0",
      "metadata": {
        "id": "0f1438a0"
      },
      "source": [
        "Por ello, en nuestro ejemplo nos quedará:"
      ]
    },
    {
      "cell_type": "code",
      "execution_count": 16,
      "id": "99fe051f",
      "metadata": {
        "colab": {
          "base_uri": "https://localhost:8080/",
          "height": 1000
        },
        "id": "99fe051f",
        "outputId": "1b44323f-9b5b-42da-bcf7-64793f9720c5"
      },
      "outputs": [
        {
          "name": "stdout",
          "output_type": "stream",
          "text": [
            "Epoch 1/100\n",
            "\u001b[1m150/150\u001b[0m \u001b[32m━━━━━━━━━━━━━━━━━━━━\u001b[0m\u001b[37m\u001b[0m \u001b[1m8s\u001b[0m 7ms/step - accuracy: 0.2038 - loss: 2.2067 - val_accuracy: 0.7558 - val_loss: 0.8685\n",
            "Epoch 2/100\n",
            "\u001b[1m150/150\u001b[0m \u001b[32m━━━━━━━━━━━━━━━━━━━━\u001b[0m\u001b[37m\u001b[0m \u001b[1m1s\u001b[0m 3ms/step - accuracy: 0.5837 - loss: 1.1963 - val_accuracy: 0.8587 - val_loss: 0.5270\n",
            "Epoch 3/100\n",
            "\u001b[1m150/150\u001b[0m \u001b[32m━━━━━━━━━━━━━━━━━━━━\u001b[0m\u001b[37m\u001b[0m \u001b[1m0s\u001b[0m 3ms/step - accuracy: 0.7045 - loss: 0.8882 - val_accuracy: 0.8883 - val_loss: 0.4246\n",
            "Epoch 4/100\n",
            "\u001b[1m150/150\u001b[0m \u001b[32m━━━━━━━━━━━━━━━━━━━━\u001b[0m\u001b[37m\u001b[0m \u001b[1m1s\u001b[0m 3ms/step - accuracy: 0.7738 - loss: 0.7251 - val_accuracy: 0.8933 - val_loss: 0.3763\n",
            "Epoch 5/100\n",
            "\u001b[1m150/150\u001b[0m \u001b[32m━━━━━━━━━━━━━━━━━━━━\u001b[0m\u001b[37m\u001b[0m \u001b[1m1s\u001b[0m 3ms/step - accuracy: 0.7970 - loss: 0.6647 - val_accuracy: 0.8979 - val_loss: 0.3281\n",
            "Epoch 6/100\n",
            "\u001b[1m150/150\u001b[0m \u001b[32m━━━━━━━━━━━━━━━━━━━━\u001b[0m\u001b[37m\u001b[0m \u001b[1m0s\u001b[0m 3ms/step - accuracy: 0.8152 - loss: 0.5917 - val_accuracy: 0.9133 - val_loss: 0.3029\n",
            "Epoch 7/100\n",
            "\u001b[1m150/150\u001b[0m \u001b[32m━━━━━━━━━━━━━━━━━━━━\u001b[0m\u001b[37m\u001b[0m \u001b[1m1s\u001b[0m 3ms/step - accuracy: 0.8399 - loss: 0.5399 - val_accuracy: 0.9212 - val_loss: 0.2745\n",
            "Epoch 8/100\n",
            "\u001b[1m150/150\u001b[0m \u001b[32m━━━━━━━━━━━━━━━━━━━━\u001b[0m\u001b[37m\u001b[0m \u001b[1m1s\u001b[0m 4ms/step - accuracy: 0.8438 - loss: 0.5144 - val_accuracy: 0.9267 - val_loss: 0.2550\n",
            "Epoch 9/100\n",
            "\u001b[1m150/150\u001b[0m \u001b[32m━━━━━━━━━━━━━━━━━━━━\u001b[0m\u001b[37m\u001b[0m \u001b[1m1s\u001b[0m 3ms/step - accuracy: 0.8587 - loss: 0.4772 - val_accuracy: 0.9275 - val_loss: 0.2400\n",
            "Epoch 10/100\n",
            "\u001b[1m150/150\u001b[0m \u001b[32m━━━━━━━━━━━━━━━━━━━━\u001b[0m\u001b[37m\u001b[0m \u001b[1m1s\u001b[0m 4ms/step - accuracy: 0.8633 - loss: 0.4679 - val_accuracy: 0.9342 - val_loss: 0.2280\n",
            "Epoch 11/100\n",
            "\u001b[1m150/150\u001b[0m \u001b[32m━━━━━━━━━━━━━━━━━━━━\u001b[0m\u001b[37m\u001b[0m \u001b[1m1s\u001b[0m 3ms/step - accuracy: 0.8740 - loss: 0.4332 - val_accuracy: 0.9383 - val_loss: 0.2182\n",
            "Epoch 12/100\n",
            "\u001b[1m150/150\u001b[0m \u001b[32m━━━━━━━━━━━━━━━━━━━━\u001b[0m\u001b[37m\u001b[0m \u001b[1m1s\u001b[0m 3ms/step - accuracy: 0.8855 - loss: 0.4066 - val_accuracy: 0.9392 - val_loss: 0.2086\n",
            "Epoch 13/100\n",
            "\u001b[1m150/150\u001b[0m \u001b[32m━━━━━━━━━━━━━━━━━━━━\u001b[0m\u001b[37m\u001b[0m \u001b[1m1s\u001b[0m 3ms/step - accuracy: 0.8775 - loss: 0.4111 - val_accuracy: 0.9337 - val_loss: 0.2113\n",
            "Epoch 14/100\n",
            "\u001b[1m150/150\u001b[0m \u001b[32m━━━━━━━━━━━━━━━━━━━━\u001b[0m\u001b[37m\u001b[0m \u001b[1m1s\u001b[0m 3ms/step - accuracy: 0.8894 - loss: 0.3841 - val_accuracy: 0.9438 - val_loss: 0.1952\n",
            "Epoch 15/100\n",
            "\u001b[1m150/150\u001b[0m \u001b[32m━━━━━━━━━━━━━━━━━━━━\u001b[0m\u001b[37m\u001b[0m \u001b[1m0s\u001b[0m 3ms/step - accuracy: 0.8935 - loss: 0.3769 - val_accuracy: 0.9438 - val_loss: 0.1907\n",
            "Epoch 16/100\n",
            "\u001b[1m150/150\u001b[0m \u001b[32m━━━━━━━━━━━━━━━━━━━━\u001b[0m\u001b[37m\u001b[0m \u001b[1m0s\u001b[0m 3ms/step - accuracy: 0.8971 - loss: 0.3712 - val_accuracy: 0.9500 - val_loss: 0.1866\n",
            "Epoch 17/100\n",
            "\u001b[1m150/150\u001b[0m \u001b[32m━━━━━━━━━━━━━━━━━━━━\u001b[0m\u001b[37m\u001b[0m \u001b[1m1s\u001b[0m 5ms/step - accuracy: 0.8987 - loss: 0.3470 - val_accuracy: 0.9508 - val_loss: 0.1794\n",
            "Epoch 18/100\n",
            "\u001b[1m150/150\u001b[0m \u001b[32m━━━━━━━━━━━━━━━━━━━━\u001b[0m\u001b[37m\u001b[0m \u001b[1m1s\u001b[0m 4ms/step - accuracy: 0.8973 - loss: 0.3557 - val_accuracy: 0.9488 - val_loss: 0.1727\n",
            "Epoch 19/100\n",
            "\u001b[1m150/150\u001b[0m \u001b[32m━━━━━━━━━━━━━━━━━━━━\u001b[0m\u001b[37m\u001b[0m \u001b[1m0s\u001b[0m 3ms/step - accuracy: 0.9031 - loss: 0.3193 - val_accuracy: 0.9492 - val_loss: 0.1689\n",
            "Epoch 20/100\n",
            "\u001b[1m150/150\u001b[0m \u001b[32m━━━━━━━━━━━━━━━━━━━━\u001b[0m\u001b[37m\u001b[0m \u001b[1m0s\u001b[0m 3ms/step - accuracy: 0.8997 - loss: 0.3320 - val_accuracy: 0.9450 - val_loss: 0.1675\n",
            "Epoch 21/100\n",
            "\u001b[1m150/150\u001b[0m \u001b[32m━━━━━━━━━━━━━━━━━━━━\u001b[0m\u001b[37m\u001b[0m \u001b[1m1s\u001b[0m 3ms/step - accuracy: 0.9112 - loss: 0.3022 - val_accuracy: 0.9529 - val_loss: 0.1581\n",
            "Epoch 22/100\n",
            "\u001b[1m150/150\u001b[0m \u001b[32m━━━━━━━━━━━━━━━━━━━━\u001b[0m\u001b[37m\u001b[0m \u001b[1m1s\u001b[0m 3ms/step - accuracy: 0.9053 - loss: 0.3217 - val_accuracy: 0.9533 - val_loss: 0.1571\n",
            "Epoch 23/100\n",
            "\u001b[1m150/150\u001b[0m \u001b[32m━━━━━━━━━━━━━━━━━━━━\u001b[0m\u001b[37m\u001b[0m \u001b[1m1s\u001b[0m 4ms/step - accuracy: 0.9064 - loss: 0.3224 - val_accuracy: 0.9554 - val_loss: 0.1538\n",
            "Epoch 24/100\n",
            "\u001b[1m150/150\u001b[0m \u001b[32m━━━━━━━━━━━━━━━━━━━━\u001b[0m\u001b[37m\u001b[0m \u001b[1m1s\u001b[0m 3ms/step - accuracy: 0.9113 - loss: 0.3003 - val_accuracy: 0.9538 - val_loss: 0.1533\n",
            "Epoch 25/100\n",
            "\u001b[1m150/150\u001b[0m \u001b[32m━━━━━━━━━━━━━━━━━━━━\u001b[0m\u001b[37m\u001b[0m \u001b[1m1s\u001b[0m 4ms/step - accuracy: 0.9164 - loss: 0.2896 - val_accuracy: 0.9567 - val_loss: 0.1484\n",
            "Epoch 26/100\n",
            "\u001b[1m150/150\u001b[0m \u001b[32m━━━━━━━━━━━━━━━━━━━━\u001b[0m\u001b[37m\u001b[0m \u001b[1m1s\u001b[0m 3ms/step - accuracy: 0.9138 - loss: 0.2977 - val_accuracy: 0.9517 - val_loss: 0.1570\n",
            "Epoch 27/100\n",
            "\u001b[1m150/150\u001b[0m \u001b[32m━━━━━━━━━━━━━━━━━━━━\u001b[0m\u001b[37m\u001b[0m \u001b[1m1s\u001b[0m 3ms/step - accuracy: 0.9155 - loss: 0.2852 - val_accuracy: 0.9558 - val_loss: 0.1512\n",
            "Epoch 28/100\n",
            "\u001b[1m150/150\u001b[0m \u001b[32m━━━━━━━━━━━━━━━━━━━━\u001b[0m\u001b[37m\u001b[0m \u001b[1m1s\u001b[0m 3ms/step - accuracy: 0.9243 - loss: 0.2674 - val_accuracy: 0.9550 - val_loss: 0.1487\n",
            "Epoch 29/100\n",
            "\u001b[1m150/150\u001b[0m \u001b[32m━━━━━━━━━━━━━━━━━━━━\u001b[0m\u001b[37m\u001b[0m \u001b[1m1s\u001b[0m 3ms/step - accuracy: 0.9233 - loss: 0.2781 - val_accuracy: 0.9542 - val_loss: 0.1521\n",
            "Epoch 30/100\n",
            "\u001b[1m150/150\u001b[0m \u001b[32m━━━━━━━━━━━━━━━━━━━━\u001b[0m\u001b[37m\u001b[0m \u001b[1m0s\u001b[0m 3ms/step - accuracy: 0.9170 - loss: 0.2773 - val_accuracy: 0.9550 - val_loss: 0.1500\n",
            "Epoch 31/100\n",
            "\u001b[1m150/150\u001b[0m \u001b[32m━━━━━━━━━━━━━━━━━━━━\u001b[0m\u001b[37m\u001b[0m \u001b[1m1s\u001b[0m 3ms/step - accuracy: 0.9233 - loss: 0.2777 - val_accuracy: 0.9600 - val_loss: 0.1433\n",
            "Epoch 32/100\n",
            "\u001b[1m150/150\u001b[0m \u001b[32m━━━━━━━━━━━━━━━━━━━━\u001b[0m\u001b[37m\u001b[0m \u001b[1m1s\u001b[0m 3ms/step - accuracy: 0.9203 - loss: 0.2673 - val_accuracy: 0.9588 - val_loss: 0.1461\n",
            "Epoch 33/100\n",
            "\u001b[1m150/150\u001b[0m \u001b[32m━━━━━━━━━━━━━━━━━━━━\u001b[0m\u001b[37m\u001b[0m \u001b[1m1s\u001b[0m 3ms/step - accuracy: 0.9268 - loss: 0.2537 - val_accuracy: 0.9567 - val_loss: 0.1510\n",
            "Epoch 34/100\n",
            "\u001b[1m150/150\u001b[0m \u001b[32m━━━━━━━━━━━━━━━━━━━━\u001b[0m\u001b[37m\u001b[0m \u001b[1m0s\u001b[0m 3ms/step - accuracy: 0.9246 - loss: 0.2771 - val_accuracy: 0.9592 - val_loss: 0.1397\n",
            "Epoch 35/100\n",
            "\u001b[1m150/150\u001b[0m \u001b[32m━━━━━━━━━━━━━━━━━━━━\u001b[0m\u001b[37m\u001b[0m \u001b[1m0s\u001b[0m 3ms/step - accuracy: 0.9255 - loss: 0.2589 - val_accuracy: 0.9554 - val_loss: 0.1459\n",
            "Epoch 36/100\n",
            "\u001b[1m150/150\u001b[0m \u001b[32m━━━━━━━━━━━━━━━━━━━━\u001b[0m\u001b[37m\u001b[0m \u001b[1m1s\u001b[0m 4ms/step - accuracy: 0.9267 - loss: 0.2458 - val_accuracy: 0.9588 - val_loss: 0.1457\n",
            "Epoch 37/100\n",
            "\u001b[1m150/150\u001b[0m \u001b[32m━━━━━━━━━━━━━━━━━━━━\u001b[0m\u001b[37m\u001b[0m \u001b[1m1s\u001b[0m 5ms/step - accuracy: 0.9288 - loss: 0.2425 - val_accuracy: 0.9579 - val_loss: 0.1429\n",
            "Epoch 38/100\n",
            "\u001b[1m150/150\u001b[0m \u001b[32m━━━━━━━━━━━━━━━━━━━━\u001b[0m\u001b[37m\u001b[0m \u001b[1m1s\u001b[0m 3ms/step - accuracy: 0.9241 - loss: 0.2611 - val_accuracy: 0.9621 - val_loss: 0.1334\n",
            "Epoch 39/100\n",
            "\u001b[1m150/150\u001b[0m \u001b[32m━━━━━━━━━━━━━━━━━━━━\u001b[0m\u001b[37m\u001b[0m \u001b[1m0s\u001b[0m 3ms/step - accuracy: 0.9290 - loss: 0.2442 - val_accuracy: 0.9613 - val_loss: 0.1350\n",
            "Epoch 40/100\n",
            "\u001b[1m150/150\u001b[0m \u001b[32m━━━━━━━━━━━━━━━━━━━━\u001b[0m\u001b[37m\u001b[0m \u001b[1m0s\u001b[0m 3ms/step - accuracy: 0.9297 - loss: 0.2394 - val_accuracy: 0.9646 - val_loss: 0.1301\n",
            "Epoch 41/100\n",
            "\u001b[1m150/150\u001b[0m \u001b[32m━━━━━━━━━━━━━━━━━━━━\u001b[0m\u001b[37m\u001b[0m \u001b[1m0s\u001b[0m 3ms/step - accuracy: 0.9293 - loss: 0.2317 - val_accuracy: 0.9604 - val_loss: 0.1366\n",
            "Epoch 42/100\n",
            "\u001b[1m150/150\u001b[0m \u001b[32m━━━━━━━━━━━━━━━━━━━━\u001b[0m\u001b[37m\u001b[0m \u001b[1m1s\u001b[0m 3ms/step - accuracy: 0.9230 - loss: 0.2568 - val_accuracy: 0.9596 - val_loss: 0.1325\n",
            "Epoch 43/100\n",
            "\u001b[1m150/150\u001b[0m \u001b[32m━━━━━━━━━━━━━━━━━━━━\u001b[0m\u001b[37m\u001b[0m \u001b[1m0s\u001b[0m 3ms/step - accuracy: 0.9272 - loss: 0.2497 - val_accuracy: 0.9579 - val_loss: 0.1370\n",
            "Epoch 44/100\n",
            "\u001b[1m150/150\u001b[0m \u001b[32m━━━━━━━━━━━━━━━━━━━━\u001b[0m\u001b[37m\u001b[0m \u001b[1m0s\u001b[0m 3ms/step - accuracy: 0.9331 - loss: 0.2426 - val_accuracy: 0.9583 - val_loss: 0.1415\n",
            "Epoch 45/100\n",
            "\u001b[1m150/150\u001b[0m \u001b[32m━━━━━━━━━━━━━━━━━━━━\u001b[0m\u001b[37m\u001b[0m \u001b[1m1s\u001b[0m 3ms/step - accuracy: 0.9311 - loss: 0.2329 - val_accuracy: 0.9621 - val_loss: 0.1346\n",
            "Epoch 46/100\n",
            "\u001b[1m150/150\u001b[0m \u001b[32m━━━━━━━━━━━━━━━━━━━━\u001b[0m\u001b[37m\u001b[0m \u001b[1m1s\u001b[0m 3ms/step - accuracy: 0.9308 - loss: 0.2327 - val_accuracy: 0.9600 - val_loss: 0.1364\n",
            "Epoch 47/100\n",
            "\u001b[1m150/150\u001b[0m \u001b[32m━━━━━━━━━━━━━━━━━━━━\u001b[0m\u001b[37m\u001b[0m \u001b[1m1s\u001b[0m 4ms/step - accuracy: 0.9306 - loss: 0.2323 - val_accuracy: 0.9592 - val_loss: 0.1408\n",
            "Epoch 48/100\n",
            "\u001b[1m150/150\u001b[0m \u001b[32m━━━━━━━━━━━━━━━━━━━━\u001b[0m\u001b[37m\u001b[0m \u001b[1m1s\u001b[0m 4ms/step - accuracy: 0.9363 - loss: 0.2225 - val_accuracy: 0.9633 - val_loss: 0.1342\n",
            "Epoch 49/100\n",
            "\u001b[1m150/150\u001b[0m \u001b[32m━━━━━━━━━━━━━━━━━━━━\u001b[0m\u001b[37m\u001b[0m \u001b[1m1s\u001b[0m 3ms/step - accuracy: 0.9307 - loss: 0.2419 - val_accuracy: 0.9592 - val_loss: 0.1373\n",
            "Epoch 50/100\n",
            "\u001b[1m150/150\u001b[0m \u001b[32m━━━━━━━━━━━━━━━━━━━━\u001b[0m\u001b[37m\u001b[0m \u001b[1m1s\u001b[0m 3ms/step - accuracy: 0.9340 - loss: 0.2221 - val_accuracy: 0.9575 - val_loss: 0.1356\n",
            "Epoch 51/100\n",
            "\u001b[1m150/150\u001b[0m \u001b[32m━━━━━━━━━━━━━━━━━━━━\u001b[0m\u001b[37m\u001b[0m \u001b[1m1s\u001b[0m 3ms/step - accuracy: 0.9389 - loss: 0.2208 - val_accuracy: 0.9617 - val_loss: 0.1335\n",
            "Epoch 52/100\n",
            "\u001b[1m150/150\u001b[0m \u001b[32m━━━━━━━━━━━━━━━━━━━━\u001b[0m\u001b[37m\u001b[0m \u001b[1m1s\u001b[0m 3ms/step - accuracy: 0.9406 - loss: 0.2029 - val_accuracy: 0.9633 - val_loss: 0.1316\n",
            "Epoch 53/100\n",
            "\u001b[1m150/150\u001b[0m \u001b[32m━━━━━━━━━━━━━━━━━━━━\u001b[0m\u001b[37m\u001b[0m \u001b[1m1s\u001b[0m 3ms/step - accuracy: 0.9367 - loss: 0.2040 - val_accuracy: 0.9629 - val_loss: 0.1360\n",
            "Epoch 54/100\n",
            "\u001b[1m150/150\u001b[0m \u001b[32m━━━━━━━━━━━━━━━━━━━━\u001b[0m\u001b[37m\u001b[0m \u001b[1m1s\u001b[0m 3ms/step - accuracy: 0.9376 - loss: 0.2280 - val_accuracy: 0.9592 - val_loss: 0.1353\n",
            "Epoch 55/100\n",
            "\u001b[1m150/150\u001b[0m \u001b[32m━━━━━━━━━━━━━━━━━━━━\u001b[0m\u001b[37m\u001b[0m \u001b[1m1s\u001b[0m 5ms/step - accuracy: 0.9396 - loss: 0.2156 - val_accuracy: 0.9629 - val_loss: 0.1317\n",
            "Epoch 56/100\n",
            "\u001b[1m150/150\u001b[0m \u001b[32m━━━━━━━━━━━━━━━━━━━━\u001b[0m\u001b[37m\u001b[0m \u001b[1m1s\u001b[0m 4ms/step - accuracy: 0.9414 - loss: 0.2201 - val_accuracy: 0.9642 - val_loss: 0.1317\n",
            "Epoch 57/100\n",
            "\u001b[1m150/150\u001b[0m \u001b[32m━━━━━━━━━━━━━━━━━━━━\u001b[0m\u001b[37m\u001b[0m \u001b[1m1s\u001b[0m 3ms/step - accuracy: 0.9345 - loss: 0.2063 - val_accuracy: 0.9596 - val_loss: 0.1391\n",
            "Epoch 58/100\n",
            "\u001b[1m150/150\u001b[0m \u001b[32m━━━━━━━━━━━━━━━━━━━━\u001b[0m\u001b[37m\u001b[0m \u001b[1m0s\u001b[0m 3ms/step - accuracy: 0.9421 - loss: 0.2163 - val_accuracy: 0.9629 - val_loss: 0.1334\n",
            "Epoch 59/100\n",
            "\u001b[1m150/150\u001b[0m \u001b[32m━━━━━━━━━━━━━━━━━━━━\u001b[0m\u001b[37m\u001b[0m \u001b[1m1s\u001b[0m 4ms/step - accuracy: 0.9359 - loss: 0.2234 - val_accuracy: 0.9604 - val_loss: 0.1374\n",
            "Epoch 60/100\n",
            "\u001b[1m150/150\u001b[0m \u001b[32m━━━━━━━━━━━━━━━━━━━━\u001b[0m\u001b[37m\u001b[0m \u001b[1m1s\u001b[0m 6ms/step - accuracy: 0.9366 - loss: 0.2216 - val_accuracy: 0.9646 - val_loss: 0.1260\n",
            "Epoch 61/100\n",
            "\u001b[1m150/150\u001b[0m \u001b[32m━━━━━━━━━━━━━━━━━━━━\u001b[0m\u001b[37m\u001b[0m \u001b[1m1s\u001b[0m 3ms/step - accuracy: 0.9429 - loss: 0.2130 - val_accuracy: 0.9633 - val_loss: 0.1290\n",
            "Epoch 62/100\n",
            "\u001b[1m150/150\u001b[0m \u001b[32m━━━━━━━━━━━━━━━━━━━━\u001b[0m\u001b[37m\u001b[0m \u001b[1m1s\u001b[0m 3ms/step - accuracy: 0.9422 - loss: 0.2041 - val_accuracy: 0.9671 - val_loss: 0.1242\n",
            "Epoch 63/100\n",
            "\u001b[1m150/150\u001b[0m \u001b[32m━━━━━━━━━━━━━━━━━━━━\u001b[0m\u001b[37m\u001b[0m \u001b[1m1s\u001b[0m 4ms/step - accuracy: 0.9387 - loss: 0.2073 - val_accuracy: 0.9671 - val_loss: 0.1223\n",
            "Epoch 64/100\n",
            "\u001b[1m150/150\u001b[0m \u001b[32m━━━━━━━━━━━━━━━━━━━━\u001b[0m\u001b[37m\u001b[0m \u001b[1m1s\u001b[0m 4ms/step - accuracy: 0.9382 - loss: 0.2143 - val_accuracy: 0.9671 - val_loss: 0.1185\n",
            "Epoch 65/100\n",
            "\u001b[1m150/150\u001b[0m \u001b[32m━━━━━━━━━━━━━━━━━━━━\u001b[0m\u001b[37m\u001b[0m \u001b[1m1s\u001b[0m 4ms/step - accuracy: 0.9361 - loss: 0.2172 - val_accuracy: 0.9675 - val_loss: 0.1232\n",
            "Epoch 66/100\n",
            "\u001b[1m150/150\u001b[0m \u001b[32m━━━━━━━━━━━━━━━━━━━━\u001b[0m\u001b[37m\u001b[0m \u001b[1m1s\u001b[0m 4ms/step - accuracy: 0.9348 - loss: 0.2164 - val_accuracy: 0.9617 - val_loss: 0.1349\n",
            "Epoch 67/100\n",
            "\u001b[1m150/150\u001b[0m \u001b[32m━━━━━━━━━━━━━━━━━━━━\u001b[0m\u001b[37m\u001b[0m \u001b[1m0s\u001b[0m 3ms/step - accuracy: 0.9399 - loss: 0.1971 - val_accuracy: 0.9638 - val_loss: 0.1281\n",
            "Epoch 68/100\n",
            "\u001b[1m150/150\u001b[0m \u001b[32m━━━━━━━━━━━━━━━━━━━━\u001b[0m\u001b[37m\u001b[0m \u001b[1m0s\u001b[0m 3ms/step - accuracy: 0.9418 - loss: 0.2272 - val_accuracy: 0.9650 - val_loss: 0.1253\n",
            "Epoch 69/100\n",
            "\u001b[1m150/150\u001b[0m \u001b[32m━━━━━━━━━━━━━━━━━━━━\u001b[0m\u001b[37m\u001b[0m \u001b[1m1s\u001b[0m 3ms/step - accuracy: 0.9389 - loss: 0.2060 - val_accuracy: 0.9633 - val_loss: 0.1301\n",
            "Epoch 70/100\n",
            "\u001b[1m150/150\u001b[0m \u001b[32m━━━━━━━━━━━━━━━━━━━━\u001b[0m\u001b[37m\u001b[0m \u001b[1m1s\u001b[0m 3ms/step - accuracy: 0.9415 - loss: 0.2171 - val_accuracy: 0.9613 - val_loss: 0.1324\n",
            "Epoch 71/100\n",
            "\u001b[1m150/150\u001b[0m \u001b[32m━━━━━━━━━━━━━━━━━━━━\u001b[0m\u001b[37m\u001b[0m \u001b[1m1s\u001b[0m 4ms/step - accuracy: 0.9406 - loss: 0.2017 - val_accuracy: 0.9604 - val_loss: 0.1254\n",
            "Epoch 72/100\n",
            "\u001b[1m150/150\u001b[0m \u001b[32m━━━━━━━━━━━━━━━━━━━━\u001b[0m\u001b[37m\u001b[0m \u001b[1m1s\u001b[0m 4ms/step - accuracy: 0.9440 - loss: 0.1842 - val_accuracy: 0.9625 - val_loss: 0.1344\n",
            "Epoch 73/100\n",
            "\u001b[1m150/150\u001b[0m \u001b[32m━━━━━━━━━━━━━━━━━━━━\u001b[0m\u001b[37m\u001b[0m \u001b[1m1s\u001b[0m 5ms/step - accuracy: 0.9437 - loss: 0.1885 - val_accuracy: 0.9638 - val_loss: 0.1305\n",
            "Epoch 74/100\n",
            "\u001b[1m150/150\u001b[0m \u001b[32m━━━━━━━━━━━━━━━━━━━━\u001b[0m\u001b[37m\u001b[0m \u001b[1m1s\u001b[0m 4ms/step - accuracy: 0.9393 - loss: 0.2028 - val_accuracy: 0.9629 - val_loss: 0.1241\n",
            "Epoch 75/100\n",
            "\u001b[1m150/150\u001b[0m \u001b[32m━━━━━━━━━━━━━━━━━━━━\u001b[0m\u001b[37m\u001b[0m \u001b[1m1s\u001b[0m 4ms/step - accuracy: 0.9480 - loss: 0.1825 - val_accuracy: 0.9650 - val_loss: 0.1207\n",
            "Epoch 76/100\n",
            "\u001b[1m150/150\u001b[0m \u001b[32m━━━━━━━━━━━━━━━━━━━━\u001b[0m\u001b[37m\u001b[0m \u001b[1m0s\u001b[0m 3ms/step - accuracy: 0.9470 - loss: 0.1872 - val_accuracy: 0.9638 - val_loss: 0.1265\n",
            "Epoch 77/100\n",
            "\u001b[1m150/150\u001b[0m \u001b[32m━━━━━━━━━━━━━━━━━━━━\u001b[0m\u001b[37m\u001b[0m \u001b[1m1s\u001b[0m 4ms/step - accuracy: 0.9439 - loss: 0.2125 - val_accuracy: 0.9658 - val_loss: 0.1260\n",
            "Epoch 78/100\n",
            "\u001b[1m150/150\u001b[0m \u001b[32m━━━━━━━━━━━━━━━━━━━━\u001b[0m\u001b[37m\u001b[0m \u001b[1m1s\u001b[0m 3ms/step - accuracy: 0.9416 - loss: 0.1969 - val_accuracy: 0.9625 - val_loss: 0.1275\n",
            "Epoch 79/100\n",
            "\u001b[1m150/150\u001b[0m \u001b[32m━━━━━━━━━━━━━━━━━━━━\u001b[0m\u001b[37m\u001b[0m \u001b[1m1s\u001b[0m 3ms/step - accuracy: 0.9465 - loss: 0.1960 - val_accuracy: 0.9646 - val_loss: 0.1292\n",
            "Epoch 80/100\n",
            "\u001b[1m150/150\u001b[0m \u001b[32m━━━━━━━━━━━━━━━━━━━━\u001b[0m\u001b[37m\u001b[0m \u001b[1m1s\u001b[0m 3ms/step - accuracy: 0.9461 - loss: 0.1853 - val_accuracy: 0.9629 - val_loss: 0.1400\n",
            "Epoch 81/100\n",
            "\u001b[1m150/150\u001b[0m \u001b[32m━━━━━━━━━━━━━━━━━━━━\u001b[0m\u001b[37m\u001b[0m \u001b[1m1s\u001b[0m 3ms/step - accuracy: 0.9481 - loss: 0.2026 - val_accuracy: 0.9629 - val_loss: 0.1340\n",
            "Epoch 82/100\n",
            "\u001b[1m150/150\u001b[0m \u001b[32m━━━━━━━━━━━━━━━━━━━━\u001b[0m\u001b[37m\u001b[0m \u001b[1m1s\u001b[0m 3ms/step - accuracy: 0.9481 - loss: 0.1829 - val_accuracy: 0.9663 - val_loss: 0.1195\n",
            "Epoch 83/100\n",
            "\u001b[1m150/150\u001b[0m \u001b[32m━━━━━━━━━━━━━━━━━━━━\u001b[0m\u001b[37m\u001b[0m \u001b[1m0s\u001b[0m 3ms/step - accuracy: 0.9446 - loss: 0.1917 - val_accuracy: 0.9613 - val_loss: 0.1317\n",
            "Epoch 84/100\n",
            "\u001b[1m150/150\u001b[0m \u001b[32m━━━━━━━━━━━━━━━━━━━━\u001b[0m\u001b[37m\u001b[0m \u001b[1m1s\u001b[0m 4ms/step - accuracy: 0.9431 - loss: 0.1932 - val_accuracy: 0.9642 - val_loss: 0.1300\n",
            "Epoch 85/100\n",
            "\u001b[1m150/150\u001b[0m \u001b[32m━━━━━━━━━━━━━━━━━━━━\u001b[0m\u001b[37m\u001b[0m \u001b[1m0s\u001b[0m 3ms/step - accuracy: 0.9431 - loss: 0.1872 - val_accuracy: 0.9646 - val_loss: 0.1293\n",
            "Epoch 86/100\n",
            "\u001b[1m150/150\u001b[0m \u001b[32m━━━━━━━━━━━━━━━━━━━━\u001b[0m\u001b[37m\u001b[0m \u001b[1m1s\u001b[0m 4ms/step - accuracy: 0.9454 - loss: 0.1890 - val_accuracy: 0.9617 - val_loss: 0.1276\n",
            "Epoch 87/100\n",
            "\u001b[1m150/150\u001b[0m \u001b[32m━━━━━━━━━━━━━━━━━━━━\u001b[0m\u001b[37m\u001b[0m \u001b[1m1s\u001b[0m 3ms/step - accuracy: 0.9451 - loss: 0.1953 - val_accuracy: 0.9629 - val_loss: 0.1317\n",
            "Epoch 88/100\n",
            "\u001b[1m150/150\u001b[0m \u001b[32m━━━━━━━━━━━━━━━━━━━━\u001b[0m\u001b[37m\u001b[0m \u001b[1m1s\u001b[0m 3ms/step - accuracy: 0.9417 - loss: 0.1954 - val_accuracy: 0.9650 - val_loss: 0.1282\n",
            "Epoch 89/100\n",
            "\u001b[1m150/150\u001b[0m \u001b[32m━━━━━━━━━━━━━━━━━━━━\u001b[0m\u001b[37m\u001b[0m \u001b[1m1s\u001b[0m 4ms/step - accuracy: 0.9458 - loss: 0.1812 - val_accuracy: 0.9638 - val_loss: 0.1287\n",
            "Epoch 90/100\n",
            "\u001b[1m150/150\u001b[0m \u001b[32m━━━━━━━━━━━━━━━━━━━━\u001b[0m\u001b[37m\u001b[0m \u001b[1m1s\u001b[0m 4ms/step - accuracy: 0.9403 - loss: 0.1945 - val_accuracy: 0.9621 - val_loss: 0.1298\n",
            "Epoch 91/100\n",
            "\u001b[1m150/150\u001b[0m \u001b[32m━━━━━━━━━━━━━━━━━━━━\u001b[0m\u001b[37m\u001b[0m \u001b[1m2s\u001b[0m 7ms/step - accuracy: 0.9508 - loss: 0.1747 - val_accuracy: 0.9629 - val_loss: 0.1298\n",
            "Epoch 92/100\n",
            "\u001b[1m150/150\u001b[0m \u001b[32m━━━━━━━━━━━━━━━━━━━━\u001b[0m\u001b[37m\u001b[0m \u001b[1m1s\u001b[0m 4ms/step - accuracy: 0.9476 - loss: 0.1843 - val_accuracy: 0.9633 - val_loss: 0.1290\n",
            "Epoch 93/100\n",
            "\u001b[1m150/150\u001b[0m \u001b[32m━━━━━━━━━━━━━━━━━━━━\u001b[0m\u001b[37m\u001b[0m \u001b[1m0s\u001b[0m 3ms/step - accuracy: 0.9475 - loss: 0.1851 - val_accuracy: 0.9671 - val_loss: 0.1269\n",
            "Epoch 94/100\n",
            "\u001b[1m150/150\u001b[0m \u001b[32m━━━━━━━━━━━━━━━━━━━━\u001b[0m\u001b[37m\u001b[0m \u001b[1m1s\u001b[0m 3ms/step - accuracy: 0.9446 - loss: 0.1980 - val_accuracy: 0.9654 - val_loss: 0.1257\n",
            "Epoch 95/100\n",
            "\u001b[1m150/150\u001b[0m \u001b[32m━━━━━━━━━━━━━━━━━━━━\u001b[0m\u001b[37m\u001b[0m \u001b[1m1s\u001b[0m 3ms/step - accuracy: 0.9438 - loss: 0.1877 - val_accuracy: 0.9617 - val_loss: 0.1305\n",
            "Epoch 96/100\n",
            "\u001b[1m150/150\u001b[0m \u001b[32m━━━━━━━━━━━━━━━━━━━━\u001b[0m\u001b[37m\u001b[0m \u001b[1m1s\u001b[0m 4ms/step - accuracy: 0.9392 - loss: 0.1992 - val_accuracy: 0.9642 - val_loss: 0.1241\n",
            "Epoch 97/100\n",
            "\u001b[1m150/150\u001b[0m \u001b[32m━━━━━━━━━━━━━━━━━━━━\u001b[0m\u001b[37m\u001b[0m \u001b[1m1s\u001b[0m 4ms/step - accuracy: 0.9491 - loss: 0.1755 - val_accuracy: 0.9654 - val_loss: 0.1257\n",
            "Epoch 98/100\n",
            "\u001b[1m150/150\u001b[0m \u001b[32m━━━━━━━━━━━━━━━━━━━━\u001b[0m\u001b[37m\u001b[0m \u001b[1m0s\u001b[0m 3ms/step - accuracy: 0.9471 - loss: 0.1837 - val_accuracy: 0.9675 - val_loss: 0.1250\n",
            "Epoch 99/100\n",
            "\u001b[1m150/150\u001b[0m \u001b[32m━━━━━━━━━━━━━━━━━━━━\u001b[0m\u001b[37m\u001b[0m \u001b[1m1s\u001b[0m 3ms/step - accuracy: 0.9454 - loss: 0.1831 - val_accuracy: 0.9638 - val_loss: 0.1272\n",
            "Epoch 100/100\n",
            "\u001b[1m150/150\u001b[0m \u001b[32m━━━━━━━━━━━━━━━━━━━━\u001b[0m\u001b[37m\u001b[0m \u001b[1m1s\u001b[0m 3ms/step - accuracy: 0.9488 - loss: 0.1863 - val_accuracy: 0.9654 - val_loss: 0.1220\n"
          ]
        },
        {
          "data": {
            "image/png": "[encoded data removed]",
            "text/plain": [
              "<Figure size 1600x600 with 2 Axes>"
            ]
          },
          "metadata": {},
          "output_type": "display_data"
        }
      ],
      "source": [
        "inputs = tf.keras.Input(shape=(28, 28), name='input_layer')\n",
        "\n",
        "flat = layers.Flatten()(inputs)\n",
        "flat = layers.Dropout(0.5, name='dropout_flat')(flat)\n",
        "\n",
        "l_1 = layers.Dense(256, activation='relu', name='layer_1')(flat)\n",
        "l_1 = layers.Dropout(0.5, name='dropout_l1')(l_1)\n",
        "\n",
        "l_2 = layers.Dense(128, activation='relu', name='layer_2')(l_1)\n",
        "l_2 = layers.Dropout(0.5, name='dropout_l2')(l_2)\n",
        "\n",
        "l_3 = layers.Dense(128, activation='relu', name='layer_3')(l_2)\n",
        "l_3 = layers.Dropout(0.5, name='dropout_l3')(l_3)\n",
        "\n",
        "\n",
        "outputs = layers.Dense(10, activation='softmax',\n",
        "                       name='output_layer')(l_3)\n",
        "\n",
        "\n",
        "model_dropout = keras.Model(\n",
        "    inputs=inputs, outputs=outputs, name='dont_overfit_model_dropout')\n",
        "model_dropout.compile(optimizer='adam',\n",
        "                      loss='sparse_categorical_crossentropy',\n",
        "                      metrics=['accuracy'])\n",
        "\n",
        "history_dropout = model_dropout.fit(\n",
        "    X,\n",
        "    y,\n",
        "    batch_size=64,\n",
        "    epochs=100,\n",
        "    validation_split=0.2,\n",
        "    shuffle=True)\n",
        "\n",
        "show_loss_accuracy_evolution(history_dropout)"
      ]
    },
    {
      "cell_type": "markdown",
      "id": "f923e269",
      "metadata": {
        "id": "f923e269"
      },
      "source": [
        "## Batch Normalization\n",
        "`BatchNormalization` aplica una transformación que hace que la salida tenga una media cerca de 0 y una std deviation cerca de 1"
      ]
    },
    {
      "cell_type": "code",
      "execution_count": 17,
      "id": "642948f9",
      "metadata": {
        "colab": {
          "base_uri": "https://localhost:8080/",
          "height": 1000
        },
        "id": "642948f9",
        "outputId": "e9a74a44-2b8a-4607-ff27-121c7f836aa1"
      },
      "outputs": [
        {
          "data": {
            "text/html": [
              "<pre style=\"white-space:pre;overflow-x:auto;line-height:normal;font-family:Menlo,'DejaVu Sans Mono',consolas,'Courier New',monospace\"><span style=\"font-weight: bold\">Model: \"dont_overfit_model_batch_norm\"</span>\n",
              "</pre>\n"
            ],
            "text/plain": [
              "\u001b[1mModel: \"dont_overfit_model_batch_norm\"\u001b[0m\n"
            ]
          },
          "metadata": {},
          "output_type": "display_data"
        },
        {
          "data": {
            "text/html": [
              "<pre style=\"white-space:pre;overflow-x:auto;line-height:normal;font-family:Menlo,'DejaVu Sans Mono',consolas,'Courier New',monospace\">┏━━━━━━━━━━━━━━━━━━━━━━━━━━━━━━━━━┳━━━━━━━━━━━━━━━━━━━━━━━━┳━━━━━━━━━━━━━━━┓\n",
              "┃<span style=\"font-weight: bold\"> Layer (type)                    </span>┃<span style=\"font-weight: bold\"> Output Shape           </span>┃<span style=\"font-weight: bold\">       Param # </span>┃\n",
              "┡━━━━━━━━━━━━━━━━━━━━━━━━━━━━━━━━━╇━━━━━━━━━━━━━━━━━━━━━━━━╇━━━━━━━━━━━━━━━┩\n",
              "│ input_layer (<span style=\"color: #0087ff; text-decoration-color: #0087ff\">InputLayer</span>)        │ (<span style=\"color: #00d7ff; text-decoration-color: #00d7ff\">None</span>, <span style=\"color: #00af00; text-decoration-color: #00af00\">28</span>, <span style=\"color: #00af00; text-decoration-color: #00af00\">28</span>)         │             <span style=\"color: #00af00; text-decoration-color: #00af00\">0</span> │\n",
              "├─────────────────────────────────┼────────────────────────┼───────────────┤\n",
              "│ flatten_4 (<span style=\"color: #0087ff; text-decoration-color: #0087ff\">Flatten</span>)             │ (<span style=\"color: #00d7ff; text-decoration-color: #00d7ff\">None</span>, <span style=\"color: #00af00; text-decoration-color: #00af00\">784</span>)            │             <span style=\"color: #00af00; text-decoration-color: #00af00\">0</span> │\n",
              "├─────────────────────────────────┼────────────────────────┼───────────────┤\n",
              "│ layer_1 (<span style=\"color: #0087ff; text-decoration-color: #0087ff\">Dense</span>)                 │ (<span style=\"color: #00d7ff; text-decoration-color: #00d7ff\">None</span>, <span style=\"color: #00af00; text-decoration-color: #00af00\">256</span>)            │       <span style=\"color: #00af00; text-decoration-color: #00af00\">200,960</span> │\n",
              "├─────────────────────────────────┼────────────────────────┼───────────────┤\n",
              "│ batch_normalization             │ (<span style=\"color: #00d7ff; text-decoration-color: #00d7ff\">None</span>, <span style=\"color: #00af00; text-decoration-color: #00af00\">256</span>)            │         <span style=\"color: #00af00; text-decoration-color: #00af00\">1,024</span> │\n",
              "│ (<span style=\"color: #0087ff; text-decoration-color: #0087ff\">BatchNormalization</span>)            │                        │               │\n",
              "├─────────────────────────────────┼────────────────────────┼───────────────┤\n",
              "│ layer_2 (<span style=\"color: #0087ff; text-decoration-color: #0087ff\">Dense</span>)                 │ (<span style=\"color: #00d7ff; text-decoration-color: #00d7ff\">None</span>, <span style=\"color: #00af00; text-decoration-color: #00af00\">128</span>)            │        <span style=\"color: #00af00; text-decoration-color: #00af00\">32,896</span> │\n",
              "├─────────────────────────────────┼────────────────────────┼───────────────┤\n",
              "│ batch_normalization_1           │ (<span style=\"color: #00d7ff; text-decoration-color: #00d7ff\">None</span>, <span style=\"color: #00af00; text-decoration-color: #00af00\">128</span>)            │           <span style=\"color: #00af00; text-decoration-color: #00af00\">512</span> │\n",
              "│ (<span style=\"color: #0087ff; text-decoration-color: #0087ff\">BatchNormalization</span>)            │                        │               │\n",
              "├─────────────────────────────────┼────────────────────────┼───────────────┤\n",
              "│ layer_3 (<span style=\"color: #0087ff; text-decoration-color: #0087ff\">Dense</span>)                 │ (<span style=\"color: #00d7ff; text-decoration-color: #00d7ff\">None</span>, <span style=\"color: #00af00; text-decoration-color: #00af00\">128</span>)            │        <span style=\"color: #00af00; text-decoration-color: #00af00\">16,512</span> │\n",
              "├─────────────────────────────────┼────────────────────────┼───────────────┤\n",
              "│ output_layer (<span style=\"color: #0087ff; text-decoration-color: #0087ff\">Dense</span>)            │ (<span style=\"color: #00d7ff; text-decoration-color: #00d7ff\">None</span>, <span style=\"color: #00af00; text-decoration-color: #00af00\">10</span>)             │         <span style=\"color: #00af00; text-decoration-color: #00af00\">1,290</span> │\n",
              "└─────────────────────────────────┴────────────────────────┴───────────────┘\n",
              "</pre>\n"
            ],
            "text/plain": [
              "┏━━━━━━━━━━━━━━━━━━━━━━━━━━━━━━━━━┳━━━━━━━━━━━━━━━━━━━━━━━━┳━━━━━━━━━━━━━━━┓\n",
              "┃\u001b[1m \u001b[0m\u001b[1mLayer (type)                   \u001b[0m\u001b[1m \u001b[0m┃\u001b[1m \u001b[0m\u001b[1mOutput Shape          \u001b[0m\u001b[1m \u001b[0m┃\u001b[1m \u001b[0m\u001b[1m      Param #\u001b[0m\u001b[1m \u001b[0m┃\n",
              "┡━━━━━━━━━━━━━━━━━━━━━━━━━━━━━━━━━╇━━━━━━━━━━━━━━━━━━━━━━━━╇━━━━━━━━━━━━━━━┩\n",
              "│ input_layer (\u001b[38;5;33mInputLayer\u001b[0m)        │ (\u001b[38;5;45mNone\u001b[0m, \u001b[38;5;34m28\u001b[0m, \u001b[38;5;34m28\u001b[0m)         │             \u001b[38;5;34m0\u001b[0m │\n",
              "├─────────────────────────────────┼────────────────────────┼───────────────┤\n",
              "│ flatten_4 (\u001b[38;5;33mFlatten\u001b[0m)             │ (\u001b[38;5;45mNone\u001b[0m, \u001b[38;5;34m784\u001b[0m)            │             \u001b[38;5;34m0\u001b[0m │\n",
              "├─────────────────────────────────┼────────────────────────┼───────────────┤\n",
              "│ layer_1 (\u001b[38;5;33mDense\u001b[0m)                 │ (\u001b[38;5;45mNone\u001b[0m, \u001b[38;5;34m256\u001b[0m)            │       \u001b[38;5;34m200,960\u001b[0m │\n",
              "├─────────────────────────────────┼────────────────────────┼───────────────┤\n",
              "│ batch_normalization             │ (\u001b[38;5;45mNone\u001b[0m, \u001b[38;5;34m256\u001b[0m)            │         \u001b[38;5;34m1,024\u001b[0m │\n",
              "│ (\u001b[38;5;33mBatchNormalization\u001b[0m)            │                        │               │\n",
              "├─────────────────────────────────┼────────────────────────┼───────────────┤\n",
              "│ layer_2 (\u001b[38;5;33mDense\u001b[0m)                 │ (\u001b[38;5;45mNone\u001b[0m, \u001b[38;5;34m128\u001b[0m)            │        \u001b[38;5;34m32,896\u001b[0m │\n",
              "├─────────────────────────────────┼────────────────────────┼───────────────┤\n",
              "│ batch_normalization_1           │ (\u001b[38;5;45mNone\u001b[0m, \u001b[38;5;34m128\u001b[0m)            │           \u001b[38;5;34m512\u001b[0m │\n",
              "│ (\u001b[38;5;33mBatchNormalization\u001b[0m)            │                        │               │\n",
              "├─────────────────────────────────┼────────────────────────┼───────────────┤\n",
              "│ layer_3 (\u001b[38;5;33mDense\u001b[0m)                 │ (\u001b[38;5;45mNone\u001b[0m, \u001b[38;5;34m128\u001b[0m)            │        \u001b[38;5;34m16,512\u001b[0m │\n",
              "├─────────────────────────────────┼────────────────────────┼───────────────┤\n",
              "│ output_layer (\u001b[38;5;33mDense\u001b[0m)            │ (\u001b[38;5;45mNone\u001b[0m, \u001b[38;5;34m10\u001b[0m)             │         \u001b[38;5;34m1,290\u001b[0m │\n",
              "└─────────────────────────────────┴────────────────────────┴───────────────┘\n"
            ]
          },
          "metadata": {},
          "output_type": "display_data"
        },
        {
          "data": {
            "text/html": [
              "<pre style=\"white-space:pre;overflow-x:auto;line-height:normal;font-family:Menlo,'DejaVu Sans Mono',consolas,'Courier New',monospace\"><span style=\"font-weight: bold\"> Total params: </span><span style=\"color: #00af00; text-decoration-color: #00af00\">253,194</span> (989.04 KB)\n",
              "</pre>\n"
            ],
            "text/plain": [
              "\u001b[1m Total params: \u001b[0m\u001b[38;5;34m253,194\u001b[0m (989.04 KB)\n"
            ]
          },
          "metadata": {},
          "output_type": "display_data"
        },
        {
          "data": {
            "text/html": [
              "<pre style=\"white-space:pre;overflow-x:auto;line-height:normal;font-family:Menlo,'DejaVu Sans Mono',consolas,'Courier New',monospace\"><span style=\"font-weight: bold\"> Trainable params: </span><span style=\"color: #00af00; text-decoration-color: #00af00\">252,426</span> (986.04 KB)\n",
              "</pre>\n"
            ],
            "text/plain": [
              "\u001b[1m Trainable params: \u001b[0m\u001b[38;5;34m252,426\u001b[0m (986.04 KB)\n"
            ]
          },
          "metadata": {},
          "output_type": "display_data"
        },
        {
          "data": {
            "text/html": [
              "<pre style=\"white-space:pre;overflow-x:auto;line-height:normal;font-family:Menlo,'DejaVu Sans Mono',consolas,'Courier New',monospace\"><span style=\"font-weight: bold\"> Non-trainable params: </span><span style=\"color: #00af00; text-decoration-color: #00af00\">768</span> (3.00 KB)\n",
              "</pre>\n"
            ],
            "text/plain": [
              "\u001b[1m Non-trainable params: \u001b[0m\u001b[38;5;34m768\u001b[0m (3.00 KB)\n"
            ]
          },
          "metadata": {},
          "output_type": "display_data"
        },
        {
          "name": "stdout",
          "output_type": "stream",
          "text": [
            "Epoch 1/100\n",
            "\u001b[1m150/150\u001b[0m \u001b[32m━━━━━━━━━━━━━━━━━━━━\u001b[0m\u001b[37m\u001b[0m \u001b[1m4s\u001b[0m 8ms/step - accuracy: 0.7432 - loss: 0.8163 - val_accuracy: 0.8983 - val_loss: 0.4473\n",
            "Epoch 2/100\n",
            "\u001b[1m150/150\u001b[0m \u001b[32m━━━━━━━━━━━━━━━━━━━━\u001b[0m\u001b[37m\u001b[0m \u001b[1m0s\u001b[0m 3ms/step - accuracy: 0.9526 - loss: 0.1565 - val_accuracy: 0.9388 - val_loss: 0.2086\n",
            "Epoch 3/100\n",
            "\u001b[1m150/150\u001b[0m \u001b[32m━━━━━━━━━━━━━━━━━━━━\u001b[0m\u001b[37m\u001b[0m \u001b[1m1s\u001b[0m 3ms/step - accuracy: 0.9865 - loss: 0.0627 - val_accuracy: 0.9442 - val_loss: 0.1809\n",
            "Epoch 4/100\n",
            "\u001b[1m150/150\u001b[0m \u001b[32m━━━━━━━━━━━━━━━━━━━━\u001b[0m\u001b[37m\u001b[0m \u001b[1m1s\u001b[0m 3ms/step - accuracy: 0.9966 - loss: 0.0230 - val_accuracy: 0.9504 - val_loss: 0.1677\n",
            "Epoch 5/100\n",
            "\u001b[1m150/150\u001b[0m \u001b[32m━━━━━━━━━━━━━━━━━━━━\u001b[0m\u001b[37m\u001b[0m \u001b[1m1s\u001b[0m 4ms/step - accuracy: 0.9991 - loss: 0.0112 - val_accuracy: 0.9529 - val_loss: 0.1862\n",
            "Epoch 6/100\n",
            "\u001b[1m150/150\u001b[0m \u001b[32m━━━━━━━━━━━━━━━━━━━━\u001b[0m\u001b[37m\u001b[0m \u001b[1m1s\u001b[0m 4ms/step - accuracy: 0.9992 - loss: 0.0066 - val_accuracy: 0.9583 - val_loss: 0.1613\n",
            "Epoch 7/100\n",
            "\u001b[1m150/150\u001b[0m \u001b[32m━━━━━━━━━━━━━━━━━━━━\u001b[0m\u001b[37m\u001b[0m \u001b[1m0s\u001b[0m 3ms/step - accuracy: 1.0000 - loss: 0.0019 - val_accuracy: 0.9600 - val_loss: 0.1584\n",
            "Epoch 8/100\n",
            "\u001b[1m150/150\u001b[0m \u001b[32m━━━━━━━━━━━━━━━━━━━━\u001b[0m\u001b[37m\u001b[0m \u001b[1m1s\u001b[0m 5ms/step - accuracy: 1.0000 - loss: 8.6309e-04 - val_accuracy: 0.9604 - val_loss: 0.1596\n",
            "Epoch 9/100\n",
            "\u001b[1m150/150\u001b[0m \u001b[32m━━━━━━━━━━━━━━━━━━━━\u001b[0m\u001b[37m\u001b[0m \u001b[1m1s\u001b[0m 5ms/step - accuracy: 1.0000 - loss: 5.8608e-04 - val_accuracy: 0.9604 - val_loss: 0.1616\n",
            "Epoch 10/100\n",
            "\u001b[1m150/150\u001b[0m \u001b[32m━━━━━━━━━━━━━━━━━━━━\u001b[0m\u001b[37m\u001b[0m \u001b[1m1s\u001b[0m 5ms/step - accuracy: 1.0000 - loss: 4.5664e-04 - val_accuracy: 0.9600 - val_loss: 0.1637\n",
            "Epoch 11/100\n",
            "\u001b[1m150/150\u001b[0m \u001b[32m━━━━━━━━━━━━━━━━━━━━\u001b[0m\u001b[37m\u001b[0m \u001b[1m1s\u001b[0m 4ms/step - accuracy: 1.0000 - loss: 3.6854e-04 - val_accuracy: 0.9596 - val_loss: 0.1655\n",
            "Epoch 12/100\n",
            "\u001b[1m150/150\u001b[0m \u001b[32m━━━━━━━━━━━━━━━━━━━━\u001b[0m\u001b[37m\u001b[0m \u001b[1m1s\u001b[0m 3ms/step - accuracy: 1.0000 - loss: 3.0389e-04 - val_accuracy: 0.9596 - val_loss: 0.1672\n",
            "Epoch 13/100\n",
            "\u001b[1m150/150\u001b[0m \u001b[32m━━━━━━━━━━━━━━━━━━━━\u001b[0m\u001b[37m\u001b[0m \u001b[1m0s\u001b[0m 3ms/step - accuracy: 1.0000 - loss: 2.5436e-04 - val_accuracy: 0.9600 - val_loss: 0.1689\n",
            "Epoch 14/100\n",
            "\u001b[1m150/150\u001b[0m \u001b[32m━━━━━━━━━━━━━━━━━━━━\u001b[0m\u001b[37m\u001b[0m \u001b[1m1s\u001b[0m 3ms/step - accuracy: 1.0000 - loss: 2.1556e-04 - val_accuracy: 0.9596 - val_loss: 0.1706\n",
            "Epoch 15/100\n",
            "\u001b[1m150/150\u001b[0m \u001b[32m━━━━━━━━━━━━━━━━━━━━\u001b[0m\u001b[37m\u001b[0m \u001b[1m1s\u001b[0m 3ms/step - accuracy: 1.0000 - loss: 1.8455e-04 - val_accuracy: 0.9596 - val_loss: 0.1722\n",
            "Epoch 16/100\n",
            "\u001b[1m150/150\u001b[0m \u001b[32m━━━━━━━━━━━━━━━━━━━━\u001b[0m\u001b[37m\u001b[0m \u001b[1m1s\u001b[0m 3ms/step - accuracy: 1.0000 - loss: 1.5918e-04 - val_accuracy: 0.9600 - val_loss: 0.1737\n",
            "Epoch 17/100\n",
            "\u001b[1m150/150\u001b[0m \u001b[32m━━━━━━━━━━━━━━━━━━━━\u001b[0m\u001b[37m\u001b[0m \u001b[1m1s\u001b[0m 3ms/step - accuracy: 1.0000 - loss: 1.3823e-04 - val_accuracy: 0.9600 - val_loss: 0.1753\n",
            "Epoch 18/100\n",
            "\u001b[1m150/150\u001b[0m \u001b[32m━━━━━━━━━━━━━━━━━━━━\u001b[0m\u001b[37m\u001b[0m \u001b[1m1s\u001b[0m 3ms/step - accuracy: 1.0000 - loss: 1.2067e-04 - val_accuracy: 0.9604 - val_loss: 0.1767\n",
            "Epoch 19/100\n",
            "\u001b[1m150/150\u001b[0m \u001b[32m━━━━━━━━━━━━━━━━━━━━\u001b[0m\u001b[37m\u001b[0m \u001b[1m1s\u001b[0m 4ms/step - accuracy: 1.0000 - loss: 1.0595e-04 - val_accuracy: 0.9604 - val_loss: 0.1781\n",
            "Epoch 20/100\n",
            "\u001b[1m150/150\u001b[0m \u001b[32m━━━━━━━━━━━━━━━━━━━━\u001b[0m\u001b[37m\u001b[0m \u001b[1m1s\u001b[0m 3ms/step - accuracy: 1.0000 - loss: 9.3347e-05 - val_accuracy: 0.9600 - val_loss: 0.1796\n",
            "Epoch 21/100\n",
            "\u001b[1m150/150\u001b[0m \u001b[32m━━━━━━━━━━━━━━━━━━━━\u001b[0m\u001b[37m\u001b[0m \u001b[1m0s\u001b[0m 3ms/step - accuracy: 1.0000 - loss: 8.2607e-05 - val_accuracy: 0.9608 - val_loss: 0.1810\n",
            "Epoch 22/100\n",
            "\u001b[1m150/150\u001b[0m \u001b[32m━━━━━━━━━━━━━━━━━━━━\u001b[0m\u001b[37m\u001b[0m \u001b[1m1s\u001b[0m 4ms/step - accuracy: 1.0000 - loss: 7.3328e-05 - val_accuracy: 0.9608 - val_loss: 0.1823\n",
            "Epoch 23/100\n",
            "\u001b[1m150/150\u001b[0m \u001b[32m━━━━━━━━━━━━━━━━━━━━\u001b[0m\u001b[37m\u001b[0m \u001b[1m1s\u001b[0m 4ms/step - accuracy: 1.0000 - loss: 6.5278e-05 - val_accuracy: 0.9608 - val_loss: 0.1837\n",
            "Epoch 24/100\n",
            "\u001b[1m150/150\u001b[0m \u001b[32m━━━━━━━━━━━━━━━━━━━━\u001b[0m\u001b[37m\u001b[0m \u001b[1m1s\u001b[0m 3ms/step - accuracy: 1.0000 - loss: 5.8293e-05 - val_accuracy: 0.9608 - val_loss: 0.1850\n",
            "Epoch 25/100\n",
            "\u001b[1m150/150\u001b[0m \u001b[32m━━━━━━━━━━━━━━━━━━━━\u001b[0m\u001b[37m\u001b[0m \u001b[1m1s\u001b[0m 3ms/step - accuracy: 1.0000 - loss: 5.2169e-05 - val_accuracy: 0.9613 - val_loss: 0.1864\n",
            "Epoch 26/100\n",
            "\u001b[1m150/150\u001b[0m \u001b[32m━━━━━━━━━━━━━━━━━━━━\u001b[0m\u001b[37m\u001b[0m \u001b[1m1s\u001b[0m 3ms/step - accuracy: 1.0000 - loss: 4.6804e-05 - val_accuracy: 0.9613 - val_loss: 0.1877\n",
            "Epoch 27/100\n",
            "\u001b[1m150/150\u001b[0m \u001b[32m━━━━━━━━━━━━━━━━━━━━\u001b[0m\u001b[37m\u001b[0m \u001b[1m1s\u001b[0m 3ms/step - accuracy: 1.0000 - loss: 4.2047e-05 - val_accuracy: 0.9617 - val_loss: 0.1890\n",
            "Epoch 28/100\n",
            "\u001b[1m150/150\u001b[0m \u001b[32m━━━━━━━━━━━━━━━━━━━━\u001b[0m\u001b[37m\u001b[0m \u001b[1m1s\u001b[0m 5ms/step - accuracy: 1.0000 - loss: 3.7840e-05 - val_accuracy: 0.9617 - val_loss: 0.1901\n",
            "Epoch 29/100\n",
            "\u001b[1m150/150\u001b[0m \u001b[32m━━━━━━━━━━━━━━━━━━━━\u001b[0m\u001b[37m\u001b[0m \u001b[1m1s\u001b[0m 5ms/step - accuracy: 1.0000 - loss: 3.4123e-05 - val_accuracy: 0.9617 - val_loss: 0.1914\n",
            "Epoch 30/100\n",
            "\u001b[1m150/150\u001b[0m \u001b[32m━━━━━━━━━━━━━━━━━━━━\u001b[0m\u001b[37m\u001b[0m \u001b[1m1s\u001b[0m 3ms/step - accuracy: 1.0000 - loss: 3.0813e-05 - val_accuracy: 0.9617 - val_loss: 0.1927\n",
            "Epoch 31/100\n",
            "\u001b[1m150/150\u001b[0m \u001b[32m━━━━━━━━━━━━━━━━━━━━\u001b[0m\u001b[37m\u001b[0m \u001b[1m1s\u001b[0m 4ms/step - accuracy: 1.0000 - loss: 2.7869e-05 - val_accuracy: 0.9617 - val_loss: 0.1939\n",
            "Epoch 32/100\n",
            "\u001b[1m150/150\u001b[0m \u001b[32m━━━━━━━━━━━━━━━━━━━━\u001b[0m\u001b[37m\u001b[0m \u001b[1m1s\u001b[0m 3ms/step - accuracy: 1.0000 - loss: 2.5232e-05 - val_accuracy: 0.9617 - val_loss: 0.1951\n",
            "Epoch 33/100\n",
            "\u001b[1m150/150\u001b[0m \u001b[32m━━━━━━━━━━━━━━━━━━━━\u001b[0m\u001b[37m\u001b[0m \u001b[1m1s\u001b[0m 3ms/step - accuracy: 1.0000 - loss: 2.2872e-05 - val_accuracy: 0.9617 - val_loss: 0.1963\n",
            "Epoch 34/100\n",
            "\u001b[1m150/150\u001b[0m \u001b[32m━━━━━━━━━━━━━━━━━━━━\u001b[0m\u001b[37m\u001b[0m \u001b[1m1s\u001b[0m 3ms/step - accuracy: 1.0000 - loss: 2.0762e-05 - val_accuracy: 0.9617 - val_loss: 0.1974\n",
            "Epoch 35/100\n",
            "\u001b[1m150/150\u001b[0m \u001b[32m━━━━━━━━━━━━━━━━━━━━\u001b[0m\u001b[37m\u001b[0m \u001b[1m1s\u001b[0m 3ms/step - accuracy: 1.0000 - loss: 1.8861e-05 - val_accuracy: 0.9617 - val_loss: 0.1986\n",
            "Epoch 36/100\n",
            "\u001b[1m150/150\u001b[0m \u001b[32m━━━━━━━━━━━━━━━━━━━━\u001b[0m\u001b[37m\u001b[0m \u001b[1m1s\u001b[0m 3ms/step - accuracy: 1.0000 - loss: 1.7149e-05 - val_accuracy: 0.9617 - val_loss: 0.1997\n",
            "Epoch 37/100\n",
            "\u001b[1m150/150\u001b[0m \u001b[32m━━━━━━━━━━━━━━━━━━━━\u001b[0m\u001b[37m\u001b[0m \u001b[1m1s\u001b[0m 3ms/step - accuracy: 1.0000 - loss: 1.5598e-05 - val_accuracy: 0.9617 - val_loss: 0.2009\n",
            "Epoch 38/100\n",
            "\u001b[1m150/150\u001b[0m \u001b[32m━━━━━━━━━━━━━━━━━━━━\u001b[0m\u001b[37m\u001b[0m \u001b[1m1s\u001b[0m 4ms/step - accuracy: 1.0000 - loss: 1.4201e-05 - val_accuracy: 0.9617 - val_loss: 0.2020\n",
            "Epoch 39/100\n",
            "\u001b[1m150/150\u001b[0m \u001b[32m━━━━━━━━━━━━━━━━━━━━\u001b[0m\u001b[37m\u001b[0m \u001b[1m1s\u001b[0m 3ms/step - accuracy: 1.0000 - loss: 1.2938e-05 - val_accuracy: 0.9617 - val_loss: 0.2032\n",
            "Epoch 40/100\n",
            "\u001b[1m150/150\u001b[0m \u001b[32m━━━━━━━━━━━━━━━━━━━━\u001b[0m\u001b[37m\u001b[0m \u001b[1m1s\u001b[0m 3ms/step - accuracy: 1.0000 - loss: 1.1795e-05 - val_accuracy: 0.9617 - val_loss: 0.2044\n",
            "Epoch 41/100\n",
            "\u001b[1m150/150\u001b[0m \u001b[32m━━━━━━━━━━━━━━━━━━━━\u001b[0m\u001b[37m\u001b[0m \u001b[1m1s\u001b[0m 4ms/step - accuracy: 1.0000 - loss: 1.0756e-05 - val_accuracy: 0.9617 - val_loss: 0.2055\n",
            "Epoch 42/100\n",
            "\u001b[1m150/150\u001b[0m \u001b[32m━━━━━━━━━━━━━━━━━━━━\u001b[0m\u001b[37m\u001b[0m \u001b[1m1s\u001b[0m 3ms/step - accuracy: 1.0000 - loss: 9.8135e-06 - val_accuracy: 0.9617 - val_loss: 0.2067\n",
            "Epoch 43/100\n",
            "\u001b[1m150/150\u001b[0m \u001b[32m━━━━━━━━━━━━━━━━━━━━\u001b[0m\u001b[37m\u001b[0m \u001b[1m1s\u001b[0m 3ms/step - accuracy: 1.0000 - loss: 8.9597e-06 - val_accuracy: 0.9617 - val_loss: 0.2077\n",
            "Epoch 44/100\n",
            "\u001b[1m150/150\u001b[0m \u001b[32m━━━━━━━━━━━━━━━━━━━━\u001b[0m\u001b[37m\u001b[0m \u001b[1m1s\u001b[0m 3ms/step - accuracy: 1.0000 - loss: 8.1823e-06 - val_accuracy: 0.9617 - val_loss: 0.2089\n",
            "Epoch 45/100\n",
            "\u001b[1m150/150\u001b[0m \u001b[32m━━━━━━━━━━━━━━━━━━━━\u001b[0m\u001b[37m\u001b[0m \u001b[1m1s\u001b[0m 4ms/step - accuracy: 1.0000 - loss: 7.4737e-06 - val_accuracy: 0.9617 - val_loss: 0.2100\n",
            "Epoch 46/100\n",
            "\u001b[1m150/150\u001b[0m \u001b[32m━━━━━━━━━━━━━━━━━━━━\u001b[0m\u001b[37m\u001b[0m \u001b[1m0s\u001b[0m 3ms/step - accuracy: 1.0000 - loss: 6.8294e-06 - val_accuracy: 0.9617 - val_loss: 0.2110\n",
            "Epoch 47/100\n",
            "\u001b[1m150/150\u001b[0m \u001b[32m━━━━━━━━━━━━━━━━━━━━\u001b[0m\u001b[37m\u001b[0m \u001b[1m1s\u001b[0m 4ms/step - accuracy: 1.0000 - loss: 6.2440e-06 - val_accuracy: 0.9617 - val_loss: 0.2121\n",
            "Epoch 48/100\n",
            "\u001b[1m150/150\u001b[0m \u001b[32m━━━━━━━━━━━━━━━━━━━━\u001b[0m\u001b[37m\u001b[0m \u001b[1m1s\u001b[0m 5ms/step - accuracy: 1.0000 - loss: 5.7131e-06 - val_accuracy: 0.9617 - val_loss: 0.2132\n",
            "Epoch 49/100\n",
            "\u001b[1m150/150\u001b[0m \u001b[32m━━━━━━━━━━━━━━━━━━━━\u001b[0m\u001b[37m\u001b[0m \u001b[1m1s\u001b[0m 5ms/step - accuracy: 1.0000 - loss: 5.2253e-06 - val_accuracy: 0.9617 - val_loss: 0.2142\n",
            "Epoch 50/100\n",
            "\u001b[1m150/150\u001b[0m \u001b[32m━━━━━━━━━━━━━━━━━━━━\u001b[0m\u001b[37m\u001b[0m \u001b[1m1s\u001b[0m 5ms/step - accuracy: 1.0000 - loss: 4.7816e-06 - val_accuracy: 0.9617 - val_loss: 0.2153\n",
            "Epoch 51/100\n",
            "\u001b[1m150/150\u001b[0m \u001b[32m━━━━━━━━━━━━━━━━━━━━\u001b[0m\u001b[37m\u001b[0m \u001b[1m1s\u001b[0m 3ms/step - accuracy: 1.0000 - loss: 4.3772e-06 - val_accuracy: 0.9617 - val_loss: 0.2164\n",
            "Epoch 52/100\n",
            "\u001b[1m150/150\u001b[0m \u001b[32m━━━━━━━━━━━━━━━━━━━━\u001b[0m\u001b[37m\u001b[0m \u001b[1m0s\u001b[0m 3ms/step - accuracy: 1.0000 - loss: 4.0094e-06 - val_accuracy: 0.9617 - val_loss: 0.2174\n",
            "Epoch 53/100\n",
            "\u001b[1m150/150\u001b[0m \u001b[32m━━━━━━━━━━━━━━━━━━━━\u001b[0m\u001b[37m\u001b[0m \u001b[1m1s\u001b[0m 4ms/step - accuracy: 1.0000 - loss: 3.6703e-06 - val_accuracy: 0.9617 - val_loss: 0.2186\n",
            "Epoch 54/100\n",
            "\u001b[1m150/150\u001b[0m \u001b[32m━━━━━━━━━━━━━━━━━━━━\u001b[0m\u001b[37m\u001b[0m \u001b[1m1s\u001b[0m 3ms/step - accuracy: 1.0000 - loss: 3.3647e-06 - val_accuracy: 0.9617 - val_loss: 0.2196\n",
            "Epoch 55/100\n",
            "\u001b[1m150/150\u001b[0m \u001b[32m━━━━━━━━━━━━━━━━━━━━\u001b[0m\u001b[37m\u001b[0m \u001b[1m1s\u001b[0m 3ms/step - accuracy: 1.0000 - loss: 3.0837e-06 - val_accuracy: 0.9617 - val_loss: 0.2208\n",
            "Epoch 56/100\n",
            "\u001b[1m150/150\u001b[0m \u001b[32m━━━━━━━━━━━━━━━━━━━━\u001b[0m\u001b[37m\u001b[0m \u001b[1m1s\u001b[0m 3ms/step - accuracy: 1.0000 - loss: 2.8260e-06 - val_accuracy: 0.9617 - val_loss: 0.2218\n",
            "Epoch 57/100\n",
            "\u001b[1m150/150\u001b[0m \u001b[32m━━━━━━━━━━━━━━━━━━━━\u001b[0m\u001b[37m\u001b[0m \u001b[1m1s\u001b[0m 4ms/step - accuracy: 1.0000 - loss: 2.5914e-06 - val_accuracy: 0.9617 - val_loss: 0.2229\n",
            "Epoch 58/100\n",
            "\u001b[1m150/150\u001b[0m \u001b[32m━━━━━━━━━━━━━━━━━━━━\u001b[0m\u001b[37m\u001b[0m \u001b[1m1s\u001b[0m 3ms/step - accuracy: 1.0000 - loss: 2.3759e-06 - val_accuracy: 0.9617 - val_loss: 0.2240\n",
            "Epoch 59/100\n",
            "\u001b[1m150/150\u001b[0m \u001b[32m━━━━━━━━━━━━━━━━━━━━\u001b[0m\u001b[37m\u001b[0m \u001b[1m1s\u001b[0m 3ms/step - accuracy: 1.0000 - loss: 2.1806e-06 - val_accuracy: 0.9617 - val_loss: 0.2251\n",
            "Epoch 60/100\n",
            "\u001b[1m150/150\u001b[0m \u001b[32m━━━━━━━━━━━━━━━━━━━━\u001b[0m\u001b[37m\u001b[0m \u001b[1m1s\u001b[0m 3ms/step - accuracy: 1.0000 - loss: 1.9997e-06 - val_accuracy: 0.9617 - val_loss: 0.2262\n",
            "Epoch 61/100\n",
            "\u001b[1m150/150\u001b[0m \u001b[32m━━━━━━━━━━━━━━━━━━━━\u001b[0m\u001b[37m\u001b[0m \u001b[1m1s\u001b[0m 4ms/step - accuracy: 1.0000 - loss: 1.8346e-06 - val_accuracy: 0.9617 - val_loss: 0.2274\n",
            "Epoch 62/100\n",
            "\u001b[1m150/150\u001b[0m \u001b[32m━━━━━━━━━━━━━━━━━━━━\u001b[0m\u001b[37m\u001b[0m \u001b[1m1s\u001b[0m 4ms/step - accuracy: 1.0000 - loss: 1.6832e-06 - val_accuracy: 0.9621 - val_loss: 0.2284\n",
            "Epoch 63/100\n",
            "\u001b[1m150/150\u001b[0m \u001b[32m━━━━━━━━━━━━━━━━━━━━\u001b[0m\u001b[37m\u001b[0m \u001b[1m1s\u001b[0m 3ms/step - accuracy: 1.0000 - loss: 1.5450e-06 - val_accuracy: 0.9621 - val_loss: 0.2295\n",
            "Epoch 64/100\n",
            "\u001b[1m150/150\u001b[0m \u001b[32m━━━━━━━━━━━━━━━━━━━━\u001b[0m\u001b[37m\u001b[0m \u001b[1m0s\u001b[0m 3ms/step - accuracy: 1.0000 - loss: 1.4182e-06 - val_accuracy: 0.9621 - val_loss: 0.2306\n",
            "Epoch 65/100\n",
            "\u001b[1m150/150\u001b[0m \u001b[32m━━━━━━━━━━━━━━━━━━━━\u001b[0m\u001b[37m\u001b[0m \u001b[1m1s\u001b[0m 3ms/step - accuracy: 1.0000 - loss: 1.3015e-06 - val_accuracy: 0.9621 - val_loss: 0.2317\n",
            "Epoch 66/100\n",
            "\u001b[1m150/150\u001b[0m \u001b[32m━━━━━━━━━━━━━━━━━━━━\u001b[0m\u001b[37m\u001b[0m \u001b[1m1s\u001b[0m 3ms/step - accuracy: 1.0000 - loss: 1.1943e-06 - val_accuracy: 0.9621 - val_loss: 0.2328\n",
            "Epoch 67/100\n",
            "\u001b[1m150/150\u001b[0m \u001b[32m━━━━━━━━━━━━━━━━━━━━\u001b[0m\u001b[37m\u001b[0m \u001b[1m1s\u001b[0m 3ms/step - accuracy: 1.0000 - loss: 1.0965e-06 - val_accuracy: 0.9621 - val_loss: 0.2339\n",
            "Epoch 68/100\n",
            "\u001b[1m150/150\u001b[0m \u001b[32m━━━━━━━━━━━━━━━━━━━━\u001b[0m\u001b[37m\u001b[0m \u001b[1m1s\u001b[0m 5ms/step - accuracy: 1.0000 - loss: 1.0068e-06 - val_accuracy: 0.9617 - val_loss: 0.2350\n",
            "Epoch 69/100\n",
            "\u001b[1m150/150\u001b[0m \u001b[32m━━━━━━━━━━━━━━━━━━━━\u001b[0m\u001b[37m\u001b[0m \u001b[1m1s\u001b[0m 5ms/step - accuracy: 1.0000 - loss: 9.2439e-07 - val_accuracy: 0.9617 - val_loss: 0.2360\n",
            "Epoch 70/100\n",
            "\u001b[1m150/150\u001b[0m \u001b[32m━━━━━━━━━━━━━━━━━━━━\u001b[0m\u001b[37m\u001b[0m \u001b[1m1s\u001b[0m 3ms/step - accuracy: 1.0000 - loss: 8.4975e-07 - val_accuracy: 0.9617 - val_loss: 0.2372\n",
            "Epoch 71/100\n",
            "\u001b[1m150/150\u001b[0m \u001b[32m━━━━━━━━━━━━━━━━━━━━\u001b[0m\u001b[37m\u001b[0m \u001b[1m1s\u001b[0m 3ms/step - accuracy: 1.0000 - loss: 7.8115e-07 - val_accuracy: 0.9617 - val_loss: 0.2383\n",
            "Epoch 72/100\n",
            "\u001b[1m150/150\u001b[0m \u001b[32m━━━━━━━━━━━━━━━━━━━━\u001b[0m\u001b[37m\u001b[0m \u001b[1m1s\u001b[0m 3ms/step - accuracy: 1.0000 - loss: 7.1734e-07 - val_accuracy: 0.9621 - val_loss: 0.2394\n",
            "Epoch 73/100\n",
            "\u001b[1m150/150\u001b[0m \u001b[32m━━━━━━━━━━━━━━━━━━━━\u001b[0m\u001b[37m\u001b[0m \u001b[1m0s\u001b[0m 3ms/step - accuracy: 1.0000 - loss: 6.5870e-07 - val_accuracy: 0.9621 - val_loss: 0.2405\n",
            "Epoch 74/100\n",
            "\u001b[1m150/150\u001b[0m \u001b[32m━━━━━━━━━━━━━━━━━━━━\u001b[0m\u001b[37m\u001b[0m \u001b[1m1s\u001b[0m 4ms/step - accuracy: 1.0000 - loss: 6.0515e-07 - val_accuracy: 0.9621 - val_loss: 0.2416\n",
            "Epoch 75/100\n",
            "\u001b[1m150/150\u001b[0m \u001b[32m━━━━━━━━━━━━━━━━━━━━\u001b[0m\u001b[37m\u001b[0m \u001b[1m1s\u001b[0m 3ms/step - accuracy: 1.0000 - loss: 5.5570e-07 - val_accuracy: 0.9621 - val_loss: 0.2427\n",
            "Epoch 76/100\n",
            "\u001b[1m150/150\u001b[0m \u001b[32m━━━━━━━━━━━━━━━━━━━━\u001b[0m\u001b[37m\u001b[0m \u001b[1m1s\u001b[0m 4ms/step - accuracy: 1.0000 - loss: 5.0991e-07 - val_accuracy: 0.9621 - val_loss: 0.2438\n",
            "Epoch 77/100\n",
            "\u001b[1m150/150\u001b[0m \u001b[32m━━━━━━━━━━━━━━━━━━━━\u001b[0m\u001b[37m\u001b[0m \u001b[1m1s\u001b[0m 4ms/step - accuracy: 1.0000 - loss: 4.6844e-07 - val_accuracy: 0.9621 - val_loss: 0.2449\n",
            "Epoch 78/100\n",
            "\u001b[1m150/150\u001b[0m \u001b[32m━━━━━━━━━━━━━━━━━━━━\u001b[0m\u001b[37m\u001b[0m \u001b[1m1s\u001b[0m 4ms/step - accuracy: 1.0000 - loss: 4.3031e-07 - val_accuracy: 0.9621 - val_loss: 0.2460\n",
            "Epoch 79/100\n",
            "\u001b[1m150/150\u001b[0m \u001b[32m━━━━━━━━━━━━━━━━━━━━\u001b[0m\u001b[37m\u001b[0m \u001b[1m1s\u001b[0m 3ms/step - accuracy: 1.0000 - loss: 3.9621e-07 - val_accuracy: 0.9617 - val_loss: 0.2470\n",
            "Epoch 80/100\n",
            "\u001b[1m150/150\u001b[0m \u001b[32m━━━━━━━━━━━━━━━━━━━━\u001b[0m\u001b[37m\u001b[0m \u001b[1m1s\u001b[0m 4ms/step - accuracy: 1.0000 - loss: 3.6333e-07 - val_accuracy: 0.9617 - val_loss: 0.2481\n",
            "Epoch 81/100\n",
            "\u001b[1m150/150\u001b[0m \u001b[32m━━━━━━━━━━━━━━━━━━━━\u001b[0m\u001b[37m\u001b[0m \u001b[1m1s\u001b[0m 4ms/step - accuracy: 1.0000 - loss: 3.3398e-07 - val_accuracy: 0.9617 - val_loss: 0.2492\n",
            "Epoch 82/100\n",
            "\u001b[1m150/150\u001b[0m \u001b[32m━━━━━━━━━━━━━━━━━━━━\u001b[0m\u001b[37m\u001b[0m \u001b[1m1s\u001b[0m 3ms/step - accuracy: 1.0000 - loss: 3.0657e-07 - val_accuracy: 0.9617 - val_loss: 0.2503\n",
            "Epoch 83/100\n",
            "\u001b[1m150/150\u001b[0m \u001b[32m━━━━━━━━━━━━━━━━━━━━\u001b[0m\u001b[37m\u001b[0m \u001b[1m1s\u001b[0m 3ms/step - accuracy: 1.0000 - loss: 2.8191e-07 - val_accuracy: 0.9617 - val_loss: 0.2513\n",
            "Epoch 84/100\n",
            "\u001b[1m150/150\u001b[0m \u001b[32m━━━━━━━━━━━━━━━━━━━━\u001b[0m\u001b[37m\u001b[0m \u001b[1m1s\u001b[0m 4ms/step - accuracy: 1.0000 - loss: 2.5847e-07 - val_accuracy: 0.9621 - val_loss: 0.2523\n",
            "Epoch 85/100\n",
            "\u001b[1m150/150\u001b[0m \u001b[32m━━━━━━━━━━━━━━━━━━━━\u001b[0m\u001b[37m\u001b[0m \u001b[1m1s\u001b[0m 4ms/step - accuracy: 1.0000 - loss: 2.3798e-07 - val_accuracy: 0.9621 - val_loss: 0.2534\n",
            "Epoch 86/100\n",
            "\u001b[1m150/150\u001b[0m \u001b[32m━━━━━━━━━━━━━━━━━━━━\u001b[0m\u001b[37m\u001b[0m \u001b[1m1s\u001b[0m 4ms/step - accuracy: 1.0000 - loss: 2.1916e-07 - val_accuracy: 0.9621 - val_loss: 0.2544\n",
            "Epoch 87/100\n",
            "\u001b[1m150/150\u001b[0m \u001b[32m━━━━━━━━━━━━━━━━━━━━\u001b[0m\u001b[37m\u001b[0m \u001b[1m1s\u001b[0m 4ms/step - accuracy: 1.0000 - loss: 2.0173e-07 - val_accuracy: 0.9621 - val_loss: 0.2554\n",
            "Epoch 88/100\n",
            "\u001b[1m150/150\u001b[0m \u001b[32m━━━━━━━━━━━━━━━━━━━━\u001b[0m\u001b[37m\u001b[0m \u001b[1m1s\u001b[0m 5ms/step - accuracy: 1.0000 - loss: 1.8521e-07 - val_accuracy: 0.9621 - val_loss: 0.2564\n",
            "Epoch 89/100\n",
            "\u001b[1m150/150\u001b[0m \u001b[32m━━━━━━━━━━━━━━━━━━━━\u001b[0m\u001b[37m\u001b[0m \u001b[1m1s\u001b[0m 5ms/step - accuracy: 1.0000 - loss: 1.6988e-07 - val_accuracy: 0.9621 - val_loss: 0.2575\n",
            "Epoch 90/100\n",
            "\u001b[1m150/150\u001b[0m \u001b[32m━━━━━━━━━━━━━━━━━━━━\u001b[0m\u001b[37m\u001b[0m \u001b[1m1s\u001b[0m 4ms/step - accuracy: 1.0000 - loss: 1.5591e-07 - val_accuracy: 0.9621 - val_loss: 0.2585\n",
            "Epoch 91/100\n",
            "\u001b[1m150/150\u001b[0m \u001b[32m━━━━━━━━━━━━━━━━━━━━\u001b[0m\u001b[37m\u001b[0m \u001b[1m1s\u001b[0m 3ms/step - accuracy: 1.0000 - loss: 1.4368e-07 - val_accuracy: 0.9621 - val_loss: 0.2596\n",
            "Epoch 92/100\n",
            "\u001b[1m150/150\u001b[0m \u001b[32m━━━━━━━━━━━━━━━━━━━━\u001b[0m\u001b[37m\u001b[0m \u001b[1m1s\u001b[0m 3ms/step - accuracy: 1.0000 - loss: 1.3194e-07 - val_accuracy: 0.9621 - val_loss: 0.2606\n",
            "Epoch 93/100\n",
            "\u001b[1m150/150\u001b[0m \u001b[32m━━━━━━━━━━━━━━━━━━━━\u001b[0m\u001b[37m\u001b[0m \u001b[1m1s\u001b[0m 3ms/step - accuracy: 1.0000 - loss: 1.2185e-07 - val_accuracy: 0.9621 - val_loss: 0.2616\n",
            "Epoch 94/100\n",
            "\u001b[1m150/150\u001b[0m \u001b[32m━━━━━━━━━━━━━━━━━━━━\u001b[0m\u001b[37m\u001b[0m \u001b[1m1s\u001b[0m 4ms/step - accuracy: 1.0000 - loss: 1.1113e-07 - val_accuracy: 0.9621 - val_loss: 0.2627\n",
            "Epoch 95/100\n",
            "\u001b[1m150/150\u001b[0m \u001b[32m━━━━━━━━━━━━━━━━━━━━\u001b[0m\u001b[37m\u001b[0m \u001b[1m1s\u001b[0m 4ms/step - accuracy: 1.0000 - loss: 1.0250e-07 - val_accuracy: 0.9621 - val_loss: 0.2637\n",
            "Epoch 96/100\n",
            "\u001b[1m150/150\u001b[0m \u001b[32m━━━━━━━━━━━━━━━━━━━━\u001b[0m\u001b[37m\u001b[0m \u001b[1m1s\u001b[0m 3ms/step - accuracy: 1.0000 - loss: 9.4440e-08 - val_accuracy: 0.9621 - val_loss: 0.2648\n",
            "Epoch 97/100\n",
            "\u001b[1m150/150\u001b[0m \u001b[32m━━━━━━━━━━━━━━━━━━━━\u001b[0m\u001b[37m\u001b[0m \u001b[1m1s\u001b[0m 4ms/step - accuracy: 1.0000 - loss: 8.6361e-08 - val_accuracy: 0.9621 - val_loss: 0.2658\n",
            "Epoch 98/100\n",
            "\u001b[1m150/150\u001b[0m \u001b[32m━━━━━━━━━━━━━━━━━━━━\u001b[0m\u001b[37m\u001b[0m \u001b[1m1s\u001b[0m 4ms/step - accuracy: 1.0000 - loss: 7.9989e-08 - val_accuracy: 0.9621 - val_loss: 0.2667\n",
            "Epoch 99/100\n",
            "\u001b[1m150/150\u001b[0m \u001b[32m━━━━━━━━━━━━━━━━━━━━\u001b[0m\u001b[37m\u001b[0m \u001b[1m1s\u001b[0m 4ms/step - accuracy: 1.0000 - loss: 7.3152e-08 - val_accuracy: 0.9621 - val_loss: 0.2677\n",
            "Epoch 100/100\n",
            "\u001b[1m150/150\u001b[0m \u001b[32m━━━━━━━━━━━━━━━━━━━━\u001b[0m\u001b[37m\u001b[0m \u001b[1m1s\u001b[0m 4ms/step - accuracy: 1.0000 - loss: 6.6552e-08 - val_accuracy: 0.9621 - val_loss: 0.2686\n"
          ]
        },
        {
          "data": {
            "image/png": "[encoded data removed]",
            "text/plain": [
              "<Figure size 1600x600 with 2 Axes>"
            ]
          },
          "metadata": {},
          "output_type": "display_data"
        }
      ],
      "source": [
        "inputs = tf.keras.Input(shape=(28, 28), name='input_layer')\n",
        "\n",
        "flat = layers.Flatten()(inputs)\n",
        "\n",
        "\n",
        "l_1 = layers.Dense(256, activation='relu', name='layer_1')(flat)\n",
        "l_1 = layers.BatchNormalization()(l_1)\n",
        "\n",
        "l_2 = layers.Dense(128, activation='relu', name='layer_2')(l_1)\n",
        "l_2 = layers.BatchNormalization()(l_2)\n",
        "\n",
        "l_3 = layers.Dense(128, activation='relu', name='layer_3')(l_2)\n",
        "\n",
        "\n",
        "outputs = layers.Dense(10, activation='softmax',\n",
        "                       name='output_layer')(l_3)\n",
        "\n",
        "\n",
        "model_batch_norm = keras.Model(inputs=inputs, outputs=outputs, name='dont_overfit_model_batch_norm')\n",
        "model_batch_norm.summary()\n",
        "model_batch_norm.compile(optimizer='adam',\n",
        "                      loss='sparse_categorical_crossentropy',\n",
        "                      metrics=['accuracy'])\n",
        "\n",
        "history_batch_norm = model_batch_norm.fit(\n",
        "    X,\n",
        "    y,\n",
        "    batch_size=64,\n",
        "    epochs=100,\n",
        "    validation_split=0.2,\n",
        "    shuffle=True)\n",
        "\n",
        "show_loss_accuracy_evolution(history_batch_norm)"
      ]
    },
    {
      "cell_type": "markdown",
      "id": "d8a153eb",
      "metadata": {
        "id": "d8a153eb"
      },
      "source": [
        "## Layer Normalization\n",
        "`LayerNormalization` es otro tipo de normalización. A diferencia de `BatchNormalization`, esto normaliza los datos a traves de todas las *features* y no depende del tamaño del *batch*, siendo así efectivo para *training* e *inferencia*.\n",
        "Calcula la media y la varianza"
      ]
    },
    {
      "cell_type": "code",
      "execution_count": 18,
      "id": "6ce3f3d7",
      "metadata": {
        "colab": {
          "base_uri": "https://localhost:8080/",
          "height": 1000
        },
        "id": "6ce3f3d7",
        "outputId": "730648de-80ca-4444-ccb7-fd19cfaf37bd"
      },
      "outputs": [
        {
          "data": {
            "text/html": [
              "<pre style=\"white-space:pre;overflow-x:auto;line-height:normal;font-family:Menlo,'DejaVu Sans Mono',consolas,'Courier New',monospace\"><span style=\"font-weight: bold\">Model: \"dont_overfit_model_layer_norm\"</span>\n",
              "</pre>\n"
            ],
            "text/plain": [
              "\u001b[1mModel: \"dont_overfit_model_layer_norm\"\u001b[0m\n"
            ]
          },
          "metadata": {},
          "output_type": "display_data"
        },
        {
          "data": {
            "text/html": [
              "<pre style=\"white-space:pre;overflow-x:auto;line-height:normal;font-family:Menlo,'DejaVu Sans Mono',consolas,'Courier New',monospace\">┏━━━━━━━━━━━━━━━━━━━━━━━━━━━━━━━━━┳━━━━━━━━━━━━━━━━━━━━━━━━┳━━━━━━━━━━━━━━━┓\n",
              "┃<span style=\"font-weight: bold\"> Layer (type)                    </span>┃<span style=\"font-weight: bold\"> Output Shape           </span>┃<span style=\"font-weight: bold\">       Param # </span>┃\n",
              "┡━━━━━━━━━━━━━━━━━━━━━━━━━━━━━━━━━╇━━━━━━━━━━━━━━━━━━━━━━━━╇━━━━━━━━━━━━━━━┩\n",
              "│ input_layer (<span style=\"color: #0087ff; text-decoration-color: #0087ff\">InputLayer</span>)        │ (<span style=\"color: #00d7ff; text-decoration-color: #00d7ff\">None</span>, <span style=\"color: #00af00; text-decoration-color: #00af00\">28</span>, <span style=\"color: #00af00; text-decoration-color: #00af00\">28</span>)         │             <span style=\"color: #00af00; text-decoration-color: #00af00\">0</span> │\n",
              "├─────────────────────────────────┼────────────────────────┼───────────────┤\n",
              "│ flatten_5 (<span style=\"color: #0087ff; text-decoration-color: #0087ff\">Flatten</span>)             │ (<span style=\"color: #00d7ff; text-decoration-color: #00d7ff\">None</span>, <span style=\"color: #00af00; text-decoration-color: #00af00\">784</span>)            │             <span style=\"color: #00af00; text-decoration-color: #00af00\">0</span> │\n",
              "├─────────────────────────────────┼────────────────────────┼───────────────┤\n",
              "│ layer_1 (<span style=\"color: #0087ff; text-decoration-color: #0087ff\">Dense</span>)                 │ (<span style=\"color: #00d7ff; text-decoration-color: #00d7ff\">None</span>, <span style=\"color: #00af00; text-decoration-color: #00af00\">256</span>)            │       <span style=\"color: #00af00; text-decoration-color: #00af00\">200,960</span> │\n",
              "├─────────────────────────────────┼────────────────────────┼───────────────┤\n",
              "│ layer_normalization             │ (<span style=\"color: #00d7ff; text-decoration-color: #00d7ff\">None</span>, <span style=\"color: #00af00; text-decoration-color: #00af00\">256</span>)            │           <span style=\"color: #00af00; text-decoration-color: #00af00\">512</span> │\n",
              "│ (<span style=\"color: #0087ff; text-decoration-color: #0087ff\">LayerNormalization</span>)            │                        │               │\n",
              "├─────────────────────────────────┼────────────────────────┼───────────────┤\n",
              "│ layer_2 (<span style=\"color: #0087ff; text-decoration-color: #0087ff\">Dense</span>)                 │ (<span style=\"color: #00d7ff; text-decoration-color: #00d7ff\">None</span>, <span style=\"color: #00af00; text-decoration-color: #00af00\">128</span>)            │        <span style=\"color: #00af00; text-decoration-color: #00af00\">32,896</span> │\n",
              "├─────────────────────────────────┼────────────────────────┼───────────────┤\n",
              "│ layer_normalization_1           │ (<span style=\"color: #00d7ff; text-decoration-color: #00d7ff\">None</span>, <span style=\"color: #00af00; text-decoration-color: #00af00\">128</span>)            │           <span style=\"color: #00af00; text-decoration-color: #00af00\">256</span> │\n",
              "│ (<span style=\"color: #0087ff; text-decoration-color: #0087ff\">LayerNormalization</span>)            │                        │               │\n",
              "├─────────────────────────────────┼────────────────────────┼───────────────┤\n",
              "│ layer_3 (<span style=\"color: #0087ff; text-decoration-color: #0087ff\">Dense</span>)                 │ (<span style=\"color: #00d7ff; text-decoration-color: #00d7ff\">None</span>, <span style=\"color: #00af00; text-decoration-color: #00af00\">128</span>)            │        <span style=\"color: #00af00; text-decoration-color: #00af00\">16,512</span> │\n",
              "├─────────────────────────────────┼────────────────────────┼───────────────┤\n",
              "│ output_layer (<span style=\"color: #0087ff; text-decoration-color: #0087ff\">Dense</span>)            │ (<span style=\"color: #00d7ff; text-decoration-color: #00d7ff\">None</span>, <span style=\"color: #00af00; text-decoration-color: #00af00\">10</span>)             │         <span style=\"color: #00af00; text-decoration-color: #00af00\">1,290</span> │\n",
              "└─────────────────────────────────┴────────────────────────┴───────────────┘\n",
              "</pre>\n"
            ],
            "text/plain": [
              "┏━━━━━━━━━━━━━━━━━━━━━━━━━━━━━━━━━┳━━━━━━━━━━━━━━━━━━━━━━━━┳━━━━━━━━━━━━━━━┓\n",
              "┃\u001b[1m \u001b[0m\u001b[1mLayer (type)                   \u001b[0m\u001b[1m \u001b[0m┃\u001b[1m \u001b[0m\u001b[1mOutput Shape          \u001b[0m\u001b[1m \u001b[0m┃\u001b[1m \u001b[0m\u001b[1m      Param #\u001b[0m\u001b[1m \u001b[0m┃\n",
              "┡━━━━━━━━━━━━━━━━━━━━━━━━━━━━━━━━━╇━━━━━━━━━━━━━━━━━━━━━━━━╇━━━━━━━━━━━━━━━┩\n",
              "│ input_layer (\u001b[38;5;33mInputLayer\u001b[0m)        │ (\u001b[38;5;45mNone\u001b[0m, \u001b[38;5;34m28\u001b[0m, \u001b[38;5;34m28\u001b[0m)         │             \u001b[38;5;34m0\u001b[0m │\n",
              "├─────────────────────────────────┼────────────────────────┼───────────────┤\n",
              "│ flatten_5 (\u001b[38;5;33mFlatten\u001b[0m)             │ (\u001b[38;5;45mNone\u001b[0m, \u001b[38;5;34m784\u001b[0m)            │             \u001b[38;5;34m0\u001b[0m │\n",
              "├─────────────────────────────────┼────────────────────────┼───────────────┤\n",
              "│ layer_1 (\u001b[38;5;33mDense\u001b[0m)                 │ (\u001b[38;5;45mNone\u001b[0m, \u001b[38;5;34m256\u001b[0m)            │       \u001b[38;5;34m200,960\u001b[0m │\n",
              "├─────────────────────────────────┼────────────────────────┼───────────────┤\n",
              "│ layer_normalization             │ (\u001b[38;5;45mNone\u001b[0m, \u001b[38;5;34m256\u001b[0m)            │           \u001b[38;5;34m512\u001b[0m │\n",
              "│ (\u001b[38;5;33mLayerNormalization\u001b[0m)            │                        │               │\n",
              "├─────────────────────────────────┼────────────────────────┼───────────────┤\n",
              "│ layer_2 (\u001b[38;5;33mDense\u001b[0m)                 │ (\u001b[38;5;45mNone\u001b[0m, \u001b[38;5;34m128\u001b[0m)            │        \u001b[38;5;34m32,896\u001b[0m │\n",
              "├─────────────────────────────────┼────────────────────────┼───────────────┤\n",
              "│ layer_normalization_1           │ (\u001b[38;5;45mNone\u001b[0m, \u001b[38;5;34m128\u001b[0m)            │           \u001b[38;5;34m256\u001b[0m │\n",
              "│ (\u001b[38;5;33mLayerNormalization\u001b[0m)            │                        │               │\n",
              "├─────────────────────────────────┼────────────────────────┼───────────────┤\n",
              "│ layer_3 (\u001b[38;5;33mDense\u001b[0m)                 │ (\u001b[38;5;45mNone\u001b[0m, \u001b[38;5;34m128\u001b[0m)            │        \u001b[38;5;34m16,512\u001b[0m │\n",
              "├─────────────────────────────────┼────────────────────────┼───────────────┤\n",
              "│ output_layer (\u001b[38;5;33mDense\u001b[0m)            │ (\u001b[38;5;45mNone\u001b[0m, \u001b[38;5;34m10\u001b[0m)             │         \u001b[38;5;34m1,290\u001b[0m │\n",
              "└─────────────────────────────────┴────────────────────────┴───────────────┘\n"
            ]
          },
          "metadata": {},
          "output_type": "display_data"
        },
        {
          "data": {
            "text/html": [
              "<pre style=\"white-space:pre;overflow-x:auto;line-height:normal;font-family:Menlo,'DejaVu Sans Mono',consolas,'Courier New',monospace\"><span style=\"font-weight: bold\"> Total params: </span><span style=\"color: #00af00; text-decoration-color: #00af00\">252,426</span> (986.04 KB)\n",
              "</pre>\n"
            ],
            "text/plain": [
              "\u001b[1m Total params: \u001b[0m\u001b[38;5;34m252,426\u001b[0m (986.04 KB)\n"
            ]
          },
          "metadata": {},
          "output_type": "display_data"
        },
        {
          "data": {
            "text/html": [
              "<pre style=\"white-space:pre;overflow-x:auto;line-height:normal;font-family:Menlo,'DejaVu Sans Mono',consolas,'Courier New',monospace\"><span style=\"font-weight: bold\"> Trainable params: </span><span style=\"color: #00af00; text-decoration-color: #00af00\">252,426</span> (986.04 KB)\n",
              "</pre>\n"
            ],
            "text/plain": [
              "\u001b[1m Trainable params: \u001b[0m\u001b[38;5;34m252,426\u001b[0m (986.04 KB)\n"
            ]
          },
          "metadata": {},
          "output_type": "display_data"
        },
        {
          "data": {
            "text/html": [
              "<pre style=\"white-space:pre;overflow-x:auto;line-height:normal;font-family:Menlo,'DejaVu Sans Mono',consolas,'Courier New',monospace\"><span style=\"font-weight: bold\"> Non-trainable params: </span><span style=\"color: #00af00; text-decoration-color: #00af00\">0</span> (0.00 B)\n",
              "</pre>\n"
            ],
            "text/plain": [
              "\u001b[1m Non-trainable params: \u001b[0m\u001b[38;5;34m0\u001b[0m (0.00 B)\n"
            ]
          },
          "metadata": {},
          "output_type": "display_data"
        },
        {
          "name": "stdout",
          "output_type": "stream",
          "text": [
            "Epoch 1/100\n",
            "\u001b[1m150/150\u001b[0m \u001b[32m━━━━━━━━━━━━━━━━━━━━\u001b[0m\u001b[37m\u001b[0m \u001b[1m4s\u001b[0m 13ms/step - accuracy: 0.7600 - loss: 0.7594 - val_accuracy: 0.9304 - val_loss: 0.2342\n",
            "Epoch 2/100\n",
            "\u001b[1m150/150\u001b[0m \u001b[32m━━━━━━━━━━━━━━━━━━━━\u001b[0m\u001b[37m\u001b[0m \u001b[1m1s\u001b[0m 4ms/step - accuracy: 0.9501 - loss: 0.1721 - val_accuracy: 0.9467 - val_loss: 0.1973\n",
            "Epoch 3/100\n",
            "\u001b[1m150/150\u001b[0m \u001b[32m━━━━━━━━━━━━━━━━━━━━\u001b[0m\u001b[37m\u001b[0m \u001b[1m0s\u001b[0m 3ms/step - accuracy: 0.9712 - loss: 0.0960 - val_accuracy: 0.9454 - val_loss: 0.1863\n",
            "Epoch 4/100\n",
            "\u001b[1m150/150\u001b[0m \u001b[32m━━━━━━━━━━━━━━━━━━━━\u001b[0m\u001b[37m\u001b[0m \u001b[1m1s\u001b[0m 4ms/step - accuracy: 0.9854 - loss: 0.0538 - val_accuracy: 0.9450 - val_loss: 0.1911\n",
            "Epoch 5/100\n",
            "\u001b[1m150/150\u001b[0m \u001b[32m━━━━━━━━━━━━━━━━━━━━\u001b[0m\u001b[37m\u001b[0m \u001b[1m1s\u001b[0m 5ms/step - accuracy: 0.9879 - loss: 0.0440 - val_accuracy: 0.9417 - val_loss: 0.2253\n",
            "Epoch 6/100\n",
            "\u001b[1m150/150\u001b[0m \u001b[32m━━━━━━━━━━━━━━━━━━━━\u001b[0m\u001b[37m\u001b[0m \u001b[1m1s\u001b[0m 3ms/step - accuracy: 0.9871 - loss: 0.0371 - val_accuracy: 0.9467 - val_loss: 0.2064\n",
            "Epoch 7/100\n",
            "\u001b[1m150/150\u001b[0m \u001b[32m━━━━━━━━━━━━━━━━━━━━\u001b[0m\u001b[37m\u001b[0m \u001b[1m1s\u001b[0m 3ms/step - accuracy: 0.9929 - loss: 0.0277 - val_accuracy: 0.9454 - val_loss: 0.2145\n",
            "Epoch 8/100\n",
            "\u001b[1m150/150\u001b[0m \u001b[32m━━━━━━━━━━━━━━━━━━━━\u001b[0m\u001b[37m\u001b[0m \u001b[1m0s\u001b[0m 3ms/step - accuracy: 0.9898 - loss: 0.0326 - val_accuracy: 0.9542 - val_loss: 0.2003\n",
            "Epoch 9/100\n",
            "\u001b[1m150/150\u001b[0m \u001b[32m━━━━━━━━━━━━━━━━━━━━\u001b[0m\u001b[37m\u001b[0m \u001b[1m1s\u001b[0m 4ms/step - accuracy: 0.9942 - loss: 0.0199 - val_accuracy: 0.9500 - val_loss: 0.2192\n",
            "Epoch 10/100\n",
            "\u001b[1m150/150\u001b[0m \u001b[32m━━━━━━━━━━━━━━━━━━━━\u001b[0m\u001b[37m\u001b[0m \u001b[1m0s\u001b[0m 3ms/step - accuracy: 0.9951 - loss: 0.0159 - val_accuracy: 0.9563 - val_loss: 0.1850\n",
            "Epoch 11/100\n",
            "\u001b[1m150/150\u001b[0m \u001b[32m━━━━━━━━━━━━━━━━━━━━\u001b[0m\u001b[37m\u001b[0m \u001b[1m1s\u001b[0m 3ms/step - accuracy: 0.9955 - loss: 0.0150 - val_accuracy: 0.9600 - val_loss: 0.1848\n",
            "Epoch 12/100\n",
            "\u001b[1m150/150\u001b[0m \u001b[32m━━━━━━━━━━━━━━━━━━━━\u001b[0m\u001b[37m\u001b[0m \u001b[1m1s\u001b[0m 4ms/step - accuracy: 0.9983 - loss: 0.0064 - val_accuracy: 0.9521 - val_loss: 0.2339\n",
            "Epoch 13/100\n",
            "\u001b[1m150/150\u001b[0m \u001b[32m━━━━━━━━━━━━━━━━━━━━\u001b[0m\u001b[37m\u001b[0m \u001b[1m1s\u001b[0m 3ms/step - accuracy: 0.9921 - loss: 0.0282 - val_accuracy: 0.9592 - val_loss: 0.2079\n",
            "Epoch 14/100\n",
            "\u001b[1m150/150\u001b[0m \u001b[32m━━━━━━━━━━━━━━━━━━━━\u001b[0m\u001b[37m\u001b[0m \u001b[1m1s\u001b[0m 4ms/step - accuracy: 0.9955 - loss: 0.0128 - val_accuracy: 0.9638 - val_loss: 0.1813\n",
            "Epoch 15/100\n",
            "\u001b[1m150/150\u001b[0m \u001b[32m━━━━━━━━━━━━━━━━━━━━\u001b[0m\u001b[37m\u001b[0m \u001b[1m0s\u001b[0m 3ms/step - accuracy: 0.9988 - loss: 0.0050 - val_accuracy: 0.9654 - val_loss: 0.1634\n",
            "Epoch 16/100\n",
            "\u001b[1m150/150\u001b[0m \u001b[32m━━━━━━━━━━━━━━━━━━━━\u001b[0m\u001b[37m\u001b[0m \u001b[1m1s\u001b[0m 3ms/step - accuracy: 0.9999 - loss: 9.3290e-04 - val_accuracy: 0.9663 - val_loss: 0.1655\n",
            "Epoch 17/100\n",
            "\u001b[1m150/150\u001b[0m \u001b[32m━━━━━━━━━━━━━━━━━━━━\u001b[0m\u001b[37m\u001b[0m \u001b[1m1s\u001b[0m 3ms/step - accuracy: 0.9989 - loss: 0.0041 - val_accuracy: 0.9508 - val_loss: 0.2310\n",
            "Epoch 18/100\n",
            "\u001b[1m150/150\u001b[0m \u001b[32m━━━━━━━━━━━━━━━━━━━━\u001b[0m\u001b[37m\u001b[0m \u001b[1m1s\u001b[0m 3ms/step - accuracy: 0.9926 - loss: 0.0260 - val_accuracy: 0.9525 - val_loss: 0.2385\n",
            "Epoch 19/100\n",
            "\u001b[1m150/150\u001b[0m \u001b[32m━━━━━━━━━━━━━━━━━━━━\u001b[0m\u001b[37m\u001b[0m \u001b[1m0s\u001b[0m 3ms/step - accuracy: 0.9916 - loss: 0.0222 - val_accuracy: 0.9538 - val_loss: 0.2202\n",
            "Epoch 20/100\n",
            "\u001b[1m150/150\u001b[0m \u001b[32m━━━━━━━━━━━━━━━━━━━━\u001b[0m\u001b[37m\u001b[0m \u001b[1m1s\u001b[0m 3ms/step - accuracy: 0.9884 - loss: 0.0347 - val_accuracy: 0.9550 - val_loss: 0.2194\n",
            "Epoch 21/100\n",
            "\u001b[1m150/150\u001b[0m \u001b[32m━━━━━━━━━━━━━━━━━━━━\u001b[0m\u001b[37m\u001b[0m \u001b[1m0s\u001b[0m 3ms/step - accuracy: 0.9950 - loss: 0.0148 - val_accuracy: 0.9508 - val_loss: 0.2514\n",
            "Epoch 22/100\n",
            "\u001b[1m150/150\u001b[0m \u001b[32m━━━━━━━━━━━━━━━━━━━━\u001b[0m\u001b[37m\u001b[0m \u001b[1m1s\u001b[0m 3ms/step - accuracy: 0.9964 - loss: 0.0127 - val_accuracy: 0.9638 - val_loss: 0.1976\n",
            "Epoch 23/100\n",
            "\u001b[1m150/150\u001b[0m \u001b[32m━━━━━━━━━━━━━━━━━━━━\u001b[0m\u001b[37m\u001b[0m \u001b[1m1s\u001b[0m 5ms/step - accuracy: 0.9989 - loss: 0.0032 - val_accuracy: 0.9625 - val_loss: 0.1945\n",
            "Epoch 24/100\n",
            "\u001b[1m150/150\u001b[0m \u001b[32m━━━━━━━━━━━━━━━━━━━━\u001b[0m\u001b[37m\u001b[0m \u001b[1m1s\u001b[0m 4ms/step - accuracy: 1.0000 - loss: 2.7035e-04 - val_accuracy: 0.9629 - val_loss: 0.1926\n",
            "Epoch 25/100\n",
            "\u001b[1m150/150\u001b[0m \u001b[32m━━━━━━━━━━━━━━━━━━━━\u001b[0m\u001b[37m\u001b[0m \u001b[1m1s\u001b[0m 3ms/step - accuracy: 1.0000 - loss: 1.5494e-04 - val_accuracy: 0.9633 - val_loss: 0.1905\n",
            "Epoch 26/100\n",
            "\u001b[1m150/150\u001b[0m \u001b[32m━━━━━━━━━━━━━━━━━━━━\u001b[0m\u001b[37m\u001b[0m \u001b[1m1s\u001b[0m 3ms/step - accuracy: 1.0000 - loss: 1.1595e-04 - val_accuracy: 0.9633 - val_loss: 0.1912\n",
            "Epoch 27/100\n",
            "\u001b[1m150/150\u001b[0m \u001b[32m━━━━━━━━━━━━━━━━━━━━\u001b[0m\u001b[37m\u001b[0m \u001b[1m1s\u001b[0m 4ms/step - accuracy: 1.0000 - loss: 9.9297e-05 - val_accuracy: 0.9633 - val_loss: 0.1919\n",
            "Epoch 28/100\n",
            "\u001b[1m150/150\u001b[0m \u001b[32m━━━━━━━━━━━━━━━━━━━━\u001b[0m\u001b[37m\u001b[0m \u001b[1m1s\u001b[0m 4ms/step - accuracy: 1.0000 - loss: 8.7188e-05 - val_accuracy: 0.9633 - val_loss: 0.1926\n",
            "Epoch 29/100\n",
            "\u001b[1m150/150\u001b[0m \u001b[32m━━━━━━━━━━━━━━━━━━━━\u001b[0m\u001b[37m\u001b[0m \u001b[1m1s\u001b[0m 3ms/step - accuracy: 1.0000 - loss: 7.7525e-05 - val_accuracy: 0.9633 - val_loss: 0.1933\n",
            "Epoch 30/100\n",
            "\u001b[1m150/150\u001b[0m \u001b[32m━━━━━━━━━━━━━━━━━━━━\u001b[0m\u001b[37m\u001b[0m \u001b[1m1s\u001b[0m 3ms/step - accuracy: 1.0000 - loss: 6.9656e-05 - val_accuracy: 0.9638 - val_loss: 0.1940\n",
            "Epoch 31/100\n",
            "\u001b[1m150/150\u001b[0m \u001b[32m━━━━━━━━━━━━━━━━━━━━\u001b[0m\u001b[37m\u001b[0m \u001b[1m1s\u001b[0m 4ms/step - accuracy: 1.0000 - loss: 6.2982e-05 - val_accuracy: 0.9638 - val_loss: 0.1947\n",
            "Epoch 32/100\n",
            "\u001b[1m150/150\u001b[0m \u001b[32m━━━━━━━━━━━━━━━━━━━━\u001b[0m\u001b[37m\u001b[0m \u001b[1m0s\u001b[0m 3ms/step - accuracy: 1.0000 - loss: 5.7291e-05 - val_accuracy: 0.9638 - val_loss: 0.1954\n",
            "Epoch 33/100\n",
            "\u001b[1m150/150\u001b[0m \u001b[32m━━━━━━━━━━━━━━━━━━━━\u001b[0m\u001b[37m\u001b[0m \u001b[1m1s\u001b[0m 3ms/step - accuracy: 1.0000 - loss: 5.2269e-05 - val_accuracy: 0.9638 - val_loss: 0.1961\n",
            "Epoch 34/100\n",
            "\u001b[1m150/150\u001b[0m \u001b[32m━━━━━━━━━━━━━━━━━━━━\u001b[0m\u001b[37m\u001b[0m \u001b[1m0s\u001b[0m 3ms/step - accuracy: 1.0000 - loss: 4.7817e-05 - val_accuracy: 0.9638 - val_loss: 0.1968\n",
            "Epoch 35/100\n",
            "\u001b[1m150/150\u001b[0m \u001b[32m━━━━━━━━━━━━━━━━━━━━\u001b[0m\u001b[37m\u001b[0m \u001b[1m1s\u001b[0m 4ms/step - accuracy: 1.0000 - loss: 4.3809e-05 - val_accuracy: 0.9638 - val_loss: 0.1976\n",
            "Epoch 36/100\n",
            "\u001b[1m150/150\u001b[0m \u001b[32m━━━━━━━━━━━━━━━━━━━━\u001b[0m\u001b[37m\u001b[0m \u001b[1m1s\u001b[0m 3ms/step - accuracy: 1.0000 - loss: 4.0216e-05 - val_accuracy: 0.9646 - val_loss: 0.1983\n",
            "Epoch 37/100\n",
            "\u001b[1m150/150\u001b[0m \u001b[32m━━━━━━━━━━━━━━━━━━━━\u001b[0m\u001b[37m\u001b[0m \u001b[1m1s\u001b[0m 3ms/step - accuracy: 1.0000 - loss: 3.6982e-05 - val_accuracy: 0.9646 - val_loss: 0.1990\n",
            "Epoch 38/100\n",
            "\u001b[1m150/150\u001b[0m \u001b[32m━━━━━━━━━━━━━━━━━━━━\u001b[0m\u001b[37m\u001b[0m \u001b[1m1s\u001b[0m 4ms/step - accuracy: 1.0000 - loss: 3.4052e-05 - val_accuracy: 0.9654 - val_loss: 0.1998\n",
            "Epoch 39/100\n",
            "\u001b[1m150/150\u001b[0m \u001b[32m━━━━━━━━━━━━━━━━━━━━\u001b[0m\u001b[37m\u001b[0m \u001b[1m0s\u001b[0m 3ms/step - accuracy: 1.0000 - loss: 3.1386e-05 - val_accuracy: 0.9658 - val_loss: 0.2005\n",
            "Epoch 40/100\n",
            "\u001b[1m150/150\u001b[0m \u001b[32m━━━━━━━━━━━━━━━━━━━━\u001b[0m\u001b[37m\u001b[0m \u001b[1m1s\u001b[0m 4ms/step - accuracy: 1.0000 - loss: 2.8956e-05 - val_accuracy: 0.9663 - val_loss: 0.2013\n",
            "Epoch 41/100\n",
            "\u001b[1m150/150\u001b[0m \u001b[32m━━━━━━━━━━━━━━━━━━━━\u001b[0m\u001b[37m\u001b[0m \u001b[1m1s\u001b[0m 8ms/step - accuracy: 1.0000 - loss: 2.6748e-05 - val_accuracy: 0.9667 - val_loss: 0.2020\n",
            "Epoch 42/100\n",
            "\u001b[1m150/150\u001b[0m \u001b[32m━━━━━━━━━━━━━━━━━━━━\u001b[0m\u001b[37m\u001b[0m \u001b[1m1s\u001b[0m 5ms/step - accuracy: 1.0000 - loss: 2.4714e-05 - val_accuracy: 0.9667 - val_loss: 0.2028\n",
            "Epoch 43/100\n",
            "\u001b[1m150/150\u001b[0m \u001b[32m━━━━━━━━━━━━━━━━━━━━\u001b[0m\u001b[37m\u001b[0m \u001b[1m1s\u001b[0m 4ms/step - accuracy: 1.0000 - loss: 2.2855e-05 - val_accuracy: 0.9667 - val_loss: 0.2036\n",
            "Epoch 44/100\n",
            "\u001b[1m150/150\u001b[0m \u001b[32m━━━━━━━━━━━━━━━━━━━━\u001b[0m\u001b[37m\u001b[0m \u001b[1m0s\u001b[0m 3ms/step - accuracy: 1.0000 - loss: 2.1139e-05 - val_accuracy: 0.9675 - val_loss: 0.2043\n",
            "Epoch 45/100\n",
            "\u001b[1m150/150\u001b[0m \u001b[32m━━━━━━━━━━━━━━━━━━━━\u001b[0m\u001b[37m\u001b[0m \u001b[1m1s\u001b[0m 3ms/step - accuracy: 1.0000 - loss: 1.9565e-05 - val_accuracy: 0.9675 - val_loss: 0.2051\n",
            "Epoch 46/100\n",
            "\u001b[1m150/150\u001b[0m \u001b[32m━━━━━━━━━━━━━━━━━━━━\u001b[0m\u001b[37m\u001b[0m \u001b[1m1s\u001b[0m 4ms/step - accuracy: 1.0000 - loss: 1.8111e-05 - val_accuracy: 0.9675 - val_loss: 0.2059\n",
            "Epoch 47/100\n",
            "\u001b[1m150/150\u001b[0m \u001b[32m━━━━━━━━━━━━━━━━━━━━\u001b[0m\u001b[37m\u001b[0m \u001b[1m1s\u001b[0m 3ms/step - accuracy: 1.0000 - loss: 1.6768e-05 - val_accuracy: 0.9671 - val_loss: 0.2066\n",
            "Epoch 48/100\n",
            "\u001b[1m150/150\u001b[0m \u001b[32m━━━━━━━━━━━━━━━━━━━━\u001b[0m\u001b[37m\u001b[0m \u001b[1m1s\u001b[0m 3ms/step - accuracy: 1.0000 - loss: 1.5531e-05 - val_accuracy: 0.9671 - val_loss: 0.2074\n",
            "Epoch 49/100\n",
            "\u001b[1m150/150\u001b[0m \u001b[32m━━━━━━━━━━━━━━━━━━━━\u001b[0m\u001b[37m\u001b[0m \u001b[1m1s\u001b[0m 3ms/step - accuracy: 1.0000 - loss: 1.4380e-05 - val_accuracy: 0.9675 - val_loss: 0.2082\n",
            "Epoch 50/100\n",
            "\u001b[1m150/150\u001b[0m \u001b[32m━━━━━━━━━━━━━━━━━━━━\u001b[0m\u001b[37m\u001b[0m \u001b[1m1s\u001b[0m 3ms/step - accuracy: 1.0000 - loss: 1.3319e-05 - val_accuracy: 0.9675 - val_loss: 0.2090\n",
            "Epoch 51/100\n",
            "\u001b[1m150/150\u001b[0m \u001b[32m━━━━━━━━━━━━━━━━━━━━\u001b[0m\u001b[37m\u001b[0m \u001b[1m1s\u001b[0m 3ms/step - accuracy: 1.0000 - loss: 1.2337e-05 - val_accuracy: 0.9679 - val_loss: 0.2098\n",
            "Epoch 52/100\n",
            "\u001b[1m150/150\u001b[0m \u001b[32m━━━━━━━━━━━━━━━━━━━━\u001b[0m\u001b[37m\u001b[0m \u001b[1m1s\u001b[0m 3ms/step - accuracy: 1.0000 - loss: 1.1426e-05 - val_accuracy: 0.9675 - val_loss: 0.2107\n",
            "Epoch 53/100\n",
            "\u001b[1m150/150\u001b[0m \u001b[32m━━━━━━━━━━━━━━━━━━━━\u001b[0m\u001b[37m\u001b[0m \u001b[1m1s\u001b[0m 3ms/step - accuracy: 1.0000 - loss: 1.0581e-05 - val_accuracy: 0.9675 - val_loss: 0.2115\n",
            "Epoch 54/100\n",
            "\u001b[1m150/150\u001b[0m \u001b[32m━━━━━━━━━━━━━━━━━━━━\u001b[0m\u001b[37m\u001b[0m \u001b[1m0s\u001b[0m 3ms/step - accuracy: 1.0000 - loss: 9.8012e-06 - val_accuracy: 0.9675 - val_loss: 0.2123\n",
            "Epoch 55/100\n",
            "\u001b[1m150/150\u001b[0m \u001b[32m━━━━━━━━━━━━━━━━━━━━\u001b[0m\u001b[37m\u001b[0m \u001b[1m1s\u001b[0m 3ms/step - accuracy: 1.0000 - loss: 9.0757e-06 - val_accuracy: 0.9675 - val_loss: 0.2132\n",
            "Epoch 56/100\n",
            "\u001b[1m150/150\u001b[0m \u001b[32m━━━━━━━━━━━━━━━━━━━━\u001b[0m\u001b[37m\u001b[0m \u001b[1m1s\u001b[0m 3ms/step - accuracy: 1.0000 - loss: 8.4037e-06 - val_accuracy: 0.9675 - val_loss: 0.2141\n",
            "Epoch 57/100\n",
            "\u001b[1m150/150\u001b[0m \u001b[32m━━━━━━━━━━━━━━━━━━━━\u001b[0m\u001b[37m\u001b[0m \u001b[1m1s\u001b[0m 3ms/step - accuracy: 1.0000 - loss: 7.7792e-06 - val_accuracy: 0.9675 - val_loss: 0.2149\n",
            "Epoch 58/100\n",
            "\u001b[1m150/150\u001b[0m \u001b[32m━━━━━━━━━━━━━━━━━━━━\u001b[0m\u001b[37m\u001b[0m \u001b[1m0s\u001b[0m 3ms/step - accuracy: 1.0000 - loss: 7.2040e-06 - val_accuracy: 0.9683 - val_loss: 0.2158\n",
            "Epoch 59/100\n",
            "\u001b[1m150/150\u001b[0m \u001b[32m━━━━━━━━━━━━━━━━━━━━\u001b[0m\u001b[37m\u001b[0m \u001b[1m1s\u001b[0m 4ms/step - accuracy: 1.0000 - loss: 6.6699e-06 - val_accuracy: 0.9683 - val_loss: 0.2167\n",
            "Epoch 60/100\n",
            "\u001b[1m150/150\u001b[0m \u001b[32m━━━━━━━━━━━━━━━━━━━━\u001b[0m\u001b[37m\u001b[0m \u001b[1m1s\u001b[0m 5ms/step - accuracy: 1.0000 - loss: 6.1760e-06 - val_accuracy: 0.9683 - val_loss: 0.2176\n",
            "Epoch 61/100\n",
            "\u001b[1m150/150\u001b[0m \u001b[32m━━━━━━━━━━━━━━━━━━━━\u001b[0m\u001b[37m\u001b[0m \u001b[1m1s\u001b[0m 5ms/step - accuracy: 1.0000 - loss: 5.7180e-06 - val_accuracy: 0.9683 - val_loss: 0.2185\n",
            "Epoch 62/100\n",
            "\u001b[1m150/150\u001b[0m \u001b[32m━━━━━━━━━━━━━━━━━━━━\u001b[0m\u001b[37m\u001b[0m \u001b[1m1s\u001b[0m 4ms/step - accuracy: 1.0000 - loss: 5.2941e-06 - val_accuracy: 0.9683 - val_loss: 0.2194\n",
            "Epoch 63/100\n",
            "\u001b[1m150/150\u001b[0m \u001b[32m━━━━━━━━━━━━━━━━━━━━\u001b[0m\u001b[37m\u001b[0m \u001b[1m1s\u001b[0m 3ms/step - accuracy: 1.0000 - loss: 4.9009e-06 - val_accuracy: 0.9683 - val_loss: 0.2203\n",
            "Epoch 64/100\n",
            "\u001b[1m150/150\u001b[0m \u001b[32m━━━━━━━━━━━━━━━━━━━━\u001b[0m\u001b[37m\u001b[0m \u001b[1m1s\u001b[0m 3ms/step - accuracy: 1.0000 - loss: 4.5367e-06 - val_accuracy: 0.9683 - val_loss: 0.2212\n",
            "Epoch 65/100\n",
            "\u001b[1m150/150\u001b[0m \u001b[32m━━━━━━━━━━━━━━━━━━━━\u001b[0m\u001b[37m\u001b[0m \u001b[1m1s\u001b[0m 3ms/step - accuracy: 1.0000 - loss: 4.1994e-06 - val_accuracy: 0.9683 - val_loss: 0.2222\n",
            "Epoch 66/100\n",
            "\u001b[1m150/150\u001b[0m \u001b[32m━━━━━━━━━━━━━━━━━━━━\u001b[0m\u001b[37m\u001b[0m \u001b[1m0s\u001b[0m 3ms/step - accuracy: 1.0000 - loss: 3.8858e-06 - val_accuracy: 0.9683 - val_loss: 0.2232\n",
            "Epoch 67/100\n",
            "\u001b[1m150/150\u001b[0m \u001b[32m━━━━━━━━━━━━━━━━━━━━\u001b[0m\u001b[37m\u001b[0m \u001b[1m1s\u001b[0m 4ms/step - accuracy: 1.0000 - loss: 3.5946e-06 - val_accuracy: 0.9683 - val_loss: 0.2241\n",
            "Epoch 68/100\n",
            "\u001b[1m150/150\u001b[0m \u001b[32m━━━━━━━━━━━━━━━━━━━━\u001b[0m\u001b[37m\u001b[0m \u001b[1m0s\u001b[0m 3ms/step - accuracy: 1.0000 - loss: 3.3249e-06 - val_accuracy: 0.9683 - val_loss: 0.2251\n",
            "Epoch 69/100\n",
            "\u001b[1m150/150\u001b[0m \u001b[32m━━━━━━━━━━━━━━━━━━━━\u001b[0m\u001b[37m\u001b[0m \u001b[1m1s\u001b[0m 3ms/step - accuracy: 1.0000 - loss: 3.0763e-06 - val_accuracy: 0.9683 - val_loss: 0.2261\n",
            "Epoch 70/100\n",
            "\u001b[1m150/150\u001b[0m \u001b[32m━━━━━━━━━━━━━━━━━━━━\u001b[0m\u001b[37m\u001b[0m \u001b[1m1s\u001b[0m 4ms/step - accuracy: 1.0000 - loss: 2.8450e-06 - val_accuracy: 0.9683 - val_loss: 0.2271\n",
            "Epoch 71/100\n",
            "\u001b[1m150/150\u001b[0m \u001b[32m━━━━━━━━━━━━━━━━━━━━\u001b[0m\u001b[37m\u001b[0m \u001b[1m1s\u001b[0m 4ms/step - accuracy: 1.0000 - loss: 2.6308e-06 - val_accuracy: 0.9683 - val_loss: 0.2280\n",
            "Epoch 72/100\n",
            "\u001b[1m150/150\u001b[0m \u001b[32m━━━━━━━━━━━━━━━━━━━━\u001b[0m\u001b[37m\u001b[0m \u001b[1m1s\u001b[0m 3ms/step - accuracy: 1.0000 - loss: 2.4331e-06 - val_accuracy: 0.9683 - val_loss: 0.2290\n",
            "Epoch 73/100\n",
            "\u001b[1m150/150\u001b[0m \u001b[32m━━━━━━━━━━━━━━━━━━━━\u001b[0m\u001b[37m\u001b[0m \u001b[1m1s\u001b[0m 3ms/step - accuracy: 1.0000 - loss: 2.2511e-06 - val_accuracy: 0.9683 - val_loss: 0.2300\n",
            "Epoch 74/100\n",
            "\u001b[1m150/150\u001b[0m \u001b[32m━━━━━━━━━━━━━━━━━━━━\u001b[0m\u001b[37m\u001b[0m \u001b[1m1s\u001b[0m 4ms/step - accuracy: 1.0000 - loss: 2.0813e-06 - val_accuracy: 0.9683 - val_loss: 0.2310\n",
            "Epoch 75/100\n",
            "\u001b[1m150/150\u001b[0m \u001b[32m━━━━━━━━━━━━━━━━━━━━\u001b[0m\u001b[37m\u001b[0m \u001b[1m1s\u001b[0m 4ms/step - accuracy: 1.0000 - loss: 1.9248e-06 - val_accuracy: 0.9688 - val_loss: 0.2320\n",
            "Epoch 76/100\n",
            "\u001b[1m150/150\u001b[0m \u001b[32m━━━━━━━━━━━━━━━━━━━━\u001b[0m\u001b[37m\u001b[0m \u001b[1m1s\u001b[0m 4ms/step - accuracy: 1.0000 - loss: 1.7794e-06 - val_accuracy: 0.9688 - val_loss: 0.2330\n",
            "Epoch 77/100\n",
            "\u001b[1m150/150\u001b[0m \u001b[32m━━━━━━━━━━━━━━━━━━━━\u001b[0m\u001b[37m\u001b[0m \u001b[1m1s\u001b[0m 4ms/step - accuracy: 1.0000 - loss: 1.6457e-06 - val_accuracy: 0.9692 - val_loss: 0.2341\n",
            "Epoch 78/100\n",
            "\u001b[1m150/150\u001b[0m \u001b[32m━━━━━━━━━━━━━━━━━━━━\u001b[0m\u001b[37m\u001b[0m \u001b[1m1s\u001b[0m 4ms/step - accuracy: 1.0000 - loss: 1.5216e-06 - val_accuracy: 0.9692 - val_loss: 0.2350\n",
            "Epoch 79/100\n",
            "\u001b[1m150/150\u001b[0m \u001b[32m━━━━━━━━━━━━━━━━━━━━\u001b[0m\u001b[37m\u001b[0m \u001b[1m1s\u001b[0m 4ms/step - accuracy: 1.0000 - loss: 1.4081e-06 - val_accuracy: 0.9692 - val_loss: 0.2361\n",
            "Epoch 80/100\n",
            "\u001b[1m150/150\u001b[0m \u001b[32m━━━━━━━━━━━━━━━━━━━━\u001b[0m\u001b[37m\u001b[0m \u001b[1m1s\u001b[0m 4ms/step - accuracy: 1.0000 - loss: 1.3010e-06 - val_accuracy: 0.9692 - val_loss: 0.2371\n",
            "Epoch 81/100\n",
            "\u001b[1m150/150\u001b[0m \u001b[32m━━━━━━━━━━━━━━━━━━━━\u001b[0m\u001b[37m\u001b[0m \u001b[1m1s\u001b[0m 3ms/step - accuracy: 1.0000 - loss: 1.2028e-06 - val_accuracy: 0.9692 - val_loss: 0.2381\n",
            "Epoch 82/100\n",
            "\u001b[1m150/150\u001b[0m \u001b[32m━━━━━━━━━━━━━━━━━━━━\u001b[0m\u001b[37m\u001b[0m \u001b[1m1s\u001b[0m 3ms/step - accuracy: 1.0000 - loss: 1.1114e-06 - val_accuracy: 0.9688 - val_loss: 0.2391\n",
            "Epoch 83/100\n",
            "\u001b[1m150/150\u001b[0m \u001b[32m━━━━━━━━━━━━━━━━━━━━\u001b[0m\u001b[37m\u001b[0m \u001b[1m1s\u001b[0m 3ms/step - accuracy: 1.0000 - loss: 1.0270e-06 - val_accuracy: 0.9688 - val_loss: 0.2401\n",
            "Epoch 84/100\n",
            "\u001b[1m150/150\u001b[0m \u001b[32m━━━━━━━━━━━━━━━━━━━━\u001b[0m\u001b[37m\u001b[0m \u001b[1m1s\u001b[0m 3ms/step - accuracy: 1.0000 - loss: 9.4868e-07 - val_accuracy: 0.9688 - val_loss: 0.2411\n",
            "Epoch 85/100\n",
            "\u001b[1m150/150\u001b[0m \u001b[32m━━━━━━━━━━━━━━━━━━━━\u001b[0m\u001b[37m\u001b[0m \u001b[1m1s\u001b[0m 3ms/step - accuracy: 1.0000 - loss: 8.7669e-07 - val_accuracy: 0.9692 - val_loss: 0.2422\n",
            "Epoch 86/100\n",
            "\u001b[1m150/150\u001b[0m \u001b[32m━━━━━━━━━━━━━━━━━━━━\u001b[0m\u001b[37m\u001b[0m \u001b[1m1s\u001b[0m 3ms/step - accuracy: 1.0000 - loss: 8.0906e-07 - val_accuracy: 0.9692 - val_loss: 0.2432\n",
            "Epoch 87/100\n",
            "\u001b[1m150/150\u001b[0m \u001b[32m━━━━━━━━━━━━━━━━━━━━\u001b[0m\u001b[37m\u001b[0m \u001b[1m1s\u001b[0m 3ms/step - accuracy: 1.0000 - loss: 7.4705e-07 - val_accuracy: 0.9692 - val_loss: 0.2442\n",
            "Epoch 88/100\n",
            "\u001b[1m150/150\u001b[0m \u001b[32m━━━━━━━━━━━━━━━━━━━━\u001b[0m\u001b[37m\u001b[0m \u001b[1m1s\u001b[0m 3ms/step - accuracy: 1.0000 - loss: 6.9039e-07 - val_accuracy: 0.9696 - val_loss: 0.2453\n",
            "Epoch 89/100\n",
            "\u001b[1m150/150\u001b[0m \u001b[32m━━━━━━━━━━━━━━━━━━━━\u001b[0m\u001b[37m\u001b[0m \u001b[1m1s\u001b[0m 4ms/step - accuracy: 1.0000 - loss: 6.3769e-07 - val_accuracy: 0.9696 - val_loss: 0.2463\n",
            "Epoch 90/100\n",
            "\u001b[1m150/150\u001b[0m \u001b[32m━━━━━━━━━━━━━━━━━━━━\u001b[0m\u001b[37m\u001b[0m \u001b[1m1s\u001b[0m 3ms/step - accuracy: 1.0000 - loss: 5.8892e-07 - val_accuracy: 0.9696 - val_loss: 0.2474\n",
            "Epoch 91/100\n",
            "\u001b[1m150/150\u001b[0m \u001b[32m━━━━━━━━━━━━━━━━━━━━\u001b[0m\u001b[37m\u001b[0m \u001b[1m1s\u001b[0m 3ms/step - accuracy: 1.0000 - loss: 5.4396e-07 - val_accuracy: 0.9696 - val_loss: 0.2484\n",
            "Epoch 92/100\n",
            "\u001b[1m150/150\u001b[0m \u001b[32m━━━━━━━━━━━━━━━━━━━━\u001b[0m\u001b[37m\u001b[0m \u001b[1m1s\u001b[0m 3ms/step - accuracy: 1.0000 - loss: 5.0219e-07 - val_accuracy: 0.9696 - val_loss: 0.2495\n",
            "Epoch 93/100\n",
            "\u001b[1m150/150\u001b[0m \u001b[32m━━━━━━━━━━━━━━━━━━━━\u001b[0m\u001b[37m\u001b[0m \u001b[1m1s\u001b[0m 3ms/step - accuracy: 1.0000 - loss: 4.6379e-07 - val_accuracy: 0.9696 - val_loss: 0.2505\n",
            "Epoch 94/100\n",
            "\u001b[1m150/150\u001b[0m \u001b[32m━━━━━━━━━━━━━━━━━━━━\u001b[0m\u001b[37m\u001b[0m \u001b[1m1s\u001b[0m 3ms/step - accuracy: 1.0000 - loss: 4.2793e-07 - val_accuracy: 0.9692 - val_loss: 0.2516\n",
            "Epoch 95/100\n",
            "\u001b[1m150/150\u001b[0m \u001b[32m━━━━━━━━━━━━━━━━━━━━\u001b[0m\u001b[37m\u001b[0m \u001b[1m1s\u001b[0m 3ms/step - accuracy: 1.0000 - loss: 3.9497e-07 - val_accuracy: 0.9692 - val_loss: 0.2526\n",
            "Epoch 96/100\n",
            "\u001b[1m150/150\u001b[0m \u001b[32m━━━━━━━━━━━━━━━━━━━━\u001b[0m\u001b[37m\u001b[0m \u001b[1m1s\u001b[0m 4ms/step - accuracy: 1.0000 - loss: 3.6461e-07 - val_accuracy: 0.9692 - val_loss: 0.2537\n",
            "Epoch 97/100\n",
            "\u001b[1m150/150\u001b[0m \u001b[32m━━━━━━━━━━━━━━━━━━━━\u001b[0m\u001b[37m\u001b[0m \u001b[1m1s\u001b[0m 4ms/step - accuracy: 1.0000 - loss: 3.3660e-07 - val_accuracy: 0.9688 - val_loss: 0.2548\n",
            "Epoch 98/100\n",
            "\u001b[1m150/150\u001b[0m \u001b[32m━━━━━━━━━━━━━━━━━━━━\u001b[0m\u001b[37m\u001b[0m \u001b[1m1s\u001b[0m 5ms/step - accuracy: 1.0000 - loss: 3.0991e-07 - val_accuracy: 0.9679 - val_loss: 0.2558\n",
            "Epoch 99/100\n",
            "\u001b[1m150/150\u001b[0m \u001b[32m━━━━━━━━━━━━━━━━━━━━\u001b[0m\u001b[37m\u001b[0m \u001b[1m1s\u001b[0m 5ms/step - accuracy: 1.0000 - loss: 2.8610e-07 - val_accuracy: 0.9679 - val_loss: 0.2569\n",
            "Epoch 100/100\n",
            "\u001b[1m150/150\u001b[0m \u001b[32m━━━━━━━━━━━━━━━━━━━━\u001b[0m\u001b[37m\u001b[0m \u001b[1m1s\u001b[0m 4ms/step - accuracy: 1.0000 - loss: 2.6399e-07 - val_accuracy: 0.9679 - val_loss: 0.2580\n"
          ]
        },
        {
          "data": {
            "image/png": "[encoded data removed]",
            "text/plain": [
              "<Figure size 1600x600 with 2 Axes>"
            ]
          },
          "metadata": {},
          "output_type": "display_data"
        }
      ],
      "source": [
        "inputs = tf.keras.Input(shape=(28, 28), name='input_layer')\n",
        "\n",
        "flat = layers.Flatten()(inputs)\n",
        "\n",
        "l_1 = layers.Dense(256, activation='relu', name='layer_1')(flat)\n",
        "l_1 = layers.LayerNormalization(axis=1)(l_1)\n",
        "\n",
        "l_2 = layers.Dense(128, activation='relu', name='layer_2')(l_1)\n",
        "l_2 = layers.LayerNormalization(axis=1)(l_2)\n",
        "\n",
        "l_3 = layers.Dense(128, activation='relu', name='layer_3')(l_2)\n",
        "\n",
        "outputs = layers.Dense(10, activation='softmax', name='output_layer')(l_3)\n",
        "\n",
        "model_layer_norm = keras.Model(inputs=inputs, outputs=outputs, name='dont_overfit_model_layer_norm')\n",
        "model_layer_norm.summary()\n",
        "model_layer_norm.compile(optimizer='adam',\n",
        "                      loss='sparse_categorical_crossentropy',\n",
        "                      metrics=['accuracy'])\n",
        "\n",
        "history_layer_norm = model_layer_norm.fit(\n",
        "    X,\n",
        "    y,\n",
        "    batch_size=64,\n",
        "    epochs=100,\n",
        "    validation_split=0.2,\n",
        "    shuffle=True)\n",
        "\n",
        "show_loss_accuracy_evolution(history_layer_norm)"
      ]
    },
    {
      "cell_type": "markdown",
      "id": "KukE0tTKA4E3",
      "metadata": {
        "id": "KukE0tTKA4E3"
      },
      "source": [
        "## L1, L2 y ElasticNet\n",
        "Es importante tener en cuenta que durante el entrenamiento la red aprende una configuración de pesos y bias que permite mejorar los resultados para una determianda función de pérdida.\n",
        "* L1 regularization: donde el coste añadido es proporcional al valor absoluto de los coeficientes de los pesos.\n",
        "* L2 regularization: donde el coste añadido es proporcional al cuadrado de los pesos delos coeficientes.\n",
        "* L1_L2 or ElasticNet."
      ]
    },
    {
      "cell_type": "code",
      "execution_count": 19,
      "id": "jtC0tiuzBHhs",
      "metadata": {
        "id": "jtC0tiuzBHhs"
      },
      "outputs": [],
      "source": [
        "from tensorflow.keras import regularizers\n",
        "\n",
        "kerner_regularizer_l1 = regularizers.l1_l2(l1=1e-5, l2=5e-4)\n",
        "kerner_regularizer_l2 = regularizers.l2(5e-4)\n",
        "kerner_regularizer_l3 = regularizers.l1(1e-5)\n",
        "\n",
        "l_1 = layers.Dense(256, activation='relu',\n",
        "                   kernel_regularizer=kerner_regularizer_l1, name='layer_1')(flat)\n",
        "\n",
        "l_2 = layers.Dense(128, activation='relu',\n",
        "                   kernel_regularizer=kerner_regularizer_l2, name='layer_2')(l_1)\n",
        "\n",
        "l_3 = layers.Dense(128, activation='relu',\n",
        "                   kernel_regularizer=kerner_regularizer_l3, name='layer_3')(l_2)"
      ]
    },
    {
      "cell_type": "markdown",
      "id": "y09FlDxOBLmZ",
      "metadata": {
        "id": "y09FlDxOBLmZ"
      },
      "source": [
        "Además se pueden elegir donde quieres incluir la penalización:\n",
        "* `kernel_regularizer`: solo en los weights\n",
        "* `bias_regularizer`: solo en los bias\n",
        "* `activity_regularizer`: on full output"
      ]
    },
    {
      "cell_type": "markdown",
      "id": "A8U1kJ7RBOa3",
      "metadata": {
        "id": "A8U1kJ7RBOa3"
      },
      "source": [
        "## Noise injection\n",
        "Aplicamos un ruido de tipo Gaussiano con media 0. Podemos elegir nosotros la varianza.\n",
        "\n",
        "* Con API.\n",
        "\n",
        "next_layer = layers.GaussianNoise(stddev)(prev_layer)\n",
        "\n",
        "* Con secuencial\n",
        "\n",
        "model.add(layers.GaussianNoise(stddev)())"
      ]
    },
    {
      "cell_type": "markdown",
      "id": "3babQN91BQls",
      "metadata": {
        "id": "3babQN91BQls"
      },
      "source": [
        "## Early stopping\n",
        "Una de las tecnicas mas usadas para prevenir el *overfitting* es la de **parado temprano**. Basicamente consiste en parar el entrenamiento en una *Epoch* anterior a la que tenemos definida.\n",
        "Se usará el objeto `EarlyStopping`\n",
        "* `monitor`: el nombre del valor que va a ser monitorizado.\n",
        "* `patience`: Número de *Epochs* <u>sin que se muestre mejora</u> en el cual se parará el entrenamiento.\n",
        "* `min_delta`: Mínimo cambio en la cantidad monitoreada para considerar una mejora o no\n",
        "Hay otras *callbacks* que pueden ser utilies:\n",
        "* `ModelCheckpoint`: permite guardar el estado del modelo en distintos momentos del entrenamiento. Puede ser útil para guardar tiempo."
      ]
    },
    {
      "cell_type": "code",
      "execution_count": 20,
      "id": "9sLhIXNWBZiF",
      "metadata": {
        "colab": {
          "base_uri": "https://localhost:8080/"
        },
        "id": "9sLhIXNWBZiF",
        "outputId": "e567adaa-9c59-4ffe-bfd6-6dbf08ec53d5"
      },
      "outputs": [
        {
          "data": {
            "text/plain": [
              "<keras.src.callbacks.early_stopping.EarlyStopping at 0x7f5dd04a5850>"
            ]
          },
          "execution_count": 20,
          "metadata": {},
          "output_type": "execute_result"
        }
      ],
      "source": [
        "tf.keras.callbacks.EarlyStopping(\n",
        "    monitor=\"val_loss\",\n",
        "    min_delta=0,\n",
        "    restore_best_weights=True,\n",
        "    verbose=0\n",
        ")"
      ]
    },
    {
      "cell_type": "markdown",
      "id": "4a8dc3db",
      "metadata": {},
      "source": [
        "# Convolutional Neural Networks CNN"
      ]
    },
    {
      "cell_type": "code",
      "execution_count": 4,
      "id": "9c78b995",
      "metadata": {},
      "outputs": [],
      "source": [
        "#pip install opencv-python\n",
        "\n",
        "import os\n",
        "import cv2\n",
        "import matplotlib.pyplot as plt\n",
        "import numpy as np\n",
        "import tensorflow as tf\n",
        "\n",
        "seed = 7777\n",
        "tf.random.set_seed(seed)"
      ]
    },
    {
      "cell_type": "markdown",
      "id": "b67fafb4",
      "metadata": {},
      "source": [
        "### Importar imagen"
      ]
    },
    {
      "cell_type": "code",
      "execution_count": 5,
      "id": "1d351e9c",
      "metadata": {},
      "outputs": [
        {
          "ename": "NameError",
          "evalue": "name 'image_path' is not defined",
          "output_type": "error",
          "traceback": [
            "\u001b[1;31m---------------------------------------------------------------------------\u001b[0m",
            "\u001b[1;31mNameError\u001b[0m                                 Traceback (most recent call last)",
            "Cell \u001b[1;32mIn[5], line 7\u001b[0m\n\u001b[0;32m      4\u001b[0m     image \u001b[38;5;241m=\u001b[39m image\u001b[38;5;241m.\u001b[39mastype(np\u001b[38;5;241m.\u001b[39muint8)\n\u001b[0;32m      5\u001b[0m     \u001b[38;5;28;01mreturn\u001b[39;00m image\n\u001b[1;32m----> 7\u001b[0m image \u001b[38;5;241m=\u001b[39m read_image(\u001b[43mimage_path\u001b[49m)\n",
            "\u001b[1;31mNameError\u001b[0m: name 'image_path' is not defined"
          ]
        }
      ],
      "source": [
        "def read_image(image_path, target_size=None):\n",
        "    image = tf.keras.preprocessing.image.load_img(image_path, target_size=target_size)\n",
        "    image = tf.keras.preprocessing.img.img_to_array(image)\n",
        "    image = image.astype(np.uint8)\n",
        "    return image\n",
        "\n",
        "image = read_image(image_path)"
      ]
    },
    {
      "cell_type": "markdown",
      "id": "60f5d15e",
      "metadata": {},
      "source": [
        "### Ejemplo de convoluciones"
      ]
    },
    {
      "cell_type": "code",
      "execution_count": null,
      "id": "cc67f3b0",
      "metadata": {},
      "outputs": [],
      "source": [
        "def draw_filtered(image, filter):\n",
        "    image_filtered = cv2.filter2D(image, -1, filter)\n",
        "\n",
        "    fig, ax = plt.subplots(1, figsize=(5, 5))\n",
        "    ax.set_xticks([])\n",
        "    ax.set_yticks([])\n",
        "    plt.imshow(image_filtered)"
      ]
    },
    {
      "cell_type": "markdown",
      "id": "18b93444",
      "metadata": {},
      "source": [
        "#### Kernel identidad"
      ]
    },
    {
      "cell_type": "code",
      "execution_count": null,
      "id": "b98f4d63",
      "metadata": {},
      "outputs": [],
      "source": [
        "identity_kernel = np.array([\n",
        "    [0, 0, 0],\n",
        "    [0, 1, 0],\n",
        "    [0, 0, 0]\n",
        "])\n",
        "\n",
        "img = cv2.filter2D(image, -1, identity_kernel)\n",
        "\n",
        "fig, ax = plt.subplots(1, figsize=(5, 5))\n",
        "ax.set_xticks([])\n",
        "ax.set_yticks([])\n",
        "plt.imshow(img)"
      ]
    },
    {
      "cell_type": "markdown",
      "id": "0d9bb4f6",
      "metadata": {},
      "source": [
        "#### Box Blur\n",
        "Aplica la media de los pixeles cercanos"
      ]
    },
    {
      "cell_type": "code",
      "execution_count": null,
      "id": "4086de3e",
      "metadata": {},
      "outputs": [],
      "source": [
        "box_blur_filter = (1/9)*np.array([\n",
        "    [1, 1, 1],\n",
        "    [1, 1, 1],\n",
        "    [1, 1, 1]\n",
        "])\n",
        "\n",
        "draw_filtered(image, box_blur_filter)"
      ]
    },
    {
      "cell_type": "markdown",
      "id": "6a517a56",
      "metadata": {},
      "source": [
        "#### Gaussian filter"
      ]
    },
    {
      "cell_type": "code",
      "execution_count": null,
      "id": "7b32f0bc",
      "metadata": {},
      "outputs": [],
      "source": [
        "gaussian_filter = (1/16)*np.array([\n",
        "    [1, 2, 1],\n",
        "    [2, 4, 2],\n",
        "    [1, 2, 1]\n",
        "])\n",
        "\n",
        "draw_filtered(image, gaussian_filter)"
      ]
    },
    {
      "cell_type": "markdown",
      "id": "26d8c87e",
      "metadata": {},
      "source": [
        "#### Edge detection"
      ]
    },
    {
      "cell_type": "code",
      "execution_count": null,
      "id": "e5dfc7c2",
      "metadata": {},
      "outputs": [],
      "source": [
        "edge_detection_filter = np.array([\n",
        "    [1, 0, -1],\n",
        "    [1, 0, -1],\n",
        "    [1, 0, -1]\n",
        "])\n",
        "\n",
        "draw_filtered(image, edge_detection_filter)\n",
        "\n",
        "edge_detection_filter = np.array([\n",
        "    [0, 1, 0],\n",
        "    [1, -4, 1],\n",
        "    [0, 1, 0]\n",
        "])\n",
        "\n",
        "draw_filtered(image, edge_detection_filter)\n",
        "\n",
        "edge_detection_filter = np.array([\n",
        "    [1, 1, 1],\n",
        "    [1, -8, 1],\n",
        "    [1, 1, 1]\n",
        "])\n",
        "\n",
        "draw_filtered(image, edge_detection_filter)"
      ]
    },
    {
      "cell_type": "markdown",
      "id": "46424d02",
      "metadata": {},
      "source": [
        "# Image Classification CNN\n",
        "Vamos a dercargar un dataset con unas 3700 imagenes de flores de 5 clases diferentes."
      ]
    },
    {
      "cell_type": "code",
      "execution_count": null,
      "id": "47e3d6c4",
      "metadata": {},
      "outputs": [],
      "source": [
        "import pathlib\n",
        "import os\n",
        "import tensorflow as tf\n",
        "dataset_url = 'https://storage.googleapis.com/download.tensorflow.org/example_images/flower_photos.tgz'\n",
        "data_dir = tf.keras.utils.get_file('flower_photos', origin=dataset_url, untar=True)\n",
        "data_dir = pathlib.Path(data_dir)\n",
        "\n",
        "# Check the directory structure\n",
        "contents = os.listdir(data_dir)\n",
        "if 'flower_photos' in contents and len(contents) == 1:\n",
        "    # We're in Colab - need to go one level deeper\n",
        "    data_dir = os.path.join(data_dir, 'flower_photos')\n",
        "    data_dir = pathlib.Path(data_dir)\n",
        "\n",
        "# At this point, data_dir should directly contain the flower categories\n",
        "print(os.listdir(data_dir))  # Should now show 'roses', 'daisy', etc. in both environments"
      ]
    },
    {
      "cell_type": "markdown",
      "id": "fc1fbcac",
      "metadata": {},
      "source": [
        "Vamos a crar un dataset de `TensorFlow` con los datos que hemos cargado previamente usando la funcion `image_dataset_from_directory()`\n"
      ]
    },
    {
      "cell_type": "code",
      "execution_count": null,
      "id": "2397a8e1",
      "metadata": {},
      "outputs": [],
      "source": [
        "\n",
        "image_size = (96,96)\n",
        "train_ds = tf.keras.preprocessing.image_dataset_from_directory(\n",
        "  data_dir,\n",
        "  validation_split=0.2,  # 80%  train, 20% validation\n",
        "  subset='training',  # 'training' o 'validation', only  with 'validation_split'\n",
        "  seed=1,\n",
        "  image_size=image_size,  # Dimension (img_height, img_width) for rescaling\n",
        "  batch_size=64\n",
        ")\n",
        "\n",
        "val_ds = tf.keras.preprocessing.image_dataset_from_directory(\n",
        "  data_dir,\n",
        "  validation_split=0.2,\n",
        "  subset='validation',\n",
        "  seed=1,\n",
        "  image_size=image_size,\n",
        "  batch_size=64)\n",
        "\n",
        "class_names_list = train_ds.class_names\n",
        "class_names_list"
      ]
    },
    {
      "cell_type": "markdown",
      "id": "cbd31555",
      "metadata": {},
      "source": [
        "### Configuramos la `performance` del dataset.\n",
        "* `Dataset.cache()`: mantiene las imagenes en memoria tras haber sido descargada del disco en la primera *Epoch*. esto ayudará que la carga del propio dataset no sea un problema para la velocidad de procesamiento. Si la memoria del ordenador no es lo suficientemente grande, tambein puede crear un espacio en el disco\n",
        "* `Dataset.prefetch()`: hace los pasos de *data preprocessing* y *model execution* mientras entrenamos"
      ]
    },
    {
      "cell_type": "code",
      "execution_count": null,
      "id": "93ea069c",
      "metadata": {},
      "outputs": [],
      "source": [
        "# Vamos a visualizar algunas muestras de entrenamiento:\n",
        "\n",
        "plt.figure(figsize=(10,10))\n",
        "for images, labels in train_ds.take(1):\n",
        "    for i in range(9):\n",
        "        ax = plt.subplot(3, 3, i+1)\n",
        "        plt.ishow(images[i].numpy().astype(\"uint8\"))\n",
        "        plt.title(class_names_list[labels[i]])\n",
        "        plt.axis(\"off\")"
      ]
    },
    {
      "cell_type": "markdown",
      "id": "4559905d",
      "metadata": {},
      "source": [
        "La <u> entrada tendrá una dimension de (n, n, 3)</u> correspondientes a (altura, anchura, colores)\n",
        "\n",
        "# CNN en Keras\n",
        "Una Red Neuronal Convolucional (CNN) tiene las siguientes 4 partes importantes:\n",
        "* Una **capa convolucional** que extrae las *features* de una imagen fuente.\n",
        "* Una **pooling layer** que reduce la dimensionalidad de la imagen sin perder patrones o caracteristicas importantes.\n",
        "* Una **flattening layer** que transforme el tensor n-dimensional a un vector que se pueda conectar a al modelo mediante la *fully connected layer*.\n",
        "* una **fully connected layer**, que sea una *Dense layer*"
      ]
    },
    {
      "cell_type": "markdown",
      "id": "511f3f0e",
      "metadata": {},
      "source": [
        "## Reescalado.\n",
        "Usualmente las imagenes con la dimensión (altura(h), anchura(w), canal de color(c)) estará compuestas por $h*w*c$ bites. Estos bites estarán comprendidos entre los valores [0, 255], podemos dividir todos los bites entre 255 para normalizarlos.\n",
        "\n",
        "`reescaling = layers.Reescaling(1/255.0)(inputs)`\n",
        "\n",
        "## Capa convolucional\n",
        "Usaremos el objeto `**Conv2D**` con los posibles siguientes parametros:\n",
        "* `filters`: número de *feature maps*\n",
        "* `kernel_size`: puede ser un entero o una *tuple* con 2 enteros. Especifica la altura y la anchura del *kernel*\n",
        "* `padding`: permite añadir *padding* a los datos de entrada.  \n",
        "    * Con \"valid\" no se aplica.\n",
        "    * Con \"same\" se configura para que la dimensión a la salida sea igual que la de entrada\n",
        "* `activation`: función de activación implementada.\n",
        "\n",
        "`convolution = layers.Conv2D(filters=8, kernel_size=3, activation=\"relu\", name=\"conv\")(prev_layer)`\n",
        "\n",
        "## Pooling layer\n",
        "Es una capa añadida tras una capa que introduce una **no-linearidad** (ReLu).\n",
        "* **Average pooling**\n",
        "* **Max pooling**\n",
        "Usualmente la mejor opción suele ser *max pooling*\n",
        "\n",
        "`pool = layers.MaxPool2D(pool_size=(2, 2), name=\"pool_1\")(convolution)`\n",
        "\n",
        "## Flattening\n",
        "Tan solo aplana el *tensor* a un vector\n",
        "`flat = layers.Flatten(name=\"flat\")(prev_layer)`\n",
        "\n",
        "## Ejemplo completo:"
      ]
    },
    {
      "cell_type": "code",
      "execution_count": null,
      "id": "af9b4cf7",
      "metadata": {},
      "outputs": [],
      "source": [
        "# Entrada\n",
        "inputs = tf.keras.Input(shape=image_size + (3, ), name='input')\n",
        "## Reescalado\n",
        "reescaling = layers.Rescaling(1. / 255)(inputs)\n",
        "\n",
        "# Conv Layer 1\n",
        "conv_1 = layers.Conv2D(4, 3, padding='valid', activation='relu',\n",
        "                       name='conv_1')(reescaling)\n",
        "pool_1 = layers.MaxPooling2D(pool_size=(2, 2), name='pool_1')(conv_1)\n",
        "\n",
        "# Conv Layer 2\n",
        "conv_2 = layers.Conv2D(4, 3, padding='valid', activation='relu',\n",
        "                       name='conv_2')(pool_1)\n",
        "pool_2 = layers.MaxPooling2D(pool_size=(2, 2), name='pool_2')(conv_2)\n",
        "\n",
        "\n",
        "# Flattening\n",
        "flat = layers.Flatten(name='flatten')(pool_2)\n",
        "\n",
        "# Fully connected\n",
        "dense = layers.Dense(64, activation='relu', name='dense')(flat)\n",
        "outputs = layers.Dense(5, activation='softmax', name='output')(dense)\n",
        "\n",
        "model = keras.Model(inputs=inputs, outputs=outputs, name='cnn_example')\n",
        "\n",
        "from tensorflow.keras.utils import plot_model\n",
        "plot_model(model, show_shapes=True)"
      ]
    }
  ],
  "metadata": {
    "accelerator": "GPU",
    "colab": {
      "gpuType": "T4",
      "provenance": []
    },
    "kernelspec": {
      "display_name": "Python 3",
      "name": "python3"
    },
    "language_info": {
      "codemirror_mode": {
        "name": "ipython",
        "version": 3
      },
      "file_extension": ".py",
      "mimetype": "text/x-python",
      "name": "python",
      "nbconvert_exporter": "python",
      "pygments_lexer": "ipython3",
      "version": "3.12.2"
    }
  },
  "nbformat": 4,
  "nbformat_minor": 5
}
