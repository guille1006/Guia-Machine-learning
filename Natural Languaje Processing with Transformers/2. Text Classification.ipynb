{
 "cells": [
  {
   "cell_type": "markdown",
   "id": "ae2adcf3",
   "metadata": {},
   "source": [
    "<div style=\"font-size: 3em; font-weight: bold; text-align: center;\">Text Classification</div>\n",
    "<div style=\"text-align: right; font-size: 24px; margin-right: 10px;\">Guillermo Díaz Aguado</div>"
   ]
  },
  {
   "cell_type": "markdown",
   "id": "36bdabe8",
   "metadata": {},
   "source": [
    "## Dataset\n",
    "### Como usar *Hugging Face Datasets*\n",
    "Tan solo tenemos que importar desde `datasets` aquel que nosotros deseemos. \n",
    "Al inicializarlo tendremos una especie de diccionario que se dividirá en train-validation-test. \n"
   ]
  },
  {
   "cell_type": "code",
   "execution_count": 3,
   "id": "ce1dc51a",
   "metadata": {},
   "outputs": [
    {
     "data": {
      "application/vnd.jupyter.widget-view+json": {
       "model_id": "c4f67ebb2b21482d86fe1c6eed1d518f",
       "version_major": 2,
       "version_minor": 0
      },
      "text/plain": [
       "README.md:   0%|          | 0.00/9.05k [00:00<?, ?B/s]"
      ]
     },
     "metadata": {},
     "output_type": "display_data"
    },
    {
     "name": "stderr",
     "output_type": "stream",
     "text": [
      "c:\\Users\\Usuario\\AppData\\Local\\Programs\\Python\\Python312\\Lib\\site-packages\\huggingface_hub\\file_download.py:143: UserWarning: `huggingface_hub` cache-system uses symlinks by default to efficiently store duplicated files but your machine does not support them in C:\\Users\\Usuario\\.cache\\huggingface\\hub\\datasets--emotion. Caching files will still work but in a degraded version that might require more space on your disk. This warning can be disabled by setting the `HF_HUB_DISABLE_SYMLINKS_WARNING` environment variable. For more details, see https://huggingface.co/docs/huggingface_hub/how-to-cache#limitations.\n",
      "To support symlinks on Windows, you either need to activate Developer Mode or to run Python as an administrator. In order to activate developer mode, see this article: https://docs.microsoft.com/en-us/windows/apps/get-started/enable-your-device-for-development\n",
      "  warnings.warn(message)\n"
     ]
    },
    {
     "data": {
      "application/vnd.jupyter.widget-view+json": {
       "model_id": "7170e158d08741d0947f241e4648ff3e",
       "version_major": 2,
       "version_minor": 0
      },
      "text/plain": [
       "train-00000-of-00001.parquet:   0%|          | 0.00/1.03M [00:00<?, ?B/s]"
      ]
     },
     "metadata": {},
     "output_type": "display_data"
    },
    {
     "data": {
      "application/vnd.jupyter.widget-view+json": {
       "model_id": "3b0508e7d79d4f53b86bc2eb997b00c3",
       "version_major": 2,
       "version_minor": 0
      },
      "text/plain": [
       "validation-00000-of-00001.parquet:   0%|          | 0.00/127k [00:00<?, ?B/s]"
      ]
     },
     "metadata": {},
     "output_type": "display_data"
    },
    {
     "data": {
      "application/vnd.jupyter.widget-view+json": {
       "model_id": "d2de2334e1cc44f1b005f033dd27e9fa",
       "version_major": 2,
       "version_minor": 0
      },
      "text/plain": [
       "test-00000-of-00001.parquet:   0%|          | 0.00/129k [00:00<?, ?B/s]"
      ]
     },
     "metadata": {},
     "output_type": "display_data"
    },
    {
     "data": {
      "application/vnd.jupyter.widget-view+json": {
       "model_id": "23e34857a0b5441db916d7aa53571497",
       "version_major": 2,
       "version_minor": 0
      },
      "text/plain": [
       "Generating train split:   0%|          | 0/16000 [00:00<?, ? examples/s]"
      ]
     },
     "metadata": {},
     "output_type": "display_data"
    },
    {
     "data": {
      "application/vnd.jupyter.widget-view+json": {
       "model_id": "a90fa88194b442f48d3e9bfe3655d7d0",
       "version_major": 2,
       "version_minor": 0
      },
      "text/plain": [
       "Generating validation split:   0%|          | 0/2000 [00:00<?, ? examples/s]"
      ]
     },
     "metadata": {},
     "output_type": "display_data"
    },
    {
     "data": {
      "application/vnd.jupyter.widget-view+json": {
       "model_id": "793ea5a6a1ee4d638b92440e054f8110",
       "version_major": 2,
       "version_minor": 0
      },
      "text/plain": [
       "Generating test split:   0%|          | 0/2000 [00:00<?, ? examples/s]"
      ]
     },
     "metadata": {},
     "output_type": "display_data"
    }
   ],
   "source": [
    "from datasets import load_dataset\n",
    "\n",
    "emotions = load_dataset(\"emotion\")"
   ]
  },
  {
   "cell_type": "code",
   "execution_count": 10,
   "id": "a7bae8f0",
   "metadata": {},
   "outputs": [
    {
     "name": "stdout",
     "output_type": "stream",
     "text": [
      "train: Dataset({\n",
      "    features: ['text', 'label'],\n",
      "    num_rows: 16000\n",
      "}), \n",
      " validation: Dataset({\n",
      "    features: ['text', 'label'],\n",
      "    num_rows: 2000\n",
      "}), \n",
      " test: Dataset({\n",
      "    features: ['text', 'label'],\n",
      "    num_rows: 2000\n",
      "})\n"
     ]
    }
   ],
   "source": [
    "\n",
    "train = emotions[\"train\"]\n",
    "validation = emotions[\"validation\"]\n",
    "test = emotions[\"test\"]\n",
    "\n",
    "print(f\"train: {train}, \\n validation: {validation}, \\n test: {test}\")\n"
   ]
  },
  {
   "cell_type": "markdown",
   "id": "92db2d5c",
   "metadata": {},
   "source": [
    "## From Text to Tokens\n",
    "**Tokenization** es el paso de dividir el *texto* y pasarlo a la *unidad atómica* usada en el modelo. \n",
    "\n",
    "**Encoder** es el proceso de darle un *valor númerico/vector* a los *tokens* del texto. \n",
    "* Podemos darle a cada tipo de *token* un *valor númerico único*. Esto hace que el algorítmo pueda ver relaciones inexistentes en estos valores que han sido seleccionados de forma aleatoria.\n",
    "* Podemos hacer un *One-Hot Encoding* para cada tipo de *token*. El problema será que se generará un vector tan grande como el tamaño de este diccionario, el cual, en cada *token* nuevo habrá todo 0, excepto un 1. \n",
    "\n",
    "### Character Tokenization\n",
    "La forma más simple de **tokenization** es <u> dividir el texto en carácteres</u>. \n",
    "Este tipo de *tokenización* <u> ignora cualquier estrucutura en el texto y lo trata como una fuente de caracteres</u>. La mayor desventaja es que tendrá que *aprender a leer las **palabras** desde los datos*\n",
    "\n",
    "### Word Tokenization\n",
    "Esta vez la división de texto la realizaremos con **palabras**. \n",
    "Así podremos saltarnos el paso de aprender palabras y se reduce la complejidad del entrenamiento. \n",
    "El problema será si tenemos un vocabulario muy grande. Una aproximación usual es limitar el vocabulario y descartar las palbras raras, estas palabras raras serán llamadas como `[UNK]`\n",
    "\n",
    "### Subword Tokenization\n",
    "Intentaremos juntar los dos casos anteriores: \n",
    "* Dividiremos las palabras en **unidades más pequeñas** para permitir al modelo reconocer **palabras complejas o mal escritas**. \n",
    "* Usaremos las **palabras comunes** como **unidades únicas**. \n",
    "\n",
    "### Usos con Hugging Face.\n",
    "Podemos utilizar el objeto `AutoTokenizer` que te permite cargar un "
   ]
  },
  {
   "cell_type": "code",
   "execution_count": null,
   "id": "be3711bd",
   "metadata": {},
   "outputs": [],
   "source": []
  }
 ],
 "metadata": {
  "kernelspec": {
   "display_name": "Python 3",
   "language": "python",
   "name": "python3"
  },
  "language_info": {
   "codemirror_mode": {
    "name": "ipython",
    "version": 3
   },
   "file_extension": ".py",
   "mimetype": "text/x-python",
   "name": "python",
   "nbconvert_exporter": "python",
   "pygments_lexer": "ipython3",
   "version": "3.12.2"
  }
 },
 "nbformat": 4,
 "nbformat_minor": 5
}
