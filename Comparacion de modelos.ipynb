{
 "cells": [
  {
   "cell_type": "markdown",
   "metadata": {},
   "source": [
    "<h1 style=\"text-align: center;\"> Comparación de modelos</h1>\n",
    "<h1 style=\"text-align: right; font-size: 24px; margin-right: 10px;\">Guillermo Díaz Aguado</h1>\n",
    "\n",
    "En esta sección se presentan los distintos elementos que intervienen en la comparación de modelos:\n",
    "* Estructuras de validación\n",
    "* Medidas de bondad de ajuste\n",
    "* Problemas que pueden surgir y como evitarlos"
   ]
  },
  {
   "cell_type": "markdown",
   "metadata": {},
   "source": [
    "# Intro sobre la comparación.\n",
    "## Comparación de un mismo modelo \n",
    "En general cuando se quiere evaluar o comparar un **MISMO MODELO** con **DISTINTOS DATOS** --> Mejor usar **AIC, BIC, AICC**.\n",
    "Estas medidas no funcionan mal para selección de variable dentro de un mismo tipo de modelo, pero hay opciones más apropiadas para determianr que modelo de entre varios modelos de diferente tipo funcionaran mejor para datos nuevos -> Con lo que estas medidas **NO SON SUFICIENTES**\n",
    "\n",
    "## Comparación de distintos modelos para mismos datos.\n",
    "Cuando se quieren comparar **DISTINTOS MODELOS** para **MISMOS DATOS** --> Mejor usar **Validacion cruzada, Validación cruzada repetida, train/test**"
   ]
  },
  {
   "cell_type": "markdown",
   "metadata": {},
   "source": [
    "# Bias-Variance Trade-Off, Intercambio Sesgo-Varianza\n",
    "\n",
    "* El **SESGO** representa el error cometido al ajustar el modelo durante el entrenamiento.\n",
    "* La **VARIANZA** representa el error cometido cuando se aplica el error obtenido a datos nuevos.\n",
    "<div style=\"text-align:center;\">\n",
    "    <img src=\"Imagenes_Comparacion_de_modelos/bias_variance.png\">\n",
    "</div>\n",
    "\n",
    "Al utilizar un modelo predictivos, el **error global** cometido por este, se debe a tres factores que se suman:\n",
    "* El error irreducible\n",
    "* El sesgo^2, que es el error promedio cometido por desfase de los verdaderos valores\n",
    "* La vaianza, que es la variabilidad de las predicciones del modelo al variar los datos utilizados para construirlo\n",
    "\n",
    "<div style=\"text-align:center;\">\n",
    "    <img src=\"Imagenes_Comparacion_de_modelos/curva_bias_variance.png\">\n",
    "</div>\n",
    "\n",
    "* Cuanto más complejo es el modelo, más se ajusta a los datos usados para su construcción, por lo que mayor es la varianza al usar datos nuevos.\n",
    "* Cuanto más simple es el modelo, más general es para datos nuevos, por lo que inferior es la varianza, pero como no se ajusta bien a los datos usados para la construccion -> aumenta el sesgo.\n",
    "\n"
   ]
  },
  {
   "cell_type": "code",
   "execution_count": null,
   "metadata": {},
   "outputs": [],
   "source": []
  }
 ],
 "metadata": {
  "language_info": {
   "name": "python"
  }
 },
 "nbformat": 4,
 "nbformat_minor": 2
}
