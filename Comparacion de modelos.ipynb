{
 "cells": [
  {
   "cell_type": "markdown",
   "metadata": {},
   "source": [
    "<h1 style=\"text-align: center;\"> Comparación de modelos</h1>\n",
    "<h1 style=\"text-align: right; font-size: 24px; margin-right: 10px;\">Guillermo Díaz Aguado</h1>"
   ]
  },
  {
   "cell_type": "markdown",
   "metadata": {},
   "source": [
    "# Intro sobre la comparación.\n",
    "## Comparación de un mismo modelo \n",
    "En general cuando se quiere evaluar o comparar un **MISMO MODELO** con **DISTINTOS DATOS** --> Mejor usar **AIC, BIC, AICC**\n",
    "\n",
    "## Comparación de distintos modelos para mismos datos.\n",
    "Cuando se quieren comparar **DISTINTOS MODELOS** para **MISMOS DATOS** --> Mejor usar **Validacion cruzada, Validación cruzada repetida, train/test**"
   ]
  },
  {
   "cell_type": "code",
   "execution_count": null,
   "metadata": {},
   "outputs": [],
   "source": []
  }
 ],
 "metadata": {
  "language_info": {
   "name": "python"
  }
 },
 "nbformat": 4,
 "nbformat_minor": 2
}
